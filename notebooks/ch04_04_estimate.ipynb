{
 "cells": [
  {
   "cell_type": "markdown",
   "metadata": {},
   "source": [
    "## 4.4 評価\n",
    "2020-06-09   \n",
    "上　予測結果　横　真値に戻す  \n",
    "make_cm関数を追加  \n",
    "2020-06-17  \n",
    "pred関数追加"
   ]
  },
  {
   "cell_type": "code",
   "execution_count": 1,
   "metadata": {},
   "outputs": [
    {
     "name": "stdout",
     "output_type": "stream",
     "text": [
      "Requirement already satisfied: setuptools in /opt/anaconda3/lib/python3.7/site-packages (from kiwisolver>=1.0.1->matplotlib->japanize-matplotlib) (46.0.0.post20200309)\r\n"
     ]
    }
   ],
   "source": [
    "# 日本語化ライブラリ導入\n",
    "!pip install japanize-matplotlib | tail -n 1"
   ]
  },
  {
   "cell_type": "code",
   "execution_count": 2,
   "metadata": {},
   "outputs": [],
   "source": [
    "# 共通事前処理\n",
    "\n",
    "# 余分なワーニングを非表示にする\n",
    "import warnings\n",
    "warnings.filterwarnings('ignore')\n",
    "\n",
    "# 必要ライブラリのimport\n",
    "import pandas as pd\n",
    "import numpy as np\n",
    "import matplotlib.pyplot as plt\n",
    "\n",
    "# matplotlib日本語化対応\n",
    "import japanize_matplotlib\n",
    "\n",
    "# データフレーム表示用関数\n",
    "from IPython.display import display\n",
    "\n",
    "# 表示オプション調整\n",
    "# データフレームですべての項目を表示\n",
    "pd.set_option(\"display.max_columns\",None)\n",
    "# numpyの浮動小数点の表示精度\n",
    "np.set_printoptions(suppress=True, precision=4)\n",
    "# データフレームでの表示精度\n",
    "pd.options.display.float_format = '{:.4f}'.format\n",
    "# グラフのデフォルトフォント指定\n",
    "plt.rcParams[\"font.size\"] = 14\n",
    "\n",
    "# 乱数の種\n",
    "random_seed = 123"
   ]
  },
  {
   "cell_type": "markdown",
   "metadata": {},
   "source": [
    "### 4.4.1 混同行列"
   ]
  },
  {
   "cell_type": "markdown",
   "metadata": {},
   "source": [
    "#### 混同行列"
   ]
  },
  {
   "cell_type": "code",
   "execution_count": 3,
   "metadata": {},
   "outputs": [],
   "source": [
    "# (1)データ読み込みから(4)データ分割まで\n",
    "\n",
    "# ライブラリのimport\n",
    "from sklearn.datasets import load_breast_cancer\n",
    "\n",
    "# データのロード\n",
    "cancer = load_breast_cancer()\n",
    "\n",
    "# 入力データ x\n",
    "x = cancer.data\n",
    "\n",
    "# 正解データ y\n",
    "# 良性: 0 悪性: 1に値を変更する\n",
    "y = 1- cancer.target\n",
    "\n",
    "# 入力データを2次元に絞り込み\n",
    "x2 = x[:,:2]\n",
    "\n",
    "# (4) データ分割\n",
    "from sklearn.model_selection import train_test_split\n",
    "x_train, x_test, y_train, y_test = train_test_split(x2, y, \n",
    "    train_size=0.7, test_size=0.3, random_state=random_seed)"
   ]
  },
  {
   "cell_type": "code",
   "execution_count": 4,
   "metadata": {},
   "outputs": [
    {
     "name": "stdout",
     "output_type": "stream",
     "text": [
      "score: 0.8772\n"
     ]
    }
   ],
   "source": [
    "# (5)アルゴリズム選定から(8)評価まで\n",
    "\n",
    "# (5) アルゴリズム選定 (ロジスティック回帰)\n",
    "from sklearn.linear_model import LogisticRegression\n",
    "algorism = LogisticRegression(random_state=random_seed)\n",
    "\n",
    "# (6) 学習\n",
    "algorism.fit(x_train, y_train)\n",
    "\n",
    "# (7) 予測\n",
    "y_pred = algorism.predict(x_test)\n",
    "\n",
    "# (8) 評価\n",
    "score = algorism.score(x_test, y_test)\n",
    "\n",
    "# 結果確認\n",
    "print(f'score: {score:.4f}')"
   ]
  },
  {
   "cell_type": "code",
   "execution_count": 5,
   "metadata": {},
   "outputs": [
    {
     "name": "stdout",
     "output_type": "stream",
     "text": [
      "[[101   2]\n",
      " [ 19  49]]\n"
     ]
    }
   ],
   "source": [
    "# 混同行列の計算\n",
    "\n",
    "# 必要ライブラリの取込み\n",
    "from sklearn.metrics import confusion_matrix\n",
    "\n",
    "# 混同行列の生成\n",
    "#   y_test: 検証データの正解データ\n",
    "#   y_pred: 検証データの予測結果\n",
    "matrix = confusion_matrix(y_test, y_pred)\n",
    "\n",
    "# 結果確認\n",
    "print(matrix)"
   ]
  },
  {
   "cell_type": "code",
   "execution_count": 6,
   "metadata": {},
   "outputs": [],
   "source": [
    "# 混同行列表示用関数\n",
    "\n",
    "def make_cm(matrix, columns):\n",
    "    # matrix numpy配列\n",
    "    \n",
    "    # columns 項目名リスト\n",
    "    n = len(columns)\n",
    "    \n",
    "    # '正解データ'をn回繰り返すリスト生成\n",
    "    act = ['正解データ'] * n\n",
    "    pred = ['予測結果'] * n\n",
    "    \n",
    "    #データフレーム生成\n",
    "    cm = pd.DataFrame(matrix, \n",
    "        columns=[pred, columns], index=[act, columns])\n",
    "    return cm"
   ]
  },
  {
   "cell_type": "code",
   "execution_count": 7,
   "metadata": {},
   "outputs": [
    {
     "data": {
      "text/html": [
       "<div>\n",
       "<style scoped>\n",
       "    .dataframe tbody tr th:only-of-type {\n",
       "        vertical-align: middle;\n",
       "    }\n",
       "\n",
       "    .dataframe tbody tr th {\n",
       "        vertical-align: top;\n",
       "    }\n",
       "\n",
       "    .dataframe thead tr th {\n",
       "        text-align: left;\n",
       "    }\n",
       "</style>\n",
       "<table border=\"1\" class=\"dataframe\">\n",
       "  <thead>\n",
       "    <tr>\n",
       "      <th></th>\n",
       "      <th></th>\n",
       "      <th colspan=\"2\" halign=\"left\">予測結果</th>\n",
       "    </tr>\n",
       "    <tr>\n",
       "      <th></th>\n",
       "      <th></th>\n",
       "      <th>良性</th>\n",
       "      <th>悪性</th>\n",
       "    </tr>\n",
       "  </thead>\n",
       "  <tbody>\n",
       "    <tr>\n",
       "      <th rowspan=\"2\" valign=\"top\">正解データ</th>\n",
       "      <th>良性</th>\n",
       "      <td>101</td>\n",
       "      <td>2</td>\n",
       "    </tr>\n",
       "    <tr>\n",
       "      <th>悪性</th>\n",
       "      <td>19</td>\n",
       "      <td>49</td>\n",
       "    </tr>\n",
       "  </tbody>\n",
       "</table>\n",
       "</div>"
      ],
      "text/plain": [
       "        予測結果    \n",
       "         良性  悪性\n",
       "正解データ 良性  101   2\n",
       "    悪性   19  49"
      ]
     },
     "metadata": {},
     "output_type": "display_data"
    }
   ],
   "source": [
    "# make_cmを使った混同行列標示\n",
    "cm = make_cm(matrix, ['良性', '悪性'])\n",
    "display(cm)"
   ]
  },
  {
   "cell_type": "markdown",
   "metadata": {},
   "source": [
    "### 4.4.2 精度・適合率・再現"
   ]
  },
  {
   "cell_type": "code",
   "execution_count": 8,
   "metadata": {},
   "outputs": [
    {
     "name": "stdout",
     "output_type": "stream",
     "text": [
      "適合率: 0.9608\n",
      "再現率: 0.7206\n",
      "F値:   0.8235\n"
     ]
    }
   ],
   "source": [
    "# 適合率・再現率・F値の計算\n",
    "\n",
    "# ライブラリの取込み\n",
    "from sklearn.metrics import precision_recall_fscore_support\n",
    "\n",
    "# 適合率・再現率・F値の計算\n",
    "precision, recall, fscore, _ = precision_recall_fscore_support(\n",
    "    y_test, y_pred, average='binary')\n",
    "\n",
    "# 結果の確認\n",
    "print(f'適合率: {precision:.4f}')\n",
    "print(f'再現率: {recall:.4f}')\n",
    "print(f'F値:   {fscore:.4f}')"
   ]
  },
  {
   "cell_type": "markdown",
   "metadata": {},
   "source": [
    "### 4.4.3 確率値と閾値"
   ]
  },
  {
   "cell_type": "code",
   "execution_count": 9,
   "metadata": {},
   "outputs": [
    {
     "name": "stdout",
     "output_type": "stream",
     "text": [
      "[[0.7889 0.2111]\n",
      " [0.0812 0.9188]\n",
      " [0.8383 0.1617]\n",
      " [0.9391 0.0609]\n",
      " [0.369  0.631 ]\n",
      " [0.9451 0.0549]\n",
      " [0.9399 0.0601]\n",
      " [0.9494 0.0506]\n",
      " [0.9617 0.0383]\n",
      " [0.9836 0.0164]]\n"
     ]
    }
   ],
   "source": [
    "# 確率値の取得\n",
    "y_proba = algorism.predict_proba(x_test)\n",
    "print(y_proba[10:20,:])"
   ]
  },
  {
   "cell_type": "code",
   "execution_count": 10,
   "metadata": {},
   "outputs": [
    {
     "name": "stdout",
     "output_type": "stream",
     "text": [
      "[0 1 0 0 1 0 0 0 0 0]\n",
      "[0.2111 0.9188 0.1617 0.0609 0.631  0.0549 0.0601 0.0506 0.0383 0.0164]\n"
     ]
    }
   ],
   "source": [
    "# positive(1)の確率値の取得\n",
    "y_proba1 = y_proba[:,1]\n",
    "\n",
    "# 結果確認\n",
    "print(y_pred[10:20])\n",
    "print(y_proba1[10:20])"
   ]
  },
  {
   "cell_type": "code",
   "execution_count": 11,
   "metadata": {},
   "outputs": [
    {
     "name": "stdout",
     "output_type": "stream",
     "text": [
      "[0 1 0 0 1 0 0 0 0 0]\n",
      "[0 1 0 0 0 0 0 0 0 0]\n"
     ]
    }
   ],
   "source": [
    "# 閾値を変化させる\n",
    "thres = 0.5\n",
    "print((y_proba1[10:20] > thres).astype(int))\n",
    "\n",
    "thres = 0.7\n",
    "print((y_proba1[10:20] > thres).astype(int))"
   ]
  },
  {
   "cell_type": "code",
   "execution_count": 12,
   "metadata": {},
   "outputs": [],
   "source": [
    "# 閾値を変更した場合の予測関数の定義\n",
    "def pred(algorism, x, thres):\n",
    "    # 確率値の取得(行列)\n",
    "    y_proba = algorism.predict_proba(x)\n",
    "    \n",
    "    # 予測結果1の確率値\n",
    "    y_proba1 =  y_proba[:,1]\n",
    "    \n",
    "    # 予測結果1の確率値 > 閾値\n",
    "    y_pred = (y_proba1 > thres).astype(int)\n",
    "    return y_pred"
   ]
  },
  {
   "cell_type": "code",
   "execution_count": 13,
   "metadata": {},
   "outputs": [
    {
     "name": "stdout",
     "output_type": "stream",
     "text": [
      "[0 1 0 0 1 0 0 0 0 0]\n",
      "[0 1 0 0 0 0 0 0 0 0]\n"
     ]
    }
   ],
   "source": [
    "# 閾値0.5で予測結果取得\n",
    "pred_05 = pred(algorism, x_test, 0.5)\n",
    "\n",
    "# 閾値0.7で予測結果取得\n",
    "pred_07 = pred(algorism, x_test, 0.7)\n",
    "\n",
    "# 結果確認\n",
    "print(pred_05[10:20])\n",
    "print(pred_07[10:20])"
   ]
  },
  {
   "cell_type": "markdown",
   "metadata": {},
   "source": [
    "### 4.4.4 PR曲線とROC曲線"
   ]
  },
  {
   "cell_type": "markdown",
   "metadata": {},
   "source": [
    "#### PR曲線"
   ]
  },
  {
   "cell_type": "code",
   "execution_count": 14,
   "metadata": {},
   "outputs": [
    {
     "data": {
      "text/html": [
       "<div>\n",
       "<style scoped>\n",
       "    .dataframe tbody tr th:only-of-type {\n",
       "        vertical-align: middle;\n",
       "    }\n",
       "\n",
       "    .dataframe tbody tr th {\n",
       "        vertical-align: top;\n",
       "    }\n",
       "\n",
       "    .dataframe thead th {\n",
       "        text-align: right;\n",
       "    }\n",
       "</style>\n",
       "<table border=\"1\" class=\"dataframe\">\n",
       "  <thead>\n",
       "    <tr style=\"text-align: right;\">\n",
       "      <th></th>\n",
       "      <th>閾値</th>\n",
       "      <th>適合率</th>\n",
       "      <th>再現率</th>\n",
       "    </tr>\n",
       "  </thead>\n",
       "  <tbody>\n",
       "    <tr>\n",
       "      <th>52</th>\n",
       "      <td>0.1473</td>\n",
       "      <td>0.7901</td>\n",
       "      <td>0.9412</td>\n",
       "    </tr>\n",
       "    <tr>\n",
       "      <th>62</th>\n",
       "      <td>0.2027</td>\n",
       "      <td>0.8310</td>\n",
       "      <td>0.8676</td>\n",
       "    </tr>\n",
       "    <tr>\n",
       "      <th>72</th>\n",
       "      <td>0.3371</td>\n",
       "      <td>0.9344</td>\n",
       "      <td>0.8382</td>\n",
       "    </tr>\n",
       "    <tr>\n",
       "      <th>82</th>\n",
       "      <td>0.5347</td>\n",
       "      <td>0.9608</td>\n",
       "      <td>0.7206</td>\n",
       "    </tr>\n",
       "    <tr>\n",
       "      <th>92</th>\n",
       "      <td>0.7763</td>\n",
       "      <td>0.9756</td>\n",
       "      <td>0.5882</td>\n",
       "    </tr>\n",
       "    <tr>\n",
       "      <th>102</th>\n",
       "      <td>0.9025</td>\n",
       "      <td>1.0000</td>\n",
       "      <td>0.4559</td>\n",
       "    </tr>\n",
       "    <tr>\n",
       "      <th>112</th>\n",
       "      <td>0.9829</td>\n",
       "      <td>1.0000</td>\n",
       "      <td>0.3088</td>\n",
       "    </tr>\n",
       "  </tbody>\n",
       "</table>\n",
       "</div>"
      ],
      "text/plain": [
       "        閾値    適合率    再現率\n",
       "52  0.1473 0.7901 0.9412\n",
       "62  0.2027 0.8310 0.8676\n",
       "72  0.3371 0.9344 0.8382\n",
       "82  0.5347 0.9608 0.7206\n",
       "92  0.7763 0.9756 0.5882\n",
       "102 0.9025 1.0000 0.4559\n",
       "112 0.9829 1.0000 0.3088"
      ]
     },
     "metadata": {},
     "output_type": "display_data"
    }
   ],
   "source": [
    "# PR曲線用配列の生成\n",
    "\n",
    "# ライブラリの導入\n",
    "from sklearn.metrics import precision_recall_curve\n",
    "\n",
    "# precision値, recall値と閾値の取得\n",
    "precision, recall, thresholds = precision_recall_curve(\n",
    "    y_test, y_proba1)\n",
    "\n",
    "# 結果をDataFrameにする\n",
    "df_pr = pd.DataFrame([thresholds, precision, recall]).T\n",
    "df_pr.columns = ['閾値', '適合率', '再現率']\n",
    "\n",
    "# 閾値 0.5の周辺を表示\n",
    "display(df_pr[52:122:10])"
   ]
  },
  {
   "cell_type": "code",
   "execution_count": 15,
   "metadata": {},
   "outputs": [
    {
     "data": {
      "image/png": "[encoded data removed]",
      "text/plain": [
       "<Figure size 432x432 with 1 Axes>"
      ]
     },
     "metadata": {
      "needs_background": "light"
     },
     "output_type": "display_data"
    }
   ],
   "source": [
    "# PR曲線の描画\n",
    "\n",
    "# 描画サイズ指定\n",
    "plt.figure(figsize=(6,6))\n",
    "\n",
    "# グラフ領域の塗りつぶし\n",
    "plt.fill_between(recall, precision, 0)\n",
    "\n",
    "# x, yの範囲指定\n",
    "plt.xlim([0.0, 1.0])\n",
    "plt.ylim([0.0, 1.0])\n",
    "\n",
    "# ラベル・タイトル表示\n",
    "plt.xlabel('再現率')\n",
    "plt.ylabel('適合率')\n",
    "plt.title('PR曲線')\n",
    "plt.show()"
   ]
  },
  {
   "cell_type": "code",
   "execution_count": 16,
   "metadata": {},
   "outputs": [
    {
     "name": "stdout",
     "output_type": "stream",
     "text": [
      "RP曲線下面積: 0.9459\n"
     ]
    }
   ],
   "source": [
    "# PR曲線下面積の計算\n",
    "from sklearn.metrics import auc\n",
    "pr_auc = auc(recall, precision)\n",
    "print(f'RP曲線下面積: {pr_auc:.4f}')"
   ]
  },
  {
   "cell_type": "markdown",
   "metadata": {},
   "source": [
    "#### ROC曲線"
   ]
  },
  {
   "cell_type": "code",
   "execution_count": 17,
   "metadata": {},
   "outputs": [
    {
     "data": {
      "text/html": [
       "<div>\n",
       "<style scoped>\n",
       "    .dataframe tbody tr th:only-of-type {\n",
       "        vertical-align: middle;\n",
       "    }\n",
       "\n",
       "    .dataframe tbody tr th {\n",
       "        vertical-align: top;\n",
       "    }\n",
       "\n",
       "    .dataframe thead th {\n",
       "        text-align: right;\n",
       "    }\n",
       "</style>\n",
       "<table border=\"1\" class=\"dataframe\">\n",
       "  <thead>\n",
       "    <tr style=\"text-align: right;\">\n",
       "      <th></th>\n",
       "      <th>閾値</th>\n",
       "      <th>偽陽性率</th>\n",
       "      <th>敏感度</th>\n",
       "    </tr>\n",
       "  </thead>\n",
       "  <tbody>\n",
       "    <tr>\n",
       "      <th>21</th>\n",
       "      <td>0.9829</td>\n",
       "      <td>0.0000</td>\n",
       "      <td>0.3088</td>\n",
       "    </tr>\n",
       "    <tr>\n",
       "      <th>31</th>\n",
       "      <td>0.9025</td>\n",
       "      <td>0.0000</td>\n",
       "      <td>0.4559</td>\n",
       "    </tr>\n",
       "    <tr>\n",
       "      <th>41</th>\n",
       "      <td>0.7763</td>\n",
       "      <td>0.0097</td>\n",
       "      <td>0.5882</td>\n",
       "    </tr>\n",
       "    <tr>\n",
       "      <th>51</th>\n",
       "      <td>0.5347</td>\n",
       "      <td>0.0194</td>\n",
       "      <td>0.7206</td>\n",
       "    </tr>\n",
       "    <tr>\n",
       "      <th>61</th>\n",
       "      <td>0.3371</td>\n",
       "      <td>0.0388</td>\n",
       "      <td>0.8382</td>\n",
       "    </tr>\n",
       "    <tr>\n",
       "      <th>71</th>\n",
       "      <td>0.2027</td>\n",
       "      <td>0.1165</td>\n",
       "      <td>0.8676</td>\n",
       "    </tr>\n",
       "    <tr>\n",
       "      <th>81</th>\n",
       "      <td>0.1473</td>\n",
       "      <td>0.1650</td>\n",
       "      <td>0.9412</td>\n",
       "    </tr>\n",
       "  </tbody>\n",
       "</table>\n",
       "</div>"
      ],
      "text/plain": [
       "       閾値   偽陽性率    敏感度\n",
       "21 0.9829 0.0000 0.3088\n",
       "31 0.9025 0.0000 0.4559\n",
       "41 0.7763 0.0097 0.5882\n",
       "51 0.5347 0.0194 0.7206\n",
       "61 0.3371 0.0388 0.8382\n",
       "71 0.2027 0.1165 0.8676\n",
       "81 0.1473 0.1650 0.9412"
      ]
     },
     "metadata": {},
     "output_type": "display_data"
    }
   ],
   "source": [
    "# ROC曲線用配列の生成\n",
    "\n",
    "# ライブラリの導入\n",
    "from sklearn.metrics import roc_curve\n",
    "\n",
    "# 偽陽性値, 敏感度と閾値の取得\n",
    "\n",
    "fpr, tpr, thresholds = roc_curve(\n",
    "    y_test, y_proba1,drop_intermediate=False)\n",
    "\n",
    "# 結果をDataFrameにする\n",
    "df_roc = pd.DataFrame([thresholds, fpr, tpr]).T\n",
    "df_roc.columns = ['閾値', '偽陽性率', '敏感度']\n",
    "\n",
    "# 閾値 0.5の周辺を表示\n",
    "display(df_roc[21:91:10])"
   ]
  },
  {
   "cell_type": "code",
   "execution_count": 18,
   "metadata": {},
   "outputs": [
    {
     "data": {
      "image/png": "[encoded data removed]",
      "text/plain": [
       "<Figure size 432x432 with 1 Axes>"
      ]
     },
     "metadata": {
      "needs_background": "light"
     },
     "output_type": "display_data"
    }
   ],
   "source": [
    "# ROC曲線の描画\n",
    "\n",
    "# 描画サイズ指定\n",
    "plt.figure(figsize=(6,6))\n",
    "\n",
    "# 点線表示\n",
    "plt.plot([0, 1], [0, 1], 'k--')\n",
    "\n",
    "# グラフ領域の塗りつぶし\n",
    "plt.fill_between(fpr, tpr, 0)\n",
    "\n",
    "# x, yの範囲指定\n",
    "plt.xlim([0.0, 1.0])\n",
    "plt.ylim([0.0, 1.0])\n",
    "\n",
    "# ラベル・タイトル表示\n",
    "plt.xlabel('偽陽性率')\n",
    "plt.ylabel('敏感度')\n",
    "plt.title('ROC曲線')\n",
    "plt.show()"
   ]
  },
  {
   "cell_type": "code",
   "execution_count": 19,
   "metadata": {},
   "outputs": [
    {
     "name": "stdout",
     "output_type": "stream",
     "text": [
      "ROC曲線下面積:0.9522\n"
     ]
    }
   ],
   "source": [
    "# ROC曲線下面積の計算\n",
    "roc_auc = auc(fpr, tpr)\n",
    "print(f'ROC曲線下面積:{roc_auc:.4f}')"
   ]
  },
  {
   "cell_type": "markdown",
   "metadata": {},
   "source": [
    "#### より精度のいいモデルでROCカーブを描画"
   ]
  },
  {
   "cell_type": "code",
   "execution_count": 20,
   "metadata": {},
   "outputs": [],
   "source": [
    "from sklearn.model_selection import train_test_split\n",
    "x_train, x_test, y_train, y_test = train_test_split(\n",
    "  x, y, train_size=0.7, test_size=0.3, random_state=random_seed)\n",
    "algorism = LogisticRegression()\n",
    "algorism.fit(x_train, y_train)\n",
    "y_pred = algorism.predict(x_test)\n",
    "y_proba1 = algorism.predict_proba(x_test)[:,1]\n",
    "fpr, tpr, thresholds = roc_curve(y_test, y_proba1)"
   ]
  },
  {
   "cell_type": "code",
   "execution_count": 21,
   "metadata": {},
   "outputs": [
    {
     "data": {
      "image/png": "[encoded data removed]",
      "text/plain": [
       "<Figure size 432x432 with 1 Axes>"
      ]
     },
     "metadata": {
      "needs_background": "light"
     },
     "output_type": "display_data"
    }
   ],
   "source": [
    "# ROC曲線の描画\n",
    "\n",
    "plt.figure(figsize=(6,6))\n",
    "plt.plot([0, 1], [0, 1], 'k--')\n",
    "plt.fill_between(fpr, tpr, 0)\n",
    "plt.xlim([0.0, 1.0])\n",
    "plt.ylim([0.0, 1.0])\n",
    "plt.xlabel('偽陽性率')\n",
    "plt.ylabel('敏感度')\n",
    "plt.title('ROC曲線')\n",
    "plt.show()"
   ]
  },
  {
   "cell_type": "code",
   "execution_count": 22,
   "metadata": {},
   "outputs": [
    {
     "name": "stdout",
     "output_type": "stream",
     "text": [
      "ROC曲線下面積:0.9923\n"
     ]
    }
   ],
   "source": [
    "# ROC AUCの計算\n",
    "roc_auc = auc(fpr, tpr)\n",
    "print(f'ROC曲線下面積:{roc_auc:.4f}')"
   ]
  },
  {
   "cell_type": "markdown",
   "metadata": {},
   "source": [
    "### 4.4.5 入力項目の重要度"
   ]
  },
  {
   "cell_type": "markdown",
   "metadata": {},
   "source": [
    "#### ランダムフォレストのモデルを作るまで"
   ]
  },
  {
   "cell_type": "code",
   "execution_count": 23,
   "metadata": {},
   "outputs": [
    {
     "data": {
      "text/plain": [
       "RandomForestClassifier(bootstrap=True, ccp_alpha=0.0, class_weight=None,\n",
       "                       criterion='gini', max_depth=None, max_features='auto',\n",
       "                       max_leaf_nodes=None, max_samples=None,\n",
       "                       min_impurity_decrease=0.0, min_impurity_split=None,\n",
       "                       min_samples_leaf=1, min_samples_split=2,\n",
       "                       min_weight_fraction_leaf=0.0, n_estimators=100,\n",
       "                       n_jobs=None, oob_score=False, random_state=123,\n",
       "                       verbose=0, warm_start=False)"
      ]
     },
     "execution_count": 23,
     "metadata": {},
     "output_type": "execute_result"
    }
   ],
   "source": [
    "# ランダムフォレストのモデルを作るまで\n",
    "\n",
    "# サンプルデータの読み込み\n",
    "import seaborn as sns\n",
    "df_iris = sns.load_dataset(\"iris\")\n",
    "columns_i = ['がく片長', 'がく片幅', '花弁長', '花弁幅', '種別']\n",
    "df_iris.columns = columns_i\n",
    "\n",
    "# 入力データ x\n",
    "x = df_iris[['がく片長', 'がく片幅', '花弁長', '花弁幅']]\n",
    "\n",
    "# 正解データ y\n",
    "y = df_iris['種別']\n",
    "\n",
    "# アルゴリズムの選定(ランダムフォレスト)\n",
    "from sklearn.ensemble import RandomForestClassifier\n",
    "algorism = RandomForestClassifier(random_state=random_seed)\n",
    "\n",
    "# 学習\n",
    "algorism.fit(x, y)"
   ]
  },
  {
   "cell_type": "markdown",
   "metadata": {},
   "source": [
    "#### 重要度ベクトルの取得"
   ]
  },
  {
   "cell_type": "code",
   "execution_count": 24,
   "metadata": {},
   "outputs": [
    {
     "name": "stdout",
     "output_type": "stream",
     "text": [
      "花弁長    0.4611\n",
      "花弁幅    0.4257\n",
      "がく片長   0.0874\n",
      "がく片幅   0.0257\n",
      "dtype: float64\n"
     ]
    }
   ],
   "source": [
    "# 重要度ベクトルの取得\n",
    "importances = algorism.feature_importances_\n",
    "\n",
    "# 項目名をキーにSeriesを生成\n",
    "w = pd.Series(importances, index=x.columns)\n",
    "\n",
    "# 値の大きい順にソート\n",
    "u = w.sort_values(ascending=False)\n",
    "\n",
    "# 結果確認\n",
    "print(u)"
   ]
  },
  {
   "cell_type": "code",
   "execution_count": 25,
   "metadata": {},
   "outputs": [
    {
     "data": {
      "image/png": "[encoded data removed]",
      "text/plain": [
       "<Figure size 432x288 with 1 Axes>"
      ]
     },
     "metadata": {
      "needs_background": "light"
     },
     "output_type": "display_data"
    }
   ],
   "source": [
    "# 重要度の棒グラフ表示\n",
    "\n",
    "# 棒グラフ表示\n",
    "plt.bar(range(len(u)), u, color='b', align='center')\n",
    "\n",
    "# 項目名表示(90度回転)\n",
    "plt.xticks(range(len(u)), u.index, rotation=90)\n",
    "\n",
    "# タイトル表示\n",
    "plt.title('入力変数の重要度')\n",
    "\n",
    "plt.show()"
   ]
  },
  {
   "cell_type": "code",
   "execution_count": 26,
   "metadata": {},
   "outputs": [
    {
     "data": {
      "image/png": "[encoded data removed]",
      "text/plain": [
       "<Figure size 432x288 with 1 Axes>"
      ]
     },
     "metadata": {
      "needs_background": "light"
     },
     "output_type": "display_data"
    }
   ],
   "source": [
    "# 決定木の場合\n",
    "\n",
    "from sklearn.tree import DecisionTreeClassifier\n",
    "algorism = DecisionTreeClassifier(random_state=random_seed)\n",
    "algorism.fit(x, y)\n",
    "importances = algorism.feature_importances_\n",
    "w = pd.Series(importances, index=x.columns)\n",
    "u = w.sort_values(ascending=False)\n",
    "plt.title('入力変数の重要度(決定木)')\n",
    "plt.bar(range(len(u)), u, color='b', align='center')\n",
    "plt.xticks(range(len(u)), u.index, rotation=90)\n",
    "plt.show()"
   ]
  },
  {
   "cell_type": "code",
   "execution_count": 27,
   "metadata": {},
   "outputs": [
    {
     "data": {
      "image/png": "[encoded data removed]",
      "text/plain": [
       "<Figure size 432x288 with 1 Axes>"
      ]
     },
     "metadata": {
      "needs_background": "light"
     },
     "output_type": "display_data"
    }
   ],
   "source": [
    "# XGBoostの場合\n",
    "\n",
    "import xgboost\n",
    "algorism = xgboost.XGBClassifier(random_state=random_seed)\n",
    "algorism.fit(x, y)\n",
    "importances = algorism.feature_importances_\n",
    "w = pd.Series(importances, index=x.columns)\n",
    "u = w.sort_values(ascending=False)\n",
    "plt.title('入力変数の重要度(XGBoost)')\n",
    "plt.bar(range(len(u)), u, color='b', align='center')\n",
    "plt.xticks(range(len(u)), u.index, rotation=90)\n",
    "plt.show()"
   ]
  },
  {
   "cell_type": "markdown",
   "metadata": {},
   "source": [
    "### 4.4.6 回帰モデルの評価方法"
   ]
  },
  {
   "cell_type": "code",
   "execution_count": 28,
   "metadata": {},
   "outputs": [
    {
     "data": {
      "text/html": [
       "<div>\n",
       "<style scoped>\n",
       "    .dataframe tbody tr th:only-of-type {\n",
       "        vertical-align: middle;\n",
       "    }\n",
       "\n",
       "    .dataframe tbody tr th {\n",
       "        vertical-align: top;\n",
       "    }\n",
       "\n",
       "    .dataframe thead th {\n",
       "        text-align: right;\n",
       "    }\n",
       "</style>\n",
       "<table border=\"1\" class=\"dataframe\">\n",
       "  <thead>\n",
       "    <tr style=\"text-align: right;\">\n",
       "      <th></th>\n",
       "      <th>CRIM</th>\n",
       "      <th>ZN</th>\n",
       "      <th>INDUS</th>\n",
       "      <th>CHAS</th>\n",
       "      <th>NOX</th>\n",
       "      <th>RM</th>\n",
       "      <th>AGE</th>\n",
       "      <th>DIS</th>\n",
       "      <th>RAD</th>\n",
       "      <th>TAX</th>\n",
       "      <th>PTRATIO</th>\n",
       "      <th>B</th>\n",
       "      <th>LSTAT</th>\n",
       "    </tr>\n",
       "  </thead>\n",
       "  <tbody>\n",
       "    <tr>\n",
       "      <th>0</th>\n",
       "      <td>0.0063</td>\n",
       "      <td>18.0000</td>\n",
       "      <td>2.3100</td>\n",
       "      <td>0.0000</td>\n",
       "      <td>0.5380</td>\n",
       "      <td>6.5750</td>\n",
       "      <td>65.2000</td>\n",
       "      <td>4.0900</td>\n",
       "      <td>1.0000</td>\n",
       "      <td>296.0000</td>\n",
       "      <td>15.3000</td>\n",
       "      <td>396.9000</td>\n",
       "      <td>4.9800</td>\n",
       "    </tr>\n",
       "    <tr>\n",
       "      <th>1</th>\n",
       "      <td>0.0273</td>\n",
       "      <td>0.0000</td>\n",
       "      <td>7.0700</td>\n",
       "      <td>0.0000</td>\n",
       "      <td>0.4690</td>\n",
       "      <td>6.4210</td>\n",
       "      <td>78.9000</td>\n",
       "      <td>4.9671</td>\n",
       "      <td>2.0000</td>\n",
       "      <td>242.0000</td>\n",
       "      <td>17.8000</td>\n",
       "      <td>396.9000</td>\n",
       "      <td>9.1400</td>\n",
       "    </tr>\n",
       "    <tr>\n",
       "      <th>2</th>\n",
       "      <td>0.0273</td>\n",
       "      <td>0.0000</td>\n",
       "      <td>7.0700</td>\n",
       "      <td>0.0000</td>\n",
       "      <td>0.4690</td>\n",
       "      <td>7.1850</td>\n",
       "      <td>61.1000</td>\n",
       "      <td>4.9671</td>\n",
       "      <td>2.0000</td>\n",
       "      <td>242.0000</td>\n",
       "      <td>17.8000</td>\n",
       "      <td>392.8300</td>\n",
       "      <td>4.0300</td>\n",
       "    </tr>\n",
       "    <tr>\n",
       "      <th>3</th>\n",
       "      <td>0.0324</td>\n",
       "      <td>0.0000</td>\n",
       "      <td>2.1800</td>\n",
       "      <td>0.0000</td>\n",
       "      <td>0.4580</td>\n",
       "      <td>6.9980</td>\n",
       "      <td>45.8000</td>\n",
       "      <td>6.0622</td>\n",
       "      <td>3.0000</td>\n",
       "      <td>222.0000</td>\n",
       "      <td>18.7000</td>\n",
       "      <td>394.6300</td>\n",
       "      <td>2.9400</td>\n",
       "    </tr>\n",
       "    <tr>\n",
       "      <th>4</th>\n",
       "      <td>0.0691</td>\n",
       "      <td>0.0000</td>\n",
       "      <td>2.1800</td>\n",
       "      <td>0.0000</td>\n",
       "      <td>0.4580</td>\n",
       "      <td>7.1470</td>\n",
       "      <td>54.2000</td>\n",
       "      <td>6.0622</td>\n",
       "      <td>3.0000</td>\n",
       "      <td>222.0000</td>\n",
       "      <td>18.7000</td>\n",
       "      <td>396.9000</td>\n",
       "      <td>5.3300</td>\n",
       "    </tr>\n",
       "  </tbody>\n",
       "</table>\n",
       "</div>"
      ],
      "text/plain": [
       "    CRIM      ZN  INDUS   CHAS    NOX     RM     AGE    DIS    RAD      TAX  \\\n",
       "0 0.0063 18.0000 2.3100 0.0000 0.5380 6.5750 65.2000 4.0900 1.0000 296.0000   \n",
       "1 0.0273  0.0000 7.0700 0.0000 0.4690 6.4210 78.9000 4.9671 2.0000 242.0000   \n",
       "2 0.0273  0.0000 7.0700 0.0000 0.4690 7.1850 61.1000 4.9671 2.0000 242.0000   \n",
       "3 0.0324  0.0000 2.1800 0.0000 0.4580 6.9980 45.8000 6.0622 3.0000 222.0000   \n",
       "4 0.0691  0.0000 2.1800 0.0000 0.4580 7.1470 54.2000 6.0622 3.0000 222.0000   \n",
       "\n",
       "   PTRATIO        B  LSTAT  \n",
       "0  15.3000 396.9000 4.9800  \n",
       "1  17.8000 396.9000 9.1400  \n",
       "2  17.8000 392.8300 4.0300  \n",
       "3  18.7000 394.6300 2.9400  \n",
       "4  18.7000 396.9000 5.3300  "
      ]
     },
     "metadata": {},
     "output_type": "display_data"
    },
    {
     "data": {
      "text/html": [
       "<div>\n",
       "<style scoped>\n",
       "    .dataframe tbody tr th:only-of-type {\n",
       "        vertical-align: middle;\n",
       "    }\n",
       "\n",
       "    .dataframe tbody tr th {\n",
       "        vertical-align: top;\n",
       "    }\n",
       "\n",
       "    .dataframe thead th {\n",
       "        text-align: right;\n",
       "    }\n",
       "</style>\n",
       "<table border=\"1\" class=\"dataframe\">\n",
       "  <thead>\n",
       "    <tr style=\"text-align: right;\">\n",
       "      <th></th>\n",
       "      <th>RM</th>\n",
       "    </tr>\n",
       "  </thead>\n",
       "  <tbody>\n",
       "    <tr>\n",
       "      <th>0</th>\n",
       "      <td>6.5750</td>\n",
       "    </tr>\n",
       "    <tr>\n",
       "      <th>1</th>\n",
       "      <td>6.4210</td>\n",
       "    </tr>\n",
       "    <tr>\n",
       "      <th>2</th>\n",
       "      <td>7.1850</td>\n",
       "    </tr>\n",
       "    <tr>\n",
       "      <th>3</th>\n",
       "      <td>6.9980</td>\n",
       "    </tr>\n",
       "    <tr>\n",
       "      <th>4</th>\n",
       "      <td>7.1470</td>\n",
       "    </tr>\n",
       "  </tbody>\n",
       "</table>\n",
       "</div>"
      ],
      "text/plain": [
       "      RM\n",
       "0 6.5750\n",
       "1 6.4210\n",
       "2 7.1850\n",
       "3 6.9980\n",
       "4 7.1470"
      ]
     },
     "metadata": {},
     "output_type": "display_data"
    },
    {
     "name": "stdout",
     "output_type": "stream",
     "text": [
      "[24.  21.6 34.7 33.4 36.2]\n"
     ]
    }
   ],
   "source": [
    "# データ読み込みからデータ分割まで\n",
    "\n",
    "# データ読み込み(ボストン・データセット)\n",
    "from sklearn.datasets import load_boston\n",
    "boston = load_boston()\n",
    "\n",
    "# df: 入力データ\n",
    "df = pd.DataFrame(boston.data, columns=boston.feature_names)\n",
    "\n",
    "# y: 正解データ\n",
    "y = boston.target\n",
    "\n",
    "# 1項目だけの入力データ df1を作る\n",
    "df1 = df[['RM']]\n",
    "\n",
    "# 結果確認\n",
    "display(df.head())\n",
    "display(df1.head())\n",
    "print(y[:5])"
   ]
  },
  {
   "cell_type": "code",
   "execution_count": 29,
   "metadata": {},
   "outputs": [],
   "source": [
    "# アルゴリズム選定から予測まで\n",
    "\n",
    "# アルゴリズム: XGBRegressor\n",
    "from xgboost import XGBRegressor\n",
    "algorism1 = XGBRegressor(objective ='reg:squarederror',\n",
    "    random_state=random_seed)\n",
    "\n",
    "# 学習 (入力データにdf1を利用)\n",
    "algorism1.fit(df1, y)\n",
    "\n",
    "# 予測\n",
    "y_pred1 = algorism1.predict(df1)\n",
    "\n",
    "\n",
    "# アルゴリズム: XGBRegressor\n",
    "from xgboost import XGBRegressor\n",
    "algorism2 = XGBRegressor(objective ='reg:squarederror',\n",
    "    random_state=random_seed)\n",
    "\n",
    "# 学習 (入力データにdfを利用)\n",
    "algorism2.fit(df, y)\n",
    "\n",
    "# 予測\n",
    "y_pred2 = algorism2.predict(df)"
   ]
  },
  {
   "cell_type": "code",
   "execution_count": 30,
   "metadata": {},
   "outputs": [
    {
     "name": "stdout",
     "output_type": "stream",
     "text": [
      "y[:5] [24.  21.6 34.7 33.4 36.2]\n",
      "y_pred1[:5] [25.438  20.3028 33.6333 31.4608 33.9829]\n",
      "y_pred2[:5] [26.6479 22.2483 34.0721 34.315  35.4908]\n"
     ]
    }
   ],
   "source": [
    "# 結果確認\n",
    "print(f'y[:5] {y[:5]}')\n",
    "print(f'y_pred1[:5] {y_pred1[:5]}')\n",
    "print(f'y_pred2[:5] {y_pred2[:5]}')"
   ]
  },
  {
   "cell_type": "code",
   "execution_count": 31,
   "metadata": {},
   "outputs": [
    {
     "name": "stdout",
     "output_type": "stream",
     "text": [
      "[ 5. 50.]\n"
     ]
    }
   ],
   "source": [
    "# yの最大値と最小値の計算\n",
    "y_range = np.array([y.min(), y.max()])\n",
    "\n",
    "# 結果確認\n",
    "print(y_range)"
   ]
  },
  {
   "cell_type": "markdown",
   "metadata": {},
   "source": [
    "#### 散布図表示"
   ]
  },
  {
   "cell_type": "markdown",
   "metadata": {},
   "source": [
    "#### 1入力変数の場合"
   ]
  },
  {
   "cell_type": "code",
   "execution_count": 32,
   "metadata": {},
   "outputs": [
    {
     "data": {
      "image/png": "[encoded data removed]",
      "text/plain": [
       "<Figure size 432x432 with 1 Axes>"
      ]
     },
     "metadata": {
      "needs_background": "light"
     },
     "output_type": "display_data"
    }
   ],
   "source": [
    "# 散布図による結果確認(1入力変数)\n",
    "\n",
    "# 描画サイズ指定\n",
    "plt.figure(figsize=(6,6))\n",
    "\n",
    "# 散布図\n",
    "plt.scatter(y, y_pred1)\n",
    "\n",
    "# 正解データ=予測結果の直線\n",
    "plt.plot(y_range, y_range, 'k--')\n",
    "\n",
    "# ラベル・タイトル\n",
    "plt.xlabel('正解データ')\n",
    "plt.ylabel('予測結果')\n",
    "plt.title('正解データと予測結果の散布図表示(1入力変数)')\n",
    "\n",
    "plt.show()"
   ]
  },
  {
   "cell_type": "markdown",
   "metadata": {},
   "source": [
    "#### 13入力変数の場合"
   ]
  },
  {
   "cell_type": "code",
   "execution_count": 33,
   "metadata": {},
   "outputs": [
    {
     "data": {
      "image/png": "[encoded data removed]",
      "text/plain": [
       "<Figure size 432x432 with 1 Axes>"
      ]
     },
     "metadata": {
      "needs_background": "light"
     },
     "output_type": "display_data"
    }
   ],
   "source": [
    "# 散布図による結果確認(13入力変数)\n",
    "\n",
    "# 描画サイズ指定\n",
    "plt.figure(figsize=(6,6))\n",
    "\n",
    "# 散布図\n",
    "plt.scatter(y, y_pred2)\n",
    "\n",
    "# 正解データ=予測結果の直線\n",
    "plt.plot(y_range, y_range, 'k--')\n",
    "\n",
    "# ラベル・タイトル\n",
    "plt.xlabel('正解データ')\n",
    "plt.ylabel('予測結果')\n",
    "plt.title('正解データと予測結果の散布図表示(13入力変数)')\n",
    "\n",
    "plt.show()"
   ]
  },
  {
   "cell_type": "markdown",
   "metadata": {},
   "source": [
    "#### R2 score"
   ]
  },
  {
   "cell_type": "code",
   "execution_count": 34,
   "metadata": {},
   "outputs": [
    {
     "name": "stdout",
     "output_type": "stream",
     "text": [
      "R2 score(1入力変数): 0.7424\n"
     ]
    }
   ],
   "source": [
    "# r2 scoreの計算(1入力変数)\n",
    "from sklearn.metrics import r2_score\n",
    "r2_score1 = r2_score(y, y_pred1)\n",
    "print(f'R2 score(1入力変数): {r2_score1:.4f}')"
   ]
  },
  {
   "cell_type": "code",
   "execution_count": 35,
   "metadata": {},
   "outputs": [
    {
     "name": "stdout",
     "output_type": "stream",
     "text": [
      "R2 score(13入力変数): 0.9720\n"
     ]
    }
   ],
   "source": [
    "# r2 scoreの計算(13入力変数)\n",
    "r2_score2 = r2_score(y, y_pred2)\n",
    "print(f'R2 score(13入力変数): {r2_score2:.4f}')"
   ]
  },
  {
   "cell_type": "code",
   "execution_count": null,
   "metadata": {},
   "outputs": [],
   "source": []
  }
 ],
 "metadata": {
  "kernelspec": {
   "display_name": "Python 3",
   "language": "python",
   "name": "python3"
  },
  "language_info": {
   "codemirror_mode": {
    "name": "ipython",
    "version": 3
   },
   "file_extension": ".py",
   "mimetype": "text/x-python",
   "name": "python",
   "nbconvert_exporter": "python",
   "pygments_lexer": "ipython3",
   "version": "3.7.6"
  }
 },
 "nbformat": 4,
 "nbformat_minor": 2
}
