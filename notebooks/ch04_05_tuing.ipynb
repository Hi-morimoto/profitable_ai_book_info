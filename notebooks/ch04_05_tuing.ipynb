{
 "cells": [
  {
   "cell_type": "markdown",
   "metadata": {},
   "source": [
    "## 4.5 チューニング"
   ]
  },
  {
   "cell_type": "markdown",
   "metadata": {},
   "source": [
    "### 共通事前処理"
   ]
  },
  {
   "cell_type": "code",
   "execution_count": 1,
   "metadata": {},
   "outputs": [
    {
     "name": "stdout",
     "output_type": "stream",
     "text": [
      "Requirement already satisfied: six>=1.5 in /opt/anaconda3/lib/python3.7/site-packages (from python-dateutil>=2.1->matplotlib->japanize-matplotlib) (1.14.0)\r\n"
     ]
    }
   ],
   "source": [
    "# 日本語化ライブラリ導入\n",
    "!pip install japanize-matplotlib | tail -n 1"
   ]
  },
  {
   "cell_type": "code",
   "execution_count": 2,
   "metadata": {},
   "outputs": [],
   "source": [
    "# 共通事前処理\n",
    "\n",
    "# 余分なワーニングを非表示にする\n",
    "import warnings\n",
    "warnings.filterwarnings('ignore')\n",
    "\n",
    "# 必要ライブラリのimport\n",
    "import pandas as pd\n",
    "import numpy as np\n",
    "import matplotlib.pyplot as plt\n",
    "\n",
    "# matplotlib日本語化対応\n",
    "import japanize_matplotlib\n",
    "\n",
    "# データフレーム表示用関数\n",
    "from IPython.display import display\n",
    "\n",
    "# 表示オプション調整\n",
    "# データフレームですべての項目を表示\n",
    "pd.set_option(\"display.max_columns\",None)\n",
    "# numpyの浮動小数点の表示精度\n",
    "np.set_printoptions(suppress=True, precision=4)\n",
    "# データフレームでの表示精度\n",
    "pd.options.display.float_format = '{:.4f}'.format\n",
    "# グラフのデフォルトフォント指定\n",
    "plt.rcParams[\"font.size\"] = 14\n",
    "\n",
    "# 乱数の種\n",
    "random_seed = 123"
   ]
  },
  {
   "cell_type": "markdown",
   "metadata": {},
   "source": [
    "### 4.5.1 サンプルデータの読み込み"
   ]
  },
  {
   "cell_type": "code",
   "execution_count": 3,
   "metadata": {
    "scrolled": true
   },
   "outputs": [],
   "source": [
    "# サンプルデータの読み込み\n",
    "# (乳がん疾患データ)\n",
    "\n",
    "# データのロード\n",
    "from sklearn.datasets import load_breast_cancer\n",
    "cancer = load_breast_cancer()\n",
    "\n",
    "# 入力データ: x (30次元)\n",
    "# 正解データ: y\n",
    "x = cancer.data\n",
    "y = cancer.target"
   ]
  },
  {
   "cell_type": "code",
   "execution_count": 4,
   "metadata": {},
   "outputs": [
    {
     "name": "stdout",
     "output_type": "stream",
     "text": [
      "(569, 30)\n",
      "(512, 30)\n",
      "(57, 30)\n"
     ]
    }
   ],
   "source": [
    "# サンプルデータの分割\n",
    "\n",
    "# データ分割のパラメータ\n",
    "test_size = 0.1\n",
    "\n",
    "# データ分割\n",
    "from sklearn.model_selection import train_test_split\n",
    "x_train, x_test, y_train, y_test = train_test_split(x, y, \n",
    "    test_size=test_size, random_state=random_seed,\n",
    "    stratify=y)\n",
    "\n",
    "# 分割後サイズ確認\n",
    "print(x.shape)\n",
    "print(x_train.shape)\n",
    "print(x_test.shape)"
   ]
  },
  {
   "cell_type": "markdown",
   "metadata": {},
   "source": [
    "### 4.5.2 チューニング対象"
   ]
  },
  {
   "cell_type": "markdown",
   "metadata": {},
   "source": [
    "#### アルゴリズム"
   ]
  },
  {
   "cell_type": "code",
   "execution_count": 5,
   "metadata": {},
   "outputs": [],
   "source": [
    "# 複数アルゴリズムで精度を比較\n",
    "# 結果が同じになるようrandom_stateは同一にする\n",
    "\n",
    "# 線形回帰\n",
    "from sklearn.linear_model import LogisticRegression\n",
    "algorism1 = LogisticRegression(random_state=random_seed)\n",
    "\n",
    "# サポートベクターマシン(カーネル)\n",
    "from sklearn.svm import SVC\n",
    "algorism2 = SVC(kernel='rbf', random_state=random_seed)\n",
    "\n",
    "# 決定木\n",
    "from sklearn.tree import DecisionTreeClassifier\n",
    "algorism3 = DecisionTreeClassifier(random_state=random_seed)\n",
    "\n",
    "# ランダムフォレスト\n",
    "from sklearn.ensemble import RandomForestClassifier\n",
    "algorism4 = RandomForestClassifier(random_state=random_seed)\n",
    "\n",
    "# XGBoost\n",
    "from xgboost import XGBClassifier\n",
    "algorism5 = XGBClassifier(random_state=random_seed)\n",
    "\n",
    "# アルゴリズムのリスト作成\n",
    "algorisms = [algorism1, algorism2, algorism3, algorism4, algorism5]"
   ]
  },
  {
   "cell_type": "code",
   "execution_count": 6,
   "metadata": {},
   "outputs": [
    {
     "name": "stdout",
     "output_type": "stream",
     "text": [
      "score: 0.9474  LogisticRegression\n",
      "score: 0.8947  SVC\n",
      "score: 0.9474  DecisionTreeClassifier\n",
      "score: 0.9298  RandomForestClassifier\n",
      "score: 0.9825  XGBClassifier\n"
     ]
    }
   ],
   "source": [
    "# 複数アルゴリズムで精度比較\n",
    "for algorism in algorisms:\n",
    "    \n",
    "    # 訓練データで学習\n",
    "    algorism.fit(x_train, y_train)\n",
    "    \n",
    "    # 検証データで精度測定\n",
    "    score = algorism.score(x_test, y_test)\n",
    "    \n",
    "    # アルゴリズム名取得\n",
    "    name = algorism.__class__.__name__\n",
    "\n",
    "    # 精度とアルゴリズム名表示\n",
    "    print(f'score: {score:.4f}  {name}')"
   ]
  },
  {
   "cell_type": "markdown",
   "metadata": {},
   "source": [
    "#### パラメータチューニング"
   ]
  },
  {
   "cell_type": "code",
   "execution_count": 12,
   "metadata": {},
   "outputs": [
    {
     "name": "stdout",
     "output_type": "stream",
     "text": [
      "SVC(C=1.0, break_ties=False, cache_size=200, class_weight=None, coef0=0.0,\n",
      "    decision_function_shape='ovr', degree=3, gamma='scale', kernel='rbf',\n",
      "    max_iter=-1, probability=False, random_state=123, shrinking=True, tol=0.001,\n",
      "    verbose=False)\n"
     ]
    }
   ],
   "source": [
    "# デフォルトパラメータの確認\n",
    "algorism = SVC(kernel='rbf', random_state=random_seed)\n",
    "print(algorism)"
   ]
  },
  {
   "cell_type": "code",
   "execution_count": 13,
   "metadata": {},
   "outputs": [
    {
     "name": "stdout",
     "output_type": "stream",
     "text": [
      "score: 0.6316  gamma: 1\n",
      "score: 0.6316  gamma: 0.1\n",
      "score: 0.6316  gamma: 0.01\n",
      "score: 0.9474  gamma: 0.001\n",
      "score: 0.9474  gamma: 0.0001\n",
      "score: 0.9474  gamma: 1e-05\n"
     ]
    }
   ],
   "source": [
    "# gammaの最適化\n",
    "algorism = SVC(kernel='rbf', random_state=random_seed)\n",
    "gammas = [1, 0.1, 0.01, 0.001, 0.0001, 0.00001]\n",
    "\n",
    "for gamma in gammas:\n",
    "    algorism.gamma = gamma\n",
    "    algorism.fit(x_train, y_train)\n",
    "    score = algorism.score(x_test, y_test)\n",
    "    print(f'score: {score:.4f}  gamma: {gamma}')"
   ]
  },
  {
   "cell_type": "code",
   "execution_count": 20,
   "metadata": {},
   "outputs": [
    {
     "name": "stdout",
     "output_type": "stream",
     "text": [
      "score: 0.9474  C: 1\n",
      "score: 0.9298  C: 10\n",
      "score: 0.9298  C: 100\n",
      "score: 0.9298  C: 1000\n",
      "score: 0.9298  C: 10000\n"
     ]
    }
   ],
   "source": [
    "# Cの最適化\n",
    "# gammaは先ほど調べた最適値 0.001を採用\n",
    "algorism = SVC(kernel='rbf', random_state=random_seed,\n",
    "    gamma=0.001)\n",
    "\n",
    "Cs = [1,  10,  100, 1000, 10000]\n",
    "for C in Cs:\n",
    "    algorism.C = C\n",
    "    algorism.fit(x_train, y_train)\n",
    "    score = algorism.score(x_test, y_test)\n",
    "    print(f'score: {score:.4f}  C: {C}')"
   ]
  },
  {
   "cell_type": "markdown",
   "metadata": {},
   "source": [
    "### 4.5.3 チューニング方法"
   ]
  },
  {
   "cell_type": "markdown",
   "metadata": {},
   "source": [
    "#### 交差検定"
   ]
  },
  {
   "cell_type": "code",
   "execution_count": 21,
   "metadata": {},
   "outputs": [
    {
     "name": "stdout",
     "output_type": "stream",
     "text": [
      "平均スコア: 0.9141  個別スコア: [0.8889 0.9181 0.9353]\n"
     ]
    }
   ],
   "source": [
    "# 特定のアルゴリズムに対して交差検定を実施\n",
    "\n",
    "# アルゴリズムの定義\n",
    "algorism = SVC(kernel='rbf',random_state=random_seed,\n",
    "    gamma=0.001, C=1)\n",
    "\n",
    "# 分割時に正解データの分布が偏らないようにStratifiedKFoldを利用\n",
    "from sklearn.model_selection import StratifiedKFold\n",
    "stratifiedkfold = StratifiedKFold(n_splits=3)\n",
    "\n",
    "# 交差検定の実施 (分割数=3)\n",
    "from sklearn.model_selection import cross_val_score\n",
    "scores = cross_val_score(algorism , x_train, y_train, cv=stratifiedkfold)\n",
    "\n",
    "# 平均値の計算\n",
    "mean = scores.mean()\n",
    "\n",
    "# 結果表示\n",
    "print(f'平均スコア: {mean:.4f}  個別スコア: {scores}')"
   ]
  },
  {
   "cell_type": "code",
   "execution_count": 22,
   "metadata": {},
   "outputs": [],
   "source": [
    "# 候補アルゴリズムのリスト作成\n",
    "\n",
    "from sklearn.linear_model import LogisticRegression\n",
    "algorism1 = LogisticRegression(random_state=random_seed)\n",
    "\n",
    "from sklearn.svm import SVC\n",
    "algorism2 = SVC(kernel='rbf',random_state=random_seed,\n",
    "    gamma=0.001, C=1)\n",
    "\n",
    "from sklearn.tree import DecisionTreeClassifier\n",
    "algorism3 = DecisionTreeClassifier(random_state=random_seed)\n",
    "\n",
    "from sklearn.ensemble import RandomForestClassifier\n",
    "algorism4 = RandomForestClassifier(random_state=random_seed)\n",
    "\n",
    "from xgboost import XGBClassifier\n",
    "algorism5 = XGBClassifier(random_state=random_seed)\n",
    "\n",
    "algorisms = [algorism1, algorism2, algorism3, algorism4, algorism5]"
   ]
  },
  {
   "cell_type": "code",
   "execution_count": 24,
   "metadata": {},
   "outputs": [
    {
     "name": "stdout",
     "output_type": "stream",
     "text": [
      "平均スコア: 0.9473  個別スコア: [0.9415 0.9474 0.9529]  LogisticRegression\n",
      "平均スコア: 0.9141  個別スコア: [0.8889 0.9181 0.9353]  SVC\n",
      "平均スコア: 0.9062  個別スコア: [0.8713 0.9415 0.9059]  DecisionTreeClassifier\n",
      "平均スコア: 0.9629  個別スコア: [0.9649 0.9591 0.9647]  RandomForestClassifier\n",
      "平均スコア: 0.9590  個別スコア: [0.9591 0.9649 0.9529]  XGBClassifier\n"
     ]
    }
   ],
   "source": [
    "# 複数アルゴリズムで精度を比較\n",
    "\n",
    "# 分割時に正解データの分布が偏らないようにStratifiedKFoldを利用\n",
    "from sklearn.model_selection import StratifiedKFold\n",
    "stratifiedkfold = StratifiedKFold(n_splits=3)\n",
    "\n",
    "from sklearn.model_selection import cross_val_score\n",
    "for algorism in algorisms:\n",
    "    # 交差検定法の実行\n",
    "    scores = cross_val_score(algorism , x_train, y_train, cv=stratifiedkfold)\n",
    "    score = scores.mean()\n",
    "    name = algorism.__class__.__name__\n",
    "    print(f'平均スコア: {score:.4f}  個別スコア: {scores}  {name}')"
   ]
  },
  {
   "cell_type": "markdown",
   "metadata": {},
   "source": [
    "#### グリッドサーチ"
   ]
  },
  {
   "cell_type": "code",
   "execution_count": 18,
   "metadata": {},
   "outputs": [
    {
     "name": "stdout",
     "output_type": "stream",
     "text": [
      "SVC(C=1000, break_ties=False, cache_size=200, class_weight=None, coef0=0.0,\n",
      "    decision_function_shape='ovr', degree=3, gamma=1e-05, kernel='rbf',\n",
      "    max_iter=-1, probability=False, random_state=123, shrinking=True, tol=0.001,\n",
      "    verbose=False)\n"
     ]
    }
   ],
   "source": [
    "# グリッドサーチを交差検定を組み合わせて最適なパラメータを探索\n",
    "params = {\n",
    "      'C':[1, 10, 100, 1000, 10000],\n",
    "      'gamma':[1, 0.1, 0.01, 0.001, 0.0001, 0.00001]\n",
    "}\n",
    "algorism = SVC(random_state=random_seed)\n",
    "\n",
    "from sklearn.model_selection import StratifiedKFold\n",
    "stratifiedkfold = StratifiedKFold(n_splits=3)\n",
    "\n",
    "from sklearn.model_selection import GridSearchCV\n",
    "gs = GridSearchCV(algorism, params, cv=stratifiedkfold)\n",
    "gs.fit(x_train, y_train)\n",
    "\n",
    "# ベストのモデルを取得し検証データを分類\n",
    "best = gs.best_estimator_\n",
    "best_pred = best.predict(x_test)\n",
    "print(best)"
   ]
  },
  {
   "cell_type": "code",
   "execution_count": 19,
   "metadata": {},
   "outputs": [
    {
     "name": "stdout",
     "output_type": "stream",
     "text": [
      "スコア: 0.9825\n",
      "\n",
      "混同行列\n",
      "[[20  1]\n",
      " [ 0 36]]\n"
     ]
    }
   ],
   "source": [
    "# 精度の取得\n",
    "score = best.score(x_test, y_test)\n",
    "print(f'スコア: {score:.4f}')\n",
    "\n",
    "# 混同行列を出力\n",
    "from sklearn.metrics import confusion_matrix\n",
    "print()\n",
    "print('混同行列')\n",
    "print(confusion_matrix(y_test, best_pred))"
   ]
  },
  {
   "cell_type": "code",
   "execution_count": null,
   "metadata": {},
   "outputs": [],
   "source": []
  }
 ],
 "metadata": {
  "kernelspec": {
   "display_name": "Python 3",
   "language": "python",
   "name": "python3"
  },
  "language_info": {
   "codemirror_mode": {
    "name": "ipython",
    "version": 3
   },
   "file_extension": ".py",
   "mimetype": "text/x-python",
   "name": "python",
   "nbconvert_exporter": "python",
   "pygments_lexer": "ipython3",
   "version": "3.7.6"
  }
 },
 "nbformat": 4,
 "nbformat_minor": 2
}
