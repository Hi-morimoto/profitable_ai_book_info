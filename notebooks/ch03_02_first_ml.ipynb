{
 "cells": [
  {
   "cell_type": "markdown",
   "metadata": {
    "colab_type": "text",
    "id": "M8HCd_fgs4r6"
   },
   "source": [
    "# 3.2 Pythonによるモデル開発"
   ]
  },
  {
   "cell_type": "markdown",
   "metadata": {},
   "source": [
    "## 共通事前処理"
   ]
  },
  {
   "cell_type": "code",
   "execution_count": 1,
   "metadata": {},
   "outputs": [
    {
     "name": "stdout",
     "output_type": "stream",
     "text": [
      "Requirement already satisfied: setuptools in /opt/anaconda3/lib/python3.7/site-packages (from kiwisolver>=1.0.1->matplotlib->japanize-matplotlib) (46.0.0.post20200309)\r\n"
     ]
    }
   ],
   "source": [
    "# 日本語化ライブラリ導入\n",
    "!pip install japanize-matplotlib | tail -n 1"
   ]
  },
  {
   "cell_type": "code",
   "execution_count": 2,
   "metadata": {
    "colab": {
     "base_uri": "https://localhost:8080/",
     "height": 34
    },
    "colab_type": "code",
    "id": "YdEDB0EbtAHq",
    "outputId": "a9ea2ef3-992d-4816-f5a2-9a86cc405c46"
   },
   "outputs": [],
   "source": [
    "# 共通事前処理\n",
    "\n",
    "# 余分なワーニングを非表示にする\n",
    "import warnings\n",
    "warnings.filterwarnings('ignore')\n",
    "\n",
    "# 必要ライブラリのimport\n",
    "import pandas as pd\n",
    "import numpy as np\n",
    "import matplotlib.pyplot as plt\n",
    "\n",
    "# matplotlib日本語化対応\n",
    "import japanize_matplotlib\n",
    "\n",
    "# データフレーム表示用関数\n",
    "from IPython.display import display\n",
    "\n",
    "# 表示オプション調整\n",
    "\n",
    "# numpyの浮動小数点の表示精度\n",
    "np.set_printoptions(suppress=True, precision=4)\n",
    "\n",
    "# データフレームですべての項目を表示\n",
    "pd.set_option(\"display.max_columns\",None)\n",
    "\n",
    "# データフレームでの表示精度\n",
    "pd.options.display.float_format = '{:.4f}'.format\n",
    "\n",
    "# グラフのデフォルトフォント指定\n",
    "plt.rcParams[\"font.size\"] = 14\n",
    "\n",
    "# 乱数の種\n",
    "random_seed = 123"
   ]
  },
  {
   "cell_type": "markdown",
   "metadata": {},
   "source": [
    "## 乳がん疾患データセットについて"
   ]
  },
  {
   "cell_type": "markdown",
   "metadata": {},
   "source": [
    "[UCIデータセットサイト](https://archive.ics.uci.edu/ml/datasets/Breast+Cancer+Wisconsin+(Diagnostic))"
   ]
  },
  {
   "cell_type": "markdown",
   "metadata": {},
   "source": [
    "#### 分析データイメージ\n",
    "<img src=\"https://cdn-ak.f.st-hatena.com/images/fotolife/e/ensekitt/20181102/20181102002649.jpg\" alt=\"Drawing\" width=\"30%\" align=\"left\">\n"
   ]
  },
  {
   "cell_type": "markdown",
   "metadata": {
    "colab_type": "text",
    "id": "QFRu16rLaVMK"
   },
   "source": [
    "## (1) データ読み込み"
   ]
  },
  {
   "cell_type": "code",
   "execution_count": 3,
   "metadata": {
    "colab": {
     "base_uri": "https://localhost:8080/",
     "height": 1000
    },
    "colab_type": "code",
    "id": "6nDUWh6dsrrx",
    "outputId": "1d2cab78-3856-4955-896f-16e8eb237259",
    "scrolled": true
   },
   "outputs": [
    {
     "name": "stdout",
     "output_type": "stream",
     "text": [
      ".. _breast_cancer_dataset:\n",
      "\n",
      "Breast cancer wisconsin (diagnostic) dataset\n",
      "--------------------------------------------\n",
      "\n",
      "**Data Set Characteristics:**\n",
      "\n",
      "    :Number of Instances: 569\n",
      "\n",
      "    :Number of Attributes: 30 numeric, predictive attributes and the class\n",
      "\n",
      "    :Attribute Information:\n",
      "        - radius (mean of distances from center to points on the perimeter)\n",
      "        - texture (standard deviation of gray-scale values)\n",
      "        - perimeter\n",
      "        - area\n",
      "        - smoothness (local variation in radius lengths)\n",
      "        - compactness (perimeter^2 / area - 1.0)\n",
      "        - concavity (severity of concave portions of the contour)\n",
      "        - concave points (number of concave portions of the contour)\n",
      "        - symmetry \n",
      "        - fractal dimension (\"coastline approximation\" - 1)\n",
      "\n",
      "        The mean, standard error, and \"worst\" or largest (mean of the three\n",
      "        largest values) of these features were computed for each image,\n",
      "        resulting in 30 features.  For instance, field 3 is Mean Radius, field\n",
      "        13 is Radius SE, field 23 is Worst Radius.\n",
      "\n",
      "        - class:\n",
      "                - WDBC-Malignant\n",
      "                - WDBC-Benign\n",
      "\n",
      "    :Summary Statistics:\n",
      "\n",
      "    ===================================== ====== ======\n",
      "                                           Min    Max\n",
      "    ===================================== ====== ======\n",
      "    radius (mean):                        6.981  28.11\n",
      "    texture (mean):                       9.71   39.28\n",
      "    perimeter (mean):                     43.79  188.5\n",
      "    area (mean):                          143.5  2501.0\n",
      "    smoothness (mean):                    0.053  0.163\n",
      "    compactness (mean):                   0.019  0.345\n",
      "    concavity (mean):                     0.0    0.427\n",
      "    concave points (mean):                0.0    0.201\n",
      "    symmetry (mean):                      0.106  0.304\n",
      "    fractal dimension (mean):             0.05   0.097\n",
      "    radius (standard error):              0.112  2.873\n",
      "    texture (standard error):             0.36   4.885\n",
      "    perimeter (standard error):           0.757  21.98\n",
      "    area (standard error):                6.802  542.2\n",
      "    smoothness (standard error):          0.002  0.031\n",
      "    compactness (standard error):         0.002  0.135\n",
      "    concavity (standard error):           0.0    0.396\n",
      "    concave points (standard error):      0.0    0.053\n",
      "    symmetry (standard error):            0.008  0.079\n",
      "    fractal dimension (standard error):   0.001  0.03\n",
      "    radius (worst):                       7.93   36.04\n",
      "    texture (worst):                      12.02  49.54\n",
      "    perimeter (worst):                    50.41  251.2\n",
      "    area (worst):                         185.2  4254.0\n",
      "    smoothness (worst):                   0.071  0.223\n",
      "    compactness (worst):                  0.027  1.058\n",
      "    concavity (worst):                    0.0    1.252\n",
      "    concave points (worst):               0.0    0.291\n",
      "    symmetry (worst):                     0.156  0.664\n",
      "    fractal dimension (worst):            0.055  0.208\n",
      "    ===================================== ====== ======\n",
      "\n",
      "    :Missing Attribute Values: None\n",
      "\n",
      "    :Class Distribution: 212 - Malignant, 357 - Benign\n",
      "\n",
      "    :Creator:  Dr. William H. Wolberg, W. Nick Street, Olvi L. Mangasarian\n",
      "\n",
      "    :Donor: Nick Street\n",
      "\n",
      "    :Date: November, 1995\n",
      "\n",
      "This is a copy of UCI ML Breast Cancer Wisconsin (Diagnostic) datasets.\n",
      "https://goo.gl/U2Uwz2\n",
      "\n",
      "Features are computed from a digitized image of a fine needle\n",
      "aspirate (FNA) of a breast mass.  They describe\n",
      "characteristics of the cell nuclei present in the image.\n",
      "\n",
      "Separating plane described above was obtained using\n",
      "Multisurface Method-Tree (MSM-T) [K. P. Bennett, \"Decision Tree\n",
      "Construction Via Linear Programming.\" Proceedings of the 4th\n",
      "Midwest Artificial Intelligence and Cognitive Science Society,\n",
      "pp. 97-101, 1992], a classification method which uses linear\n",
      "programming to construct a decision tree.  Relevant features\n",
      "were selected using an exhaustive search in the space of 1-4\n",
      "features and 1-3 separating planes.\n",
      "\n",
      "The actual linear program used to obtain the separating plane\n",
      "in the 3-dimensional space is that described in:\n",
      "[K. P. Bennett and O. L. Mangasarian: \"Robust Linear\n",
      "Programming Discrimination of Two Linearly Inseparable Sets\",\n",
      "Optimization Methods and Software 1, 1992, 23-34].\n",
      "\n",
      "This database is also available through the UW CS ftp server:\n",
      "\n",
      "ftp ftp.cs.wisc.edu\n",
      "cd math-prog/cpo-dataset/machine-learn/WDBC/\n",
      "\n",
      ".. topic:: References\n",
      "\n",
      "   - W.N. Street, W.H. Wolberg and O.L. Mangasarian. Nuclear feature extraction \n",
      "     for breast tumor diagnosis. IS&T/SPIE 1993 International Symposium on \n",
      "     Electronic Imaging: Science and Technology, volume 1905, pages 861-870,\n",
      "     San Jose, CA, 1993.\n",
      "   - O.L. Mangasarian, W.N. Street and W.H. Wolberg. Breast cancer diagnosis and \n",
      "     prognosis via linear programming. Operations Research, 43(4), pages 570-577, \n",
      "     July-August 1995.\n",
      "   - W.H. Wolberg, W.N. Street, and O.L. Mangasarian. Machine learning techniques\n",
      "     to diagnose breast cancer from fine-needle aspirates. Cancer Letters 77 (1994) \n",
      "     163-171.\n"
     ]
    }
   ],
   "source": [
    "# ガン疾患データセットのロード\n",
    "\n",
    "# ライブラリのimport\n",
    "from sklearn.datasets import load_breast_cancer\n",
    "\n",
    "# データのロード\n",
    "cancer = load_breast_cancer()\n",
    "\n",
    "# データの注釈を読む\n",
    "print(cancer.DESCR)"
   ]
  },
  {
   "cell_type": "code",
   "execution_count": 4,
   "metadata": {
    "colab": {},
    "colab_type": "code",
    "id": "Sf_A259BtYDq"
   },
   "outputs": [],
   "source": [
    "# データフレームへの取り込み\n",
    "\n",
    "columns = [\n",
    "    '半径_平均', 'きめ_平均', '周長_平均', '面積_平均', \n",
    "    '平滑度_平均','コンパクト度_平均', '凹面_平均',\n",
    "    '凹点_平均', '対称性_平均', 'フラクタル度_平均',\n",
    "    '半径_標準誤差', 'きめ_標準誤差', '周長_標準誤差',\n",
    "    '面積_標準誤差', '平滑度_標準誤差',\n",
    "    'コンパクト度_標準誤差', '凹面_標準誤差', '凹点_標準誤差',\n",
    "    '対称性_標準誤差', 'フラクタル度_標準誤差',\n",
    "    '半径_最大', 'きめ_最大', '周長_最大', '面積_最大', \n",
    "    '平滑度_最大','コンパクト度_最大', '凹面_最大', '凹点_最大', \n",
    "    '対称性_最大', 'フラクタル度_最大'\n",
    "]\n",
    "\n",
    "# ロードしたデータのデータフレームへの取り込み\n",
    "df = pd.DataFrame(cancer.data, columns=columns)\n",
    "\n",
    "# 正解データの取得\n",
    "y = pd.Series(cancer.target)"
   ]
  },
  {
   "cell_type": "markdown",
   "metadata": {},
   "source": [
    "## (2) データ確認"
   ]
  },
  {
   "cell_type": "code",
   "execution_count": 5,
   "metadata": {
    "colab": {
     "base_uri": "https://localhost:8080/",
     "height": 258
    },
    "colab_type": "code",
    "id": "LKD5Nj8Xtw_j",
    "outputId": "2d1c1e71-2746-4d20-d320-0531f5c33405"
   },
   "outputs": [
    {
     "data": {
      "text/html": [
       "<div>\n",
       "<style scoped>\n",
       "    .dataframe tbody tr th:only-of-type {\n",
       "        vertical-align: middle;\n",
       "    }\n",
       "\n",
       "    .dataframe tbody tr th {\n",
       "        vertical-align: top;\n",
       "    }\n",
       "\n",
       "    .dataframe thead th {\n",
       "        text-align: right;\n",
       "    }\n",
       "</style>\n",
       "<table border=\"1\" class=\"dataframe\">\n",
       "  <thead>\n",
       "    <tr style=\"text-align: right;\">\n",
       "      <th></th>\n",
       "      <th>半径_平均</th>\n",
       "      <th>きめ_平均</th>\n",
       "      <th>周長_平均</th>\n",
       "      <th>面積_平均</th>\n",
       "      <th>平滑度_平均</th>\n",
       "      <th>コンパクト度_平均</th>\n",
       "      <th>凹面_平均</th>\n",
       "      <th>凹点_平均</th>\n",
       "      <th>対称性_平均</th>\n",
       "      <th>フラクタル度_平均</th>\n",
       "      <th>半径_標準誤差</th>\n",
       "      <th>きめ_標準誤差</th>\n",
       "      <th>周長_標準誤差</th>\n",
       "      <th>面積_標準誤差</th>\n",
       "      <th>平滑度_標準誤差</th>\n",
       "      <th>コンパクト度_標準誤差</th>\n",
       "      <th>凹面_標準誤差</th>\n",
       "      <th>凹点_標準誤差</th>\n",
       "      <th>対称性_標準誤差</th>\n",
       "      <th>フラクタル度_標準誤差</th>\n",
       "      <th>半径_最大</th>\n",
       "      <th>きめ_最大</th>\n",
       "      <th>周長_最大</th>\n",
       "      <th>面積_最大</th>\n",
       "      <th>平滑度_最大</th>\n",
       "      <th>コンパクト度_最大</th>\n",
       "      <th>凹面_最大</th>\n",
       "      <th>凹点_最大</th>\n",
       "      <th>対称性_最大</th>\n",
       "      <th>フラクタル度_最大</th>\n",
       "    </tr>\n",
       "  </thead>\n",
       "  <tbody>\n",
       "    <tr>\n",
       "      <th>20</th>\n",
       "      <td>13.0800</td>\n",
       "      <td>15.7100</td>\n",
       "      <td>85.6300</td>\n",
       "      <td>520.0000</td>\n",
       "      <td>0.1075</td>\n",
       "      <td>0.1270</td>\n",
       "      <td>0.0457</td>\n",
       "      <td>0.0311</td>\n",
       "      <td>0.1967</td>\n",
       "      <td>0.0681</td>\n",
       "      <td>0.1852</td>\n",
       "      <td>0.7477</td>\n",
       "      <td>1.3830</td>\n",
       "      <td>14.6700</td>\n",
       "      <td>0.0041</td>\n",
       "      <td>0.0190</td>\n",
       "      <td>0.0170</td>\n",
       "      <td>0.0065</td>\n",
       "      <td>0.0168</td>\n",
       "      <td>0.0024</td>\n",
       "      <td>14.5000</td>\n",
       "      <td>20.4900</td>\n",
       "      <td>96.0900</td>\n",
       "      <td>630.5000</td>\n",
       "      <td>0.1312</td>\n",
       "      <td>0.2776</td>\n",
       "      <td>0.1890</td>\n",
       "      <td>0.0728</td>\n",
       "      <td>0.3184</td>\n",
       "      <td>0.0818</td>\n",
       "    </tr>\n",
       "    <tr>\n",
       "      <th>21</th>\n",
       "      <td>9.5040</td>\n",
       "      <td>12.4400</td>\n",
       "      <td>60.3400</td>\n",
       "      <td>273.9000</td>\n",
       "      <td>0.1024</td>\n",
       "      <td>0.0649</td>\n",
       "      <td>0.0296</td>\n",
       "      <td>0.0208</td>\n",
       "      <td>0.1815</td>\n",
       "      <td>0.0691</td>\n",
       "      <td>0.2773</td>\n",
       "      <td>0.9768</td>\n",
       "      <td>1.9090</td>\n",
       "      <td>15.7000</td>\n",
       "      <td>0.0096</td>\n",
       "      <td>0.0143</td>\n",
       "      <td>0.0198</td>\n",
       "      <td>0.0142</td>\n",
       "      <td>0.0203</td>\n",
       "      <td>0.0030</td>\n",
       "      <td>10.2300</td>\n",
       "      <td>15.6600</td>\n",
       "      <td>65.1300</td>\n",
       "      <td>314.9000</td>\n",
       "      <td>0.1324</td>\n",
       "      <td>0.1148</td>\n",
       "      <td>0.0887</td>\n",
       "      <td>0.0623</td>\n",
       "      <td>0.2450</td>\n",
       "      <td>0.0777</td>\n",
       "    </tr>\n",
       "    <tr>\n",
       "      <th>22</th>\n",
       "      <td>15.3400</td>\n",
       "      <td>14.2600</td>\n",
       "      <td>102.5000</td>\n",
       "      <td>704.4000</td>\n",
       "      <td>0.1073</td>\n",
       "      <td>0.2135</td>\n",
       "      <td>0.2077</td>\n",
       "      <td>0.0976</td>\n",
       "      <td>0.2521</td>\n",
       "      <td>0.0703</td>\n",
       "      <td>0.4388</td>\n",
       "      <td>0.7096</td>\n",
       "      <td>3.3840</td>\n",
       "      <td>44.9100</td>\n",
       "      <td>0.0068</td>\n",
       "      <td>0.0533</td>\n",
       "      <td>0.0645</td>\n",
       "      <td>0.0225</td>\n",
       "      <td>0.0367</td>\n",
       "      <td>0.0044</td>\n",
       "      <td>18.0700</td>\n",
       "      <td>19.0800</td>\n",
       "      <td>125.1000</td>\n",
       "      <td>980.9000</td>\n",
       "      <td>0.1390</td>\n",
       "      <td>0.5954</td>\n",
       "      <td>0.6305</td>\n",
       "      <td>0.2393</td>\n",
       "      <td>0.4667</td>\n",
       "      <td>0.0995</td>\n",
       "    </tr>\n",
       "    <tr>\n",
       "      <th>23</th>\n",
       "      <td>21.1600</td>\n",
       "      <td>23.0400</td>\n",
       "      <td>137.2000</td>\n",
       "      <td>1404.0000</td>\n",
       "      <td>0.0943</td>\n",
       "      <td>0.1022</td>\n",
       "      <td>0.1097</td>\n",
       "      <td>0.0863</td>\n",
       "      <td>0.1769</td>\n",
       "      <td>0.0528</td>\n",
       "      <td>0.6917</td>\n",
       "      <td>1.1270</td>\n",
       "      <td>4.3030</td>\n",
       "      <td>93.9900</td>\n",
       "      <td>0.0047</td>\n",
       "      <td>0.0126</td>\n",
       "      <td>0.0171</td>\n",
       "      <td>0.0104</td>\n",
       "      <td>0.0108</td>\n",
       "      <td>0.0020</td>\n",
       "      <td>29.1700</td>\n",
       "      <td>35.5900</td>\n",
       "      <td>188.0000</td>\n",
       "      <td>2615.0000</td>\n",
       "      <td>0.1401</td>\n",
       "      <td>0.2600</td>\n",
       "      <td>0.3155</td>\n",
       "      <td>0.2009</td>\n",
       "      <td>0.2822</td>\n",
       "      <td>0.0753</td>\n",
       "    </tr>\n",
       "    <tr>\n",
       "      <th>24</th>\n",
       "      <td>16.6500</td>\n",
       "      <td>21.3800</td>\n",
       "      <td>110.0000</td>\n",
       "      <td>904.6000</td>\n",
       "      <td>0.1121</td>\n",
       "      <td>0.1457</td>\n",
       "      <td>0.1525</td>\n",
       "      <td>0.0917</td>\n",
       "      <td>0.1995</td>\n",
       "      <td>0.0633</td>\n",
       "      <td>0.8068</td>\n",
       "      <td>0.9017</td>\n",
       "      <td>5.4550</td>\n",
       "      <td>102.6000</td>\n",
       "      <td>0.0060</td>\n",
       "      <td>0.0188</td>\n",
       "      <td>0.0274</td>\n",
       "      <td>0.0113</td>\n",
       "      <td>0.0147</td>\n",
       "      <td>0.0028</td>\n",
       "      <td>26.4600</td>\n",
       "      <td>31.5600</td>\n",
       "      <td>177.0000</td>\n",
       "      <td>2215.0000</td>\n",
       "      <td>0.1805</td>\n",
       "      <td>0.3578</td>\n",
       "      <td>0.4695</td>\n",
       "      <td>0.2095</td>\n",
       "      <td>0.3613</td>\n",
       "      <td>0.0956</td>\n",
       "    </tr>\n",
       "  </tbody>\n",
       "</table>\n",
       "</div>"
      ],
      "text/plain": [
       "     半径_平均   きめ_平均    周長_平均     面積_平均  平滑度_平均  コンパクト度_平均  凹面_平均  凹点_平均  \\\n",
       "20 13.0800 15.7100  85.6300  520.0000  0.1075     0.1270 0.0457 0.0311   \n",
       "21  9.5040 12.4400  60.3400  273.9000  0.1024     0.0649 0.0296 0.0208   \n",
       "22 15.3400 14.2600 102.5000  704.4000  0.1073     0.2135 0.2077 0.0976   \n",
       "23 21.1600 23.0400 137.2000 1404.0000  0.0943     0.1022 0.1097 0.0863   \n",
       "24 16.6500 21.3800 110.0000  904.6000  0.1121     0.1457 0.1525 0.0917   \n",
       "\n",
       "    対称性_平均  フラクタル度_平均  半径_標準誤差  きめ_標準誤差  周長_標準誤差  面積_標準誤差  平滑度_標準誤差  \\\n",
       "20  0.1967     0.0681   0.1852   0.7477   1.3830  14.6700    0.0041   \n",
       "21  0.1815     0.0691   0.2773   0.9768   1.9090  15.7000    0.0096   \n",
       "22  0.2521     0.0703   0.4388   0.7096   3.3840  44.9100    0.0068   \n",
       "23  0.1769     0.0528   0.6917   1.1270   4.3030  93.9900    0.0047   \n",
       "24  0.1995     0.0633   0.8068   0.9017   5.4550 102.6000    0.0060   \n",
       "\n",
       "    コンパクト度_標準誤差  凹面_標準誤差  凹点_標準誤差  対称性_標準誤差  フラクタル度_標準誤差   半径_最大   きめ_最大  \\\n",
       "20       0.0190   0.0170   0.0065    0.0168       0.0024 14.5000 20.4900   \n",
       "21       0.0143   0.0198   0.0142    0.0203       0.0030 10.2300 15.6600   \n",
       "22       0.0533   0.0645   0.0225    0.0367       0.0044 18.0700 19.0800   \n",
       "23       0.0126   0.0171   0.0104    0.0108       0.0020 29.1700 35.5900   \n",
       "24       0.0188   0.0274   0.0113    0.0147       0.0028 26.4600 31.5600   \n",
       "\n",
       "      周長_最大     面積_最大  平滑度_最大  コンパクト度_最大  凹面_最大  凹点_最大  対称性_最大  フラクタル度_最大  \n",
       "20  96.0900  630.5000  0.1312     0.2776 0.1890 0.0728  0.3184     0.0818  \n",
       "21  65.1300  314.9000  0.1324     0.1148 0.0887 0.0623  0.2450     0.0777  \n",
       "22 125.1000  980.9000  0.1390     0.5954 0.6305 0.2393  0.4667     0.0995  \n",
       "23 188.0000 2615.0000  0.1401     0.2600 0.3155 0.2009  0.2822     0.0753  \n",
       "24 177.0000 2215.0000  0.1805     0.3578 0.4695 0.2095  0.3613     0.0956  "
      ]
     },
     "metadata": {},
     "output_type": "display_data"
    }
   ],
   "source": [
    "# 入力データの表示\n",
    "\n",
    "# 入力データの先頭20行目から24行目までの表示\n",
    "display(df[20:25])"
   ]
  },
  {
   "cell_type": "code",
   "execution_count": 6,
   "metadata": {
    "colab": {
     "base_uri": "https://localhost:8080/",
     "height": 119
    },
    "colab_type": "code",
    "id": "Lfo3Toco5tQY",
    "outputId": "bed5a7be-8dd1-414a-a7aa-05d3638d76d6"
   },
   "outputs": [
    {
     "name": "stdout",
     "output_type": "stream",
     "text": [
      "20    1\n",
      "21    1\n",
      "22    0\n",
      "23    0\n",
      "24    0\n",
      "dtype: int64\n"
     ]
    }
   ],
   "source": [
    "# 正解データの表示\n",
    "\n",
    "# 正解データの先頭20行目から24行目の表示\n",
    "print(y[20:25])"
   ]
  },
  {
   "cell_type": "code",
   "execution_count": 7,
   "metadata": {
    "colab": {
     "base_uri": "https://localhost:8080/",
     "height": 85
    },
    "colab_type": "code",
    "id": "DmWwsLdPyXJ7",
    "outputId": "d24364d2-2326-4aaf-93ec-ee6280dec9c5"
   },
   "outputs": [
    {
     "name": "stdout",
     "output_type": "stream",
     "text": [
      "(569, 30)\n",
      "\n",
      "1    357\n",
      "0    212\n",
      "dtype: int64\n"
     ]
    }
   ],
   "source": [
    "# データの統計情報確認\n",
    "\n",
    "# 入力データの行数、列数の確認\n",
    "print(df.shape)\n",
    "print()\n",
    "\n",
    "# 正解データの1と0の個数確認\n",
    "print(y.value_counts())"
   ]
  },
  {
   "cell_type": "code",
   "execution_count": 8,
   "metadata": {
    "colab": {
     "base_uri": "https://localhost:8080/",
     "height": 391
    },
    "colab_type": "code",
    "id": "BblWBEaj92eC",
    "outputId": "1721badb-1760-4208-c127-4bf2f9fc2f05",
    "scrolled": false
   },
   "outputs": [
    {
     "data": {
      "text/html": [
       "<div>\n",
       "<style scoped>\n",
       "    .dataframe tbody tr th:only-of-type {\n",
       "        vertical-align: middle;\n",
       "    }\n",
       "\n",
       "    .dataframe tbody tr th {\n",
       "        vertical-align: top;\n",
       "    }\n",
       "\n",
       "    .dataframe thead th {\n",
       "        text-align: right;\n",
       "    }\n",
       "</style>\n",
       "<table border=\"1\" class=\"dataframe\">\n",
       "  <thead>\n",
       "    <tr style=\"text-align: right;\">\n",
       "      <th></th>\n",
       "      <th>半径_平均</th>\n",
       "      <th>きめ_平均</th>\n",
       "      <th>周長_平均</th>\n",
       "      <th>面積_平均</th>\n",
       "      <th>平滑度_平均</th>\n",
       "      <th>コンパクト度_平均</th>\n",
       "      <th>凹面_平均</th>\n",
       "      <th>凹点_平均</th>\n",
       "      <th>対称性_平均</th>\n",
       "      <th>フラクタル度_平均</th>\n",
       "      <th>半径_標準誤差</th>\n",
       "      <th>きめ_標準誤差</th>\n",
       "      <th>周長_標準誤差</th>\n",
       "      <th>面積_標準誤差</th>\n",
       "      <th>平滑度_標準誤差</th>\n",
       "      <th>コンパクト度_標準誤差</th>\n",
       "      <th>凹面_標準誤差</th>\n",
       "      <th>凹点_標準誤差</th>\n",
       "      <th>対称性_標準誤差</th>\n",
       "      <th>フラクタル度_標準誤差</th>\n",
       "      <th>半径_最大</th>\n",
       "      <th>きめ_最大</th>\n",
       "      <th>周長_最大</th>\n",
       "      <th>面積_最大</th>\n",
       "      <th>平滑度_最大</th>\n",
       "      <th>コンパクト度_最大</th>\n",
       "      <th>凹面_最大</th>\n",
       "      <th>凹点_最大</th>\n",
       "      <th>対称性_最大</th>\n",
       "      <th>フラクタル度_最大</th>\n",
       "    </tr>\n",
       "  </thead>\n",
       "  <tbody>\n",
       "    <tr>\n",
       "      <th>0</th>\n",
       "      <td>17.9900</td>\n",
       "      <td>10.3800</td>\n",
       "      <td>122.8000</td>\n",
       "      <td>1001.0000</td>\n",
       "      <td>0.1184</td>\n",
       "      <td>0.2776</td>\n",
       "      <td>0.3001</td>\n",
       "      <td>0.1471</td>\n",
       "      <td>0.2419</td>\n",
       "      <td>0.0787</td>\n",
       "      <td>1.0950</td>\n",
       "      <td>0.9053</td>\n",
       "      <td>8.5890</td>\n",
       "      <td>153.4000</td>\n",
       "      <td>0.0064</td>\n",
       "      <td>0.0490</td>\n",
       "      <td>0.0537</td>\n",
       "      <td>0.0159</td>\n",
       "      <td>0.0300</td>\n",
       "      <td>0.0062</td>\n",
       "      <td>25.3800</td>\n",
       "      <td>17.3300</td>\n",
       "      <td>184.6000</td>\n",
       "      <td>2019.0000</td>\n",
       "      <td>0.1622</td>\n",
       "      <td>0.6656</td>\n",
       "      <td>0.7119</td>\n",
       "      <td>0.2654</td>\n",
       "      <td>0.4601</td>\n",
       "      <td>0.1189</td>\n",
       "    </tr>\n",
       "    <tr>\n",
       "      <th>1</th>\n",
       "      <td>20.5700</td>\n",
       "      <td>17.7700</td>\n",
       "      <td>132.9000</td>\n",
       "      <td>1326.0000</td>\n",
       "      <td>0.0847</td>\n",
       "      <td>0.0786</td>\n",
       "      <td>0.0869</td>\n",
       "      <td>0.0702</td>\n",
       "      <td>0.1812</td>\n",
       "      <td>0.0567</td>\n",
       "      <td>0.5435</td>\n",
       "      <td>0.7339</td>\n",
       "      <td>3.3980</td>\n",
       "      <td>74.0800</td>\n",
       "      <td>0.0052</td>\n",
       "      <td>0.0131</td>\n",
       "      <td>0.0186</td>\n",
       "      <td>0.0134</td>\n",
       "      <td>0.0139</td>\n",
       "      <td>0.0035</td>\n",
       "      <td>24.9900</td>\n",
       "      <td>23.4100</td>\n",
       "      <td>158.8000</td>\n",
       "      <td>1956.0000</td>\n",
       "      <td>0.1238</td>\n",
       "      <td>0.1866</td>\n",
       "      <td>0.2416</td>\n",
       "      <td>0.1860</td>\n",
       "      <td>0.2750</td>\n",
       "      <td>0.0890</td>\n",
       "    </tr>\n",
       "    <tr>\n",
       "      <th>2</th>\n",
       "      <td>19.6900</td>\n",
       "      <td>21.2500</td>\n",
       "      <td>130.0000</td>\n",
       "      <td>1203.0000</td>\n",
       "      <td>0.1096</td>\n",
       "      <td>0.1599</td>\n",
       "      <td>0.1974</td>\n",
       "      <td>0.1279</td>\n",
       "      <td>0.2069</td>\n",
       "      <td>0.0600</td>\n",
       "      <td>0.7456</td>\n",
       "      <td>0.7869</td>\n",
       "      <td>4.5850</td>\n",
       "      <td>94.0300</td>\n",
       "      <td>0.0062</td>\n",
       "      <td>0.0401</td>\n",
       "      <td>0.0383</td>\n",
       "      <td>0.0206</td>\n",
       "      <td>0.0225</td>\n",
       "      <td>0.0046</td>\n",
       "      <td>23.5700</td>\n",
       "      <td>25.5300</td>\n",
       "      <td>152.5000</td>\n",
       "      <td>1709.0000</td>\n",
       "      <td>0.1444</td>\n",
       "      <td>0.4245</td>\n",
       "      <td>0.4504</td>\n",
       "      <td>0.2430</td>\n",
       "      <td>0.3613</td>\n",
       "      <td>0.0876</td>\n",
       "    </tr>\n",
       "    <tr>\n",
       "      <th>3</th>\n",
       "      <td>11.4200</td>\n",
       "      <td>20.3800</td>\n",
       "      <td>77.5800</td>\n",
       "      <td>386.1000</td>\n",
       "      <td>0.1425</td>\n",
       "      <td>0.2839</td>\n",
       "      <td>0.2414</td>\n",
       "      <td>0.1052</td>\n",
       "      <td>0.2597</td>\n",
       "      <td>0.0974</td>\n",
       "      <td>0.4956</td>\n",
       "      <td>1.1560</td>\n",
       "      <td>3.4450</td>\n",
       "      <td>27.2300</td>\n",
       "      <td>0.0091</td>\n",
       "      <td>0.0746</td>\n",
       "      <td>0.0566</td>\n",
       "      <td>0.0187</td>\n",
       "      <td>0.0596</td>\n",
       "      <td>0.0092</td>\n",
       "      <td>14.9100</td>\n",
       "      <td>26.5000</td>\n",
       "      <td>98.8700</td>\n",
       "      <td>567.7000</td>\n",
       "      <td>0.2098</td>\n",
       "      <td>0.8663</td>\n",
       "      <td>0.6869</td>\n",
       "      <td>0.2575</td>\n",
       "      <td>0.6638</td>\n",
       "      <td>0.1730</td>\n",
       "    </tr>\n",
       "    <tr>\n",
       "      <th>4</th>\n",
       "      <td>20.2900</td>\n",
       "      <td>14.3400</td>\n",
       "      <td>135.1000</td>\n",
       "      <td>1297.0000</td>\n",
       "      <td>0.1003</td>\n",
       "      <td>0.1328</td>\n",
       "      <td>0.1980</td>\n",
       "      <td>0.1043</td>\n",
       "      <td>0.1809</td>\n",
       "      <td>0.0588</td>\n",
       "      <td>0.7572</td>\n",
       "      <td>0.7813</td>\n",
       "      <td>5.4380</td>\n",
       "      <td>94.4400</td>\n",
       "      <td>0.0115</td>\n",
       "      <td>0.0246</td>\n",
       "      <td>0.0569</td>\n",
       "      <td>0.0188</td>\n",
       "      <td>0.0176</td>\n",
       "      <td>0.0051</td>\n",
       "      <td>22.5400</td>\n",
       "      <td>16.6700</td>\n",
       "      <td>152.2000</td>\n",
       "      <td>1575.0000</td>\n",
       "      <td>0.1374</td>\n",
       "      <td>0.2050</td>\n",
       "      <td>0.4000</td>\n",
       "      <td>0.1625</td>\n",
       "      <td>0.2364</td>\n",
       "      <td>0.0768</td>\n",
       "    </tr>\n",
       "  </tbody>\n",
       "</table>\n",
       "</div>"
      ],
      "text/plain": [
       "    半径_平均   きめ_平均    周長_平均     面積_平均  平滑度_平均  コンパクト度_平均  凹面_平均  凹点_平均  対称性_平均  \\\n",
       "0 17.9900 10.3800 122.8000 1001.0000  0.1184     0.2776 0.3001 0.1471  0.2419   \n",
       "1 20.5700 17.7700 132.9000 1326.0000  0.0847     0.0786 0.0869 0.0702  0.1812   \n",
       "2 19.6900 21.2500 130.0000 1203.0000  0.1096     0.1599 0.1974 0.1279  0.2069   \n",
       "3 11.4200 20.3800  77.5800  386.1000  0.1425     0.2839 0.2414 0.1052  0.2597   \n",
       "4 20.2900 14.3400 135.1000 1297.0000  0.1003     0.1328 0.1980 0.1043  0.1809   \n",
       "\n",
       "   フラクタル度_平均  半径_標準誤差  きめ_標準誤差  周長_標準誤差  面積_標準誤差  平滑度_標準誤差  コンパクト度_標準誤差  \\\n",
       "0     0.0787   1.0950   0.9053   8.5890 153.4000    0.0064       0.0490   \n",
       "1     0.0567   0.5435   0.7339   3.3980  74.0800    0.0052       0.0131   \n",
       "2     0.0600   0.7456   0.7869   4.5850  94.0300    0.0062       0.0401   \n",
       "3     0.0974   0.4956   1.1560   3.4450  27.2300    0.0091       0.0746   \n",
       "4     0.0588   0.7572   0.7813   5.4380  94.4400    0.0115       0.0246   \n",
       "\n",
       "   凹面_標準誤差  凹点_標準誤差  対称性_標準誤差  フラクタル度_標準誤差   半径_最大   きめ_最大    周長_最大     面積_最大  \\\n",
       "0   0.0537   0.0159    0.0300       0.0062 25.3800 17.3300 184.6000 2019.0000   \n",
       "1   0.0186   0.0134    0.0139       0.0035 24.9900 23.4100 158.8000 1956.0000   \n",
       "2   0.0383   0.0206    0.0225       0.0046 23.5700 25.5300 152.5000 1709.0000   \n",
       "3   0.0566   0.0187    0.0596       0.0092 14.9100 26.5000  98.8700  567.7000   \n",
       "4   0.0569   0.0188    0.0176       0.0051 22.5400 16.6700 152.2000 1575.0000   \n",
       "\n",
       "   平滑度_最大  コンパクト度_最大  凹面_最大  凹点_最大  対称性_最大  フラクタル度_最大  \n",
       "0  0.1622     0.6656 0.7119 0.2654  0.4601     0.1189  \n",
       "1  0.1238     0.1866 0.2416 0.1860  0.2750     0.0890  \n",
       "2  0.1444     0.4245 0.4504 0.2430  0.3613     0.0876  \n",
       "3  0.2098     0.8663 0.6869 0.2575  0.6638     0.1730  \n",
       "4  0.1374     0.2050 0.4000 0.1625  0.2364     0.0768  "
      ]
     },
     "metadata": {},
     "output_type": "display_data"
    },
    {
     "data": {
      "text/html": [
       "<div>\n",
       "<style scoped>\n",
       "    .dataframe tbody tr th:only-of-type {\n",
       "        vertical-align: middle;\n",
       "    }\n",
       "\n",
       "    .dataframe tbody tr th {\n",
       "        vertical-align: top;\n",
       "    }\n",
       "\n",
       "    .dataframe thead th {\n",
       "        text-align: right;\n",
       "    }\n",
       "</style>\n",
       "<table border=\"1\" class=\"dataframe\">\n",
       "  <thead>\n",
       "    <tr style=\"text-align: right;\">\n",
       "      <th></th>\n",
       "      <th>半径_平均</th>\n",
       "      <th>きめ_平均</th>\n",
       "      <th>周長_平均</th>\n",
       "      <th>面積_平均</th>\n",
       "      <th>平滑度_平均</th>\n",
       "      <th>コンパクト度_平均</th>\n",
       "      <th>凹面_平均</th>\n",
       "      <th>凹点_平均</th>\n",
       "      <th>対称性_平均</th>\n",
       "      <th>フラクタル度_平均</th>\n",
       "      <th>半径_標準誤差</th>\n",
       "      <th>きめ_標準誤差</th>\n",
       "      <th>周長_標準誤差</th>\n",
       "      <th>面積_標準誤差</th>\n",
       "      <th>平滑度_標準誤差</th>\n",
       "      <th>コンパクト度_標準誤差</th>\n",
       "      <th>凹面_標準誤差</th>\n",
       "      <th>凹点_標準誤差</th>\n",
       "      <th>対称性_標準誤差</th>\n",
       "      <th>フラクタル度_標準誤差</th>\n",
       "      <th>半径_最大</th>\n",
       "      <th>きめ_最大</th>\n",
       "      <th>周長_最大</th>\n",
       "      <th>面積_最大</th>\n",
       "      <th>平滑度_最大</th>\n",
       "      <th>コンパクト度_最大</th>\n",
       "      <th>凹面_最大</th>\n",
       "      <th>凹点_最大</th>\n",
       "      <th>対称性_最大</th>\n",
       "      <th>フラクタル度_最大</th>\n",
       "    </tr>\n",
       "  </thead>\n",
       "  <tbody>\n",
       "    <tr>\n",
       "      <th>19</th>\n",
       "      <td>13.5400</td>\n",
       "      <td>14.3600</td>\n",
       "      <td>87.4600</td>\n",
       "      <td>566.3000</td>\n",
       "      <td>0.0978</td>\n",
       "      <td>0.0813</td>\n",
       "      <td>0.0666</td>\n",
       "      <td>0.0478</td>\n",
       "      <td>0.1885</td>\n",
       "      <td>0.0577</td>\n",
       "      <td>0.2699</td>\n",
       "      <td>0.7886</td>\n",
       "      <td>2.0580</td>\n",
       "      <td>23.5600</td>\n",
       "      <td>0.0085</td>\n",
       "      <td>0.0146</td>\n",
       "      <td>0.0239</td>\n",
       "      <td>0.0132</td>\n",
       "      <td>0.0198</td>\n",
       "      <td>0.0023</td>\n",
       "      <td>15.1100</td>\n",
       "      <td>19.2600</td>\n",
       "      <td>99.7000</td>\n",
       "      <td>711.2000</td>\n",
       "      <td>0.1440</td>\n",
       "      <td>0.1773</td>\n",
       "      <td>0.2390</td>\n",
       "      <td>0.1288</td>\n",
       "      <td>0.2977</td>\n",
       "      <td>0.0726</td>\n",
       "    </tr>\n",
       "    <tr>\n",
       "      <th>20</th>\n",
       "      <td>13.0800</td>\n",
       "      <td>15.7100</td>\n",
       "      <td>85.6300</td>\n",
       "      <td>520.0000</td>\n",
       "      <td>0.1075</td>\n",
       "      <td>0.1270</td>\n",
       "      <td>0.0457</td>\n",
       "      <td>0.0311</td>\n",
       "      <td>0.1967</td>\n",
       "      <td>0.0681</td>\n",
       "      <td>0.1852</td>\n",
       "      <td>0.7477</td>\n",
       "      <td>1.3830</td>\n",
       "      <td>14.6700</td>\n",
       "      <td>0.0041</td>\n",
       "      <td>0.0190</td>\n",
       "      <td>0.0170</td>\n",
       "      <td>0.0065</td>\n",
       "      <td>0.0168</td>\n",
       "      <td>0.0024</td>\n",
       "      <td>14.5000</td>\n",
       "      <td>20.4900</td>\n",
       "      <td>96.0900</td>\n",
       "      <td>630.5000</td>\n",
       "      <td>0.1312</td>\n",
       "      <td>0.2776</td>\n",
       "      <td>0.1890</td>\n",
       "      <td>0.0728</td>\n",
       "      <td>0.3184</td>\n",
       "      <td>0.0818</td>\n",
       "    </tr>\n",
       "    <tr>\n",
       "      <th>21</th>\n",
       "      <td>9.5040</td>\n",
       "      <td>12.4400</td>\n",
       "      <td>60.3400</td>\n",
       "      <td>273.9000</td>\n",
       "      <td>0.1024</td>\n",
       "      <td>0.0649</td>\n",
       "      <td>0.0296</td>\n",
       "      <td>0.0208</td>\n",
       "      <td>0.1815</td>\n",
       "      <td>0.0691</td>\n",
       "      <td>0.2773</td>\n",
       "      <td>0.9768</td>\n",
       "      <td>1.9090</td>\n",
       "      <td>15.7000</td>\n",
       "      <td>0.0096</td>\n",
       "      <td>0.0143</td>\n",
       "      <td>0.0198</td>\n",
       "      <td>0.0142</td>\n",
       "      <td>0.0203</td>\n",
       "      <td>0.0030</td>\n",
       "      <td>10.2300</td>\n",
       "      <td>15.6600</td>\n",
       "      <td>65.1300</td>\n",
       "      <td>314.9000</td>\n",
       "      <td>0.1324</td>\n",
       "      <td>0.1148</td>\n",
       "      <td>0.0887</td>\n",
       "      <td>0.0623</td>\n",
       "      <td>0.2450</td>\n",
       "      <td>0.0777</td>\n",
       "    </tr>\n",
       "    <tr>\n",
       "      <th>37</th>\n",
       "      <td>13.0300</td>\n",
       "      <td>18.4200</td>\n",
       "      <td>82.6100</td>\n",
       "      <td>523.8000</td>\n",
       "      <td>0.0898</td>\n",
       "      <td>0.0377</td>\n",
       "      <td>0.0256</td>\n",
       "      <td>0.0292</td>\n",
       "      <td>0.1467</td>\n",
       "      <td>0.0586</td>\n",
       "      <td>0.1839</td>\n",
       "      <td>2.3420</td>\n",
       "      <td>1.1700</td>\n",
       "      <td>14.1600</td>\n",
       "      <td>0.0044</td>\n",
       "      <td>0.0049</td>\n",
       "      <td>0.0134</td>\n",
       "      <td>0.0116</td>\n",
       "      <td>0.0267</td>\n",
       "      <td>0.0018</td>\n",
       "      <td>13.3000</td>\n",
       "      <td>22.8100</td>\n",
       "      <td>84.4600</td>\n",
       "      <td>545.9000</td>\n",
       "      <td>0.0970</td>\n",
       "      <td>0.0462</td>\n",
       "      <td>0.0483</td>\n",
       "      <td>0.0501</td>\n",
       "      <td>0.1987</td>\n",
       "      <td>0.0617</td>\n",
       "    </tr>\n",
       "    <tr>\n",
       "      <th>46</th>\n",
       "      <td>8.1960</td>\n",
       "      <td>16.8400</td>\n",
       "      <td>51.7100</td>\n",
       "      <td>201.9000</td>\n",
       "      <td>0.0860</td>\n",
       "      <td>0.0594</td>\n",
       "      <td>0.0159</td>\n",
       "      <td>0.0059</td>\n",
       "      <td>0.1769</td>\n",
       "      <td>0.0650</td>\n",
       "      <td>0.1563</td>\n",
       "      <td>0.9567</td>\n",
       "      <td>1.0940</td>\n",
       "      <td>8.2050</td>\n",
       "      <td>0.0090</td>\n",
       "      <td>0.0165</td>\n",
       "      <td>0.0159</td>\n",
       "      <td>0.0059</td>\n",
       "      <td>0.0257</td>\n",
       "      <td>0.0026</td>\n",
       "      <td>8.9640</td>\n",
       "      <td>21.9600</td>\n",
       "      <td>57.2600</td>\n",
       "      <td>242.2000</td>\n",
       "      <td>0.1297</td>\n",
       "      <td>0.1357</td>\n",
       "      <td>0.0688</td>\n",
       "      <td>0.0256</td>\n",
       "      <td>0.3105</td>\n",
       "      <td>0.0741</td>\n",
       "    </tr>\n",
       "  </tbody>\n",
       "</table>\n",
       "</div>"
      ],
      "text/plain": [
       "     半径_平均   きめ_平均   周長_平均    面積_平均  平滑度_平均  コンパクト度_平均  凹面_平均  凹点_平均  対称性_平均  \\\n",
       "19 13.5400 14.3600 87.4600 566.3000  0.0978     0.0813 0.0666 0.0478  0.1885   \n",
       "20 13.0800 15.7100 85.6300 520.0000  0.1075     0.1270 0.0457 0.0311  0.1967   \n",
       "21  9.5040 12.4400 60.3400 273.9000  0.1024     0.0649 0.0296 0.0208  0.1815   \n",
       "37 13.0300 18.4200 82.6100 523.8000  0.0898     0.0377 0.0256 0.0292  0.1467   \n",
       "46  8.1960 16.8400 51.7100 201.9000  0.0860     0.0594 0.0159 0.0059  0.1769   \n",
       "\n",
       "    フラクタル度_平均  半径_標準誤差  きめ_標準誤差  周長_標準誤差  面積_標準誤差  平滑度_標準誤差  コンパクト度_標準誤差  \\\n",
       "19     0.0577   0.2699   0.7886   2.0580  23.5600    0.0085       0.0146   \n",
       "20     0.0681   0.1852   0.7477   1.3830  14.6700    0.0041       0.0190   \n",
       "21     0.0691   0.2773   0.9768   1.9090  15.7000    0.0096       0.0143   \n",
       "37     0.0586   0.1839   2.3420   1.1700  14.1600    0.0044       0.0049   \n",
       "46     0.0650   0.1563   0.9567   1.0940   8.2050    0.0090       0.0165   \n",
       "\n",
       "    凹面_標準誤差  凹点_標準誤差  対称性_標準誤差  フラクタル度_標準誤差   半径_最大   きめ_最大   周長_最大    面積_最大  \\\n",
       "19   0.0239   0.0132    0.0198       0.0023 15.1100 19.2600 99.7000 711.2000   \n",
       "20   0.0170   0.0065    0.0168       0.0024 14.5000 20.4900 96.0900 630.5000   \n",
       "21   0.0198   0.0142    0.0203       0.0030 10.2300 15.6600 65.1300 314.9000   \n",
       "37   0.0134   0.0116    0.0267       0.0018 13.3000 22.8100 84.4600 545.9000   \n",
       "46   0.0159   0.0059    0.0257       0.0026  8.9640 21.9600 57.2600 242.2000   \n",
       "\n",
       "    平滑度_最大  コンパクト度_最大  凹面_最大  凹点_最大  対称性_最大  フラクタル度_最大  \n",
       "19  0.1440     0.1773 0.2390 0.1288  0.2977     0.0726  \n",
       "20  0.1312     0.2776 0.1890 0.0728  0.3184     0.0818  \n",
       "21  0.1324     0.1148 0.0887 0.0623  0.2450     0.0777  \n",
       "37  0.0970     0.0462 0.0483 0.0501  0.1987     0.0617  \n",
       "46  0.1297     0.1357 0.0688 0.0256  0.3105     0.0741  "
      ]
     },
     "metadata": {},
     "output_type": "display_data"
    }
   ],
   "source": [
    "# 散布図描画の準備\n",
    "# データを正解データ=0のグループと正解データ=1のグループに分割する\n",
    "\n",
    "# 正解データ = 0 (悪性)のデータ抽出\n",
    "df0 = df[y==0]\n",
    "\n",
    "# 正解データ = 1(良性)のデータ抽出\n",
    "df1 = df[y==1]\n",
    "\n",
    "display(df0.head())\n",
    "display(df1.head())"
   ]
  },
  {
   "cell_type": "code",
   "execution_count": 9,
   "metadata": {
    "colab": {
     "base_uri": "https://localhost:8080/",
     "height": 395
    },
    "colab_type": "code",
    "id": "pCm4vGsw-kOG",
    "outputId": "9fb69481-df8e-4f62-ca88-38376b7c9d59"
   },
   "outputs": [
    {
     "data": {
      "image/png": "[encoded data removed]",
      "text/plain": [
       "<Figure size 432x432 with 1 Axes>"
      ]
     },
     "metadata": {
      "needs_background": "light"
     },
     "output_type": "display_data"
    }
   ],
   "source": [
    "# 散布図表示\n",
    "\n",
    "# グラフのサイズ設定\n",
    "plt.figure(figsize=(6,6))\n",
    "\n",
    "# 目的変数が0のデータを散布図表示\n",
    "plt.scatter(df0['半径_平均'], df0['きめ_平均'], marker='x', c='b', label='悪性')\n",
    "\n",
    "# 目的変数が1のデータを散布図表示\n",
    "plt.scatter(df1['半径_平均'], df1['きめ_平均'], marker='s', c='k', label='良性')\n",
    "\n",
    "# 格子表示\n",
    "plt.grid()\n",
    "\n",
    "# ラベル表示\n",
    "plt.xlabel('半径_平均')\n",
    "plt.ylabel('きめ_平均')\n",
    "\n",
    "# 凡例表示\n",
    "plt.legend()\n",
    "\n",
    "# グラフ表示\n",
    "plt.show()"
   ]
  },
  {
   "cell_type": "markdown",
   "metadata": {
    "colab_type": "text",
    "id": "aqIx-ZNmau5R"
   },
   "source": [
    "## (3) データ前処理"
   ]
  },
  {
   "cell_type": "code",
   "execution_count": 10,
   "metadata": {
    "colab": {
     "base_uri": "https://localhost:8080/",
     "height": 204
    },
    "colab_type": "code",
    "id": "95nHMEf_xd6g",
    "outputId": "93d3dcc7-1005-46fc-fdc1-0d28fcf09d02"
   },
   "outputs": [
    {
     "data": {
      "text/html": [
       "<div>\n",
       "<style scoped>\n",
       "    .dataframe tbody tr th:only-of-type {\n",
       "        vertical-align: middle;\n",
       "    }\n",
       "\n",
       "    .dataframe tbody tr th {\n",
       "        vertical-align: top;\n",
       "    }\n",
       "\n",
       "    .dataframe thead th {\n",
       "        text-align: right;\n",
       "    }\n",
       "</style>\n",
       "<table border=\"1\" class=\"dataframe\">\n",
       "  <thead>\n",
       "    <tr style=\"text-align: right;\">\n",
       "      <th></th>\n",
       "      <th>半径_平均</th>\n",
       "      <th>きめ_平均</th>\n",
       "    </tr>\n",
       "  </thead>\n",
       "  <tbody>\n",
       "    <tr>\n",
       "      <th>0</th>\n",
       "      <td>17.9900</td>\n",
       "      <td>10.3800</td>\n",
       "    </tr>\n",
       "    <tr>\n",
       "      <th>1</th>\n",
       "      <td>20.5700</td>\n",
       "      <td>17.7700</td>\n",
       "    </tr>\n",
       "    <tr>\n",
       "      <th>2</th>\n",
       "      <td>19.6900</td>\n",
       "      <td>21.2500</td>\n",
       "    </tr>\n",
       "    <tr>\n",
       "      <th>3</th>\n",
       "      <td>11.4200</td>\n",
       "      <td>20.3800</td>\n",
       "    </tr>\n",
       "    <tr>\n",
       "      <th>4</th>\n",
       "      <td>20.2900</td>\n",
       "      <td>14.3400</td>\n",
       "    </tr>\n",
       "  </tbody>\n",
       "</table>\n",
       "</div>"
      ],
      "text/plain": [
       "    半径_平均   きめ_平均\n",
       "0 17.9900 10.3800\n",
       "1 20.5700 17.7700\n",
       "2 19.6900 21.2500\n",
       "3 11.4200 20.3800\n",
       "4 20.2900 14.3400"
      ]
     },
     "metadata": {},
     "output_type": "display_data"
    }
   ],
   "source": [
    "# 入力データを2項目だけに絞り込む\n",
    "\n",
    "input_columns = ['半径_平均', 'きめ_平均']\n",
    "x = df[input_columns]\n",
    "display(x.head())"
   ]
  },
  {
   "cell_type": "markdown",
   "metadata": {},
   "source": [
    "## (4) データ分割"
   ]
  },
  {
   "cell_type": "code",
   "execution_count": 11,
   "metadata": {
    "colab": {},
    "colab_type": "code",
    "id": "0b9yh-rMNKCL"
   },
   "outputs": [],
   "source": [
    "# 訓練用データと検証用データの分割\n",
    "\n",
    "from sklearn.model_selection import train_test_split\n",
    "x_train, x_test, y_train, y_test = train_test_split(x, y, \n",
    "    train_size=0.7, test_size=0.3, random_state=random_seed)"
   ]
  },
  {
   "cell_type": "code",
   "execution_count": 12,
   "metadata": {
    "colab": {
     "base_uri": "https://localhost:8080/",
     "height": 85
    },
    "colab_type": "code",
    "id": "BkHtxn--OEwu",
    "outputId": "429f00ca-b7d6-4a1d-eaed-b920685c6a96"
   },
   "outputs": [
    {
     "name": "stdout",
     "output_type": "stream",
     "text": [
      "(398, 2)\n",
      "(171, 2)\n",
      "(398,)\n",
      "(171,)\n"
     ]
    }
   ],
   "source": [
    "# 分割結果の確認 (要素数)\n",
    "\n",
    "print(x_train.shape)\n",
    "print(x_test.shape)\n",
    "print(y_train.shape)\n",
    "print(y_test.shape)"
   ]
  },
  {
   "cell_type": "code",
   "execution_count": 13,
   "metadata": {
    "colab": {
     "base_uri": "https://localhost:8080/",
     "height": 595
    },
    "colab_type": "code",
    "id": "PtJYmh1-jFFP",
    "outputId": "ef7e28fa-2f73-4c99-bf4e-719d8a3860b7"
   },
   "outputs": [
    {
     "data": {
      "text/html": [
       "<div>\n",
       "<style scoped>\n",
       "    .dataframe tbody tr th:only-of-type {\n",
       "        vertical-align: middle;\n",
       "    }\n",
       "\n",
       "    .dataframe tbody tr th {\n",
       "        vertical-align: top;\n",
       "    }\n",
       "\n",
       "    .dataframe thead th {\n",
       "        text-align: right;\n",
       "    }\n",
       "</style>\n",
       "<table border=\"1\" class=\"dataframe\">\n",
       "  <thead>\n",
       "    <tr style=\"text-align: right;\">\n",
       "      <th></th>\n",
       "      <th>半径_平均</th>\n",
       "      <th>きめ_平均</th>\n",
       "    </tr>\n",
       "  </thead>\n",
       "  <tbody>\n",
       "    <tr>\n",
       "      <th>559</th>\n",
       "      <td>11.5100</td>\n",
       "      <td>23.9300</td>\n",
       "    </tr>\n",
       "    <tr>\n",
       "      <th>295</th>\n",
       "      <td>13.7700</td>\n",
       "      <td>13.2700</td>\n",
       "    </tr>\n",
       "    <tr>\n",
       "      <th>264</th>\n",
       "      <td>17.1900</td>\n",
       "      <td>22.0700</td>\n",
       "    </tr>\n",
       "    <tr>\n",
       "      <th>125</th>\n",
       "      <td>13.8500</td>\n",
       "      <td>17.2100</td>\n",
       "    </tr>\n",
       "    <tr>\n",
       "      <th>280</th>\n",
       "      <td>19.1600</td>\n",
       "      <td>26.6000</td>\n",
       "    </tr>\n",
       "  </tbody>\n",
       "</table>\n",
       "</div>"
      ],
      "text/plain": [
       "      半径_平均   きめ_平均\n",
       "559 11.5100 23.9300\n",
       "295 13.7700 13.2700\n",
       "264 17.1900 22.0700\n",
       "125 13.8500 17.2100\n",
       "280 19.1600 26.6000"
      ]
     },
     "metadata": {},
     "output_type": "display_data"
    },
    {
     "data": {
      "text/html": [
       "<div>\n",
       "<style scoped>\n",
       "    .dataframe tbody tr th:only-of-type {\n",
       "        vertical-align: middle;\n",
       "    }\n",
       "\n",
       "    .dataframe tbody tr th {\n",
       "        vertical-align: top;\n",
       "    }\n",
       "\n",
       "    .dataframe thead th {\n",
       "        text-align: right;\n",
       "    }\n",
       "</style>\n",
       "<table border=\"1\" class=\"dataframe\">\n",
       "  <thead>\n",
       "    <tr style=\"text-align: right;\">\n",
       "      <th></th>\n",
       "      <th>半径_平均</th>\n",
       "      <th>きめ_平均</th>\n",
       "    </tr>\n",
       "  </thead>\n",
       "  <tbody>\n",
       "    <tr>\n",
       "      <th>333</th>\n",
       "      <td>11.2500</td>\n",
       "      <td>14.7800</td>\n",
       "    </tr>\n",
       "    <tr>\n",
       "      <th>273</th>\n",
       "      <td>9.7420</td>\n",
       "      <td>15.6700</td>\n",
       "    </tr>\n",
       "    <tr>\n",
       "      <th>201</th>\n",
       "      <td>17.5400</td>\n",
       "      <td>19.3200</td>\n",
       "    </tr>\n",
       "    <tr>\n",
       "      <th>178</th>\n",
       "      <td>13.0100</td>\n",
       "      <td>22.2200</td>\n",
       "    </tr>\n",
       "    <tr>\n",
       "      <th>85</th>\n",
       "      <td>18.4600</td>\n",
       "      <td>18.5200</td>\n",
       "    </tr>\n",
       "  </tbody>\n",
       "</table>\n",
       "</div>"
      ],
      "text/plain": [
       "      半径_平均   きめ_平均\n",
       "333 11.2500 14.7800\n",
       "273  9.7420 15.6700\n",
       "201 17.5400 19.3200\n",
       "178 13.0100 22.2200\n",
       "85  18.4600 18.5200"
      ]
     },
     "metadata": {},
     "output_type": "display_data"
    },
    {
     "data": {
      "text/plain": [
       "559    1\n",
       "295    1\n",
       "264    0\n",
       "125    1\n",
       "280    0\n",
       "dtype: int64"
      ]
     },
     "metadata": {},
     "output_type": "display_data"
    },
    {
     "data": {
      "text/plain": [
       "333    1\n",
       "273    1\n",
       "201    0\n",
       "178    1\n",
       "85     0\n",
       "dtype: int64"
      ]
     },
     "metadata": {},
     "output_type": "display_data"
    }
   ],
   "source": [
    "# 分割結果の確認 (データの内容)\n",
    "\n",
    "display(x_train.head())\n",
    "display(x_test.head())\n",
    "display(y_train.head())\n",
    "display(y_test.head())"
   ]
  },
  {
   "cell_type": "markdown",
   "metadata": {
    "colab_type": "text",
    "id": "8xpwIVSZbKFS"
   },
   "source": [
    "## (5) アルゴリズム選定"
   ]
  },
  {
   "cell_type": "code",
   "execution_count": 14,
   "metadata": {
    "colab": {},
    "colab_type": "code",
    "id": "38pyzBSA-sZo"
   },
   "outputs": [],
   "source": [
    "# アルゴリズム選定\n",
    "\n",
    "from sklearn.linear_model import LogisticRegression\n",
    "algorism = LogisticRegression(random_state=random_seed)"
   ]
  },
  {
   "cell_type": "markdown",
   "metadata": {},
   "source": [
    "## (6) 学習"
   ]
  },
  {
   "cell_type": "code",
   "execution_count": 15,
   "metadata": {
    "colab": {
     "base_uri": "https://localhost:8080/",
     "height": 102
    },
    "colab_type": "code",
    "id": "KgGL_5uxbsnG",
    "outputId": "39f80308-1701-4ebd-87f8-2ca4e6c6d257"
   },
   "outputs": [
    {
     "name": "stdout",
     "output_type": "stream",
     "text": [
      "LogisticRegression(C=1.0, class_weight=None, dual=False, fit_intercept=True,\n",
      "                   intercept_scaling=1, l1_ratio=None, max_iter=100,\n",
      "                   multi_class='auto', n_jobs=None, penalty='l2',\n",
      "                   random_state=123, solver='lbfgs', tol=0.0001, verbose=0,\n",
      "                   warm_start=False)\n"
     ]
    }
   ],
   "source": [
    "# 学習\n",
    "\n",
    "algorism.fit(x_train, y_train)\n",
    "print(algorism)"
   ]
  },
  {
   "cell_type": "markdown",
   "metadata": {},
   "source": [
    "## (7) 予測"
   ]
  },
  {
   "cell_type": "code",
   "execution_count": 16,
   "metadata": {
    "colab": {
     "base_uri": "https://localhost:8080/",
     "height": 102
    },
    "colab_type": "code",
    "id": "YyBEtP_EEBz9",
    "outputId": "5194d090-5bc1-466e-bddb-53ce8a5c7d46"
   },
   "outputs": [
    {
     "name": "stdout",
     "output_type": "stream",
     "text": [
      "[1 1 0 1 0 1 1 1 1 1 1 0 1 1 0 1 1 1 1 1 0 1 1 1 1 0 0 1 0 1 1 1 1 1 0 1 1\n",
      " 1 1 0 0 1 1 1 0 1 0 0 0 1 1 0 1 1 1 0 1 0 0 1 0 1 1 1 1 0 1 1 1 1 1 1 1 1\n",
      " 0 1 1 0 0 0 1 0 0 1 1 1 0 1 0 1 1 1 1 0 1 1 1 1 1 1 1 1 1 1 1 1 1 1 1 1 1\n",
      " 1 1 0 1 0 1 0 1 1 0 1 1 1 0 1 1 1 1 1 0 1 1 1 0 1 1 1 0 0 0 1 0 1 0 1 1 0\n",
      " 1 0 1 1 1 1 1 1 0 0 0 1 1 1 1 0 1 1 1 0 0 0 1]\n"
     ]
    }
   ],
   "source": [
    "# 予測\n",
    "\n",
    "# predict関数の呼出し\n",
    "y_pred = algorism.predict(x_test)\n",
    "\n",
    "# 結果の確認\n",
    "print(y_pred)"
   ]
  },
  {
   "cell_type": "markdown",
   "metadata": {},
   "source": [
    "## (8) 評価"
   ]
  },
  {
   "cell_type": "code",
   "execution_count": 17,
   "metadata": {
    "colab": {
     "base_uri": "https://localhost:8080/",
     "height": 51
    },
    "colab_type": "code",
    "id": "sE0vi8a6A0VM",
    "outputId": "2d0d1f01-95a6-45a7-a114-66c948fe9a2e"
   },
   "outputs": [
    {
     "name": "stdout",
     "output_type": "stream",
     "text": [
      "[1 1 0 1 0 1 1 0 1 1]\n",
      "[1 1 0 1 0 1 1 1 1 1]\n"
     ]
    }
   ],
   "source": [
    "# 正解データと予測結果の比較\n",
    "\n",
    "# 正解データ　先頭から10個\n",
    "# y_testはDataFrameなので、valuesによりNumPyに変換しておく\n",
    "y_test10 = y_test[:10].values\n",
    "print(y_test10)\n",
    "\n",
    "# 予測結果　先頭から20個\n",
    "y_pred10 = y_pred[:10]\n",
    "print(y_pred10)"
   ]
  },
  {
   "cell_type": "code",
   "execution_count": 18,
   "metadata": {
    "colab": {
     "base_uri": "https://localhost:8080/",
     "height": 68
    },
    "colab_type": "code",
    "id": "leq0Iov-Gr-T",
    "outputId": "f902eac8-6d18-4465-fa0b-b325aab9a214"
   },
   "outputs": [
    {
     "name": "stdout",
     "output_type": "stream",
     "text": [
      "[ True  True  True  True  True  True  True False  True  True]\n",
      "9\n"
     ]
    }
   ],
   "source": [
    "# 正解数のカウント\n",
    "\n",
    "# 正解データ = 予測結果　\n",
    "w1 = (y_test10 == y_pred10)\n",
    "print(w1)\n",
    "\n",
    "# 正解データの数\n",
    "w2 = w1.sum()\n",
    "print(w2)"
   ]
  },
  {
   "cell_type": "code",
   "execution_count": 19,
   "metadata": {
    "colab": {
     "base_uri": "https://localhost:8080/",
     "height": 34
    },
    "colab_type": "code",
    "id": "Wvh2jKELHmHg",
    "outputId": "bff8d7fa-0742-4896-d554-b31cdb898afd"
   },
   "outputs": [
    {
     "name": "stdout",
     "output_type": "stream",
     "text": [
      "精度: 0.8772\n"
     ]
    }
   ],
   "source": [
    "# 精度の計算\n",
    "\n",
    "# 正解数の計算\n",
    "w = (y_test.values == y_pred)\n",
    "correct = w.sum()\n",
    "\n",
    "# 全体数の計算\n",
    "N = len(w)\n",
    "\n",
    "# 精度 = (正解データの数) / (全体の数)\n",
    "score = correct / N\n",
    "\n",
    "# 結果表示\n",
    "print(f'精度: {score:.04f}')"
   ]
  },
  {
   "cell_type": "code",
   "execution_count": 20,
   "metadata": {
    "colab": {
     "base_uri": "https://localhost:8080/",
     "height": 34
    },
    "colab_type": "code",
    "id": "gUqIk9QtH6pj",
    "outputId": "eb1b2291-7016-46ce-ba4d-01127d367cac"
   },
   "outputs": [
    {
     "name": "stdout",
     "output_type": "stream",
     "text": [
      "score: 0.8772\n"
     ]
    }
   ],
   "source": [
    "# score関数の利用\n",
    "\n",
    "# 実は精度は score関数で簡単に計算できる\n",
    "score = algorism.score(x_test, y_test)\n",
    "print(f'score: {score:.04f}')"
   ]
  },
  {
   "cell_type": "markdown",
   "metadata": {
    "colab_type": "text",
    "id": "C_dGu1VG06Yk"
   },
   "source": [
    "## (9) チューニング"
   ]
  },
  {
   "cell_type": "code",
   "execution_count": 21,
   "metadata": {
    "colab": {
     "base_uri": "https://localhost:8080/",
     "height": 34
    },
    "colab_type": "code",
    "id": "HoFTZxRJ1Aeq",
    "outputId": "dccb4b0c-c28c-45f1-c400-8a2da2dc57eb"
   },
   "outputs": [
    {
     "name": "stdout",
     "output_type": "stream",
     "text": [
      "score: 0.9591\n"
     ]
    }
   ],
   "source": [
    "# モデルの精度を上げる\n",
    "\n",
    "# オリジナルの30項目の入力データを使って、訓練データ、検証データを作り直す\n",
    "x2_train, x2_test, y_train, y_test = train_test_split(df, y, \n",
    "    train_size=0.7, test_size=0.3, random_state=random_seed)\n",
    "\n",
    "# # ロジスティック回帰モデルのインスタンスを新たに作り直す\n",
    "algorism2 = LogisticRegression(random_state=random_seed)\n",
    "\n",
    "# 訓練データで学習\n",
    "algorism2.fit(x2_train, y_train)\n",
    "\n",
    "# 検証データで精度を確認\n",
    "score2 = algorism2.score(x2_test, y_test)\n",
    "print(f'score: {score2:.04f}')"
   ]
  },
  {
   "cell_type": "markdown",
   "metadata": {},
   "source": [
    "## (補足) 決定境界の表示\n",
    "以下のセルでは、決定境界を表示するためのコードと、なぜそのような実装になるかの簡単な解説を記載しています。  \n",
    "かなり高度は内容ですので、あまりPythonに詳しくない読者は、飛ばしてもらって構いません。  \n",
    "Pytho実装に関心のある読者は参考とするようにしてください。"
   ]
  },
  {
   "cell_type": "markdown",
   "metadata": {},
   "source": [
    "### ロジスティック回帰の内部構造\n",
    "\n",
    "ロジスティック回帰モデルとは、  \n",
    "(1) 入力変数を一次関数にかけて実数値を導出  \n",
    "(2) (1)で得られた一次関数値をシグモイド関数と呼ばれる関数にかけて確率値を算出  \n",
    "(3) (2)の結果が0.5より大きいか小さいかで予測結果が1か0かを判断\n",
    "という処理を内部的に行っています。  \n",
    "\n",
    "(1)で使われる一次関数の傾きと切片はそれぞれ変数coef_とintercept_で取得可能です。  \n",
    "以下のコードではこの性質を使って、内部変数値を取得しています。\n",
    "\n",
    "なお、このモデルでは多値分類用に、複数の内部変数を保持できるようになっています。\n",
    "そのため、配列が2次元になっていますが、今回利用するのは2値分類なので、最初の要素([0])の値のみ利用します。\n",
    "\n"
   ]
  },
  {
   "cell_type": "markdown",
   "metadata": {},
   "source": [
    "### 内部変数値の取得"
   ]
  },
  {
   "cell_type": "code",
   "execution_count": 22,
   "metadata": {},
   "outputs": [
    {
     "name": "stdout",
     "output_type": "stream",
     "text": [
      "w0 = 19.6195  w1 = -1.0275  w2 = -0.2151\n"
     ]
    }
   ],
   "source": [
    "# モデルの内部変数(切片と係数)の取得\n",
    "\n",
    "# x1とx2の係数\n",
    "w1 = algorism.coef_[0][0]\n",
    "w2 = algorism.coef_[0][1]\n",
    "\n",
    "# 切片の値\n",
    "w0 = algorism.intercept_[0]\n",
    "\n",
    "# 値の確認\n",
    "print(f'w0 = {w0:.4f}  w1 = {w1:.4f}  w2 = {w2:.4f}')"
   ]
  },
  {
   "cell_type": "markdown",
   "metadata": {},
   "source": [
    "### boundary関数の定義"
   ]
  },
  {
   "cell_type": "markdown",
   "metadata": {},
   "source": [
    "ここで得られた w0, w1, w2の値を用いると、散布図上に決定境界を示すための関数boundaryを決めることができます。  \n",
    "具体的な関数と、それを導出するための式を以下のセルで示しました。"
   ]
  },
  {
   "cell_type": "code",
   "execution_count": 23,
   "metadata": {},
   "outputs": [],
   "source": [
    "# 決定境界計算用関数\n",
    "\n",
    "# 決定境界計算用関数\n",
    "# 0 = w0 + w1 * x + w2 * y をyについて解くと以下の式になる\n",
    "# y = -(w0 + w1 * x)/ w2\n",
    "\n",
    "def boundary(algorism, x):\n",
    "    w1 = algorism.coef_[0][0]\n",
    "    w2 = algorism.coef_[0][1]\n",
    "    w0 = algorism.intercept_[0]\n",
    "    y = -(w0 + w1 * x)/w2\n",
    "    return y"
   ]
  },
  {
   "cell_type": "markdown",
   "metadata": {},
   "source": [
    "### 決定境界の端点値の計算"
   ]
  },
  {
   "cell_type": "markdown",
   "metadata": {},
   "source": [
    "次に示すコードは、上で定義したboundary関数を利用して、決定境界を構成する端点の座標を求めるためのものです。  \n",
    "あわせて、元のデータフレームからyの最小値と最大値を求め、グラフの見栄えをよくします 。"
   ]
  },
  {
   "cell_type": "code",
   "execution_count": 24,
   "metadata": {},
   "outputs": [
    {
     "name": "stdout",
     "output_type": "stream",
     "text": [
      "端点のx座標:  [ 6.981 28.11 ]\n",
      "端点のy座標:  [ 57.8637 -43.0655]\n",
      "グラフのy領域:  (9.71, 39.28)\n"
     ]
    }
   ],
   "source": [
    "# 決定境界の端点値計算\n",
    "\n",
    "# 決定境界の端点のx座標\n",
    "x_range = np.array((df['半径_平均'].min(), df['半径_平均'].max()))\n",
    "\n",
    "# 決定境界の端点のy座標\n",
    "y_range = boundary(algorism, x_range)\n",
    "\n",
    "# yの上限、下限は散布図の点を元に決める\n",
    "y_lim = (df['きめ_平均'].min(), df['きめ_平均'].max())\n",
    "\n",
    "# 結果確認\n",
    "print('端点のx座標: ', x_range)\n",
    "print('端点のy座標: ', y_range)\n",
    "print('グラフのy領域: ', y_lim)"
   ]
  },
  {
   "cell_type": "markdown",
   "metadata": {},
   "source": [
    "### 散布図と決定境界の表示"
   ]
  },
  {
   "cell_type": "markdown",
   "metadata": {},
   "source": [
    "これですべての準備は整いました。  \n",
    "次に示すコードでは、コード3-8で表示した学習データの散布図と、今求めた決定境界を重ね描きしています。"
   ]
  },
  {
   "cell_type": "code",
   "execution_count": 25,
   "metadata": {},
   "outputs": [
    {
     "data": {
      "image/png": "[encoded data removed]",
      "text/plain": [
       "<Figure size 432x432 with 1 Axes>"
      ]
     },
     "metadata": {
      "needs_background": "light"
     },
     "output_type": "display_data"
    }
   ],
   "source": [
    "# 散布図と決定境界の表示\n",
    "\n",
    "# グラフのサイズ設定\n",
    "plt.figure(figsize=(6,6))\n",
    "\n",
    "# 目的変数が0のデータを散布図表示\n",
    "plt.scatter(df0['半径_平均'], df0['きめ_平均'], marker='x', c='b', label='悪性')\n",
    "\n",
    "# 目的変数が1のデータを散布図表示\n",
    "plt.scatter(df1['半径_平均'], df1['きめ_平均'], marker='s', c='k', label='良性')\n",
    "\n",
    "# 決定境界\n",
    "plt.plot(x_range, y_range, c='b', label='決定境界')\n",
    "\n",
    "# 範囲指定\n",
    "plt.ylim(y_lim)\n",
    "\n",
    "# ラベル表示\n",
    "plt.xlabel('半径_平均')\n",
    "plt.ylabel('きめ_平均')\n",
    "\n",
    "# 凡例表示\n",
    "plt.legend()\n",
    "\n",
    "# 方眼表示\n",
    "plt.grid()\n",
    "\n",
    "# グラフ表示\n",
    "plt.show()"
   ]
  },
  {
   "cell_type": "code",
   "execution_count": null,
   "metadata": {},
   "outputs": [],
   "source": []
  }
 ],
 "metadata": {
  "colab": {
   "collapsed_sections": [],
   "name": "ch03-01-cancer.ipynb",
   "provenance": []
  },
  "kernelspec": {
   "display_name": "Python 3",
   "language": "python",
   "name": "python3"
  },
  "language_info": {
   "codemirror_mode": {
    "name": "ipython",
    "version": 3
   },
   "file_extension": ".py",
   "mimetype": "text/x-python",
   "name": "python",
   "nbconvert_exporter": "python",
   "pygments_lexer": "ipython3",
   "version": "3.7.6"
  }
 },
 "nbformat": 4,
 "nbformat_minor": 4
}
