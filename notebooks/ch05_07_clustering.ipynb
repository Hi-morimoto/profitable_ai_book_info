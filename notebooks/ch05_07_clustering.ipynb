{
 "cells": [
  {
   "cell_type": "markdown",
   "metadata": {},
   "source": [
    "## 5.7 顧客分析\n",
    "\n",
    "処理パターン:  \n",
    "クラスタリング、次元圧縮"
   ]
  },
  {
   "cell_type": "markdown",
   "metadata": {},
   "source": [
    "### オリジナルURL\n",
    "Wholesale customers Data Set \n",
    "\n",
    "https://archive.ics.uci.edu/ml/datasets/wholesale+customers"
   ]
  },
  {
   "cell_type": "markdown",
   "metadata": {},
   "source": [
    "### 共通事前処理"
   ]
  },
  {
   "cell_type": "code",
   "execution_count": 1,
   "metadata": {},
   "outputs": [
    {
     "name": "stdout",
     "output_type": "stream",
     "text": [
      "Requirement already satisfied: setuptools in /opt/anaconda3/lib/python3.7/site-packages (from kiwisolver>=1.0.1->matplotlib->japanize-matplotlib) (46.0.0.post20200309)\r\n"
     ]
    }
   ],
   "source": [
    "# 日本語化ライブラリ導入\n",
    "!pip install japanize-matplotlib | tail -n 1"
   ]
  },
  {
   "cell_type": "code",
   "execution_count": 2,
   "metadata": {},
   "outputs": [],
   "source": [
    "# 共通事前処理\n",
    "\n",
    "# 余分なワーニングを非表示にする\n",
    "import warnings\n",
    "warnings.filterwarnings('ignore')\n",
    "\n",
    "# 必要ライブラリのimport\n",
    "import pandas as pd\n",
    "import numpy as np\n",
    "import matplotlib.pyplot as plt\n",
    "\n",
    "# matplotlib日本語化対応\n",
    "import japanize_matplotlib\n",
    "\n",
    "# データフレーム表示用関数\n",
    "from IPython.display import display\n",
    "\n",
    "# 表示オプション調整\n",
    "# データフレームですべての項目を表示\n",
    "pd.set_option(\"display.max_columns\",None)\n",
    "# numpyの浮動小数点の表示精度\n",
    "np.set_printoptions(suppress=True, precision=4)\n",
    "# データフレームでの表示精度\n",
    "pd.options.display.float_format = '{:.4f}'.format\n",
    "# グラフのデフォルトフォント指定\n",
    "plt.rcParams[\"font.size\"] = 14\n",
    "\n",
    "# 乱数の種\n",
    "random_seed = 123"
   ]
  },
  {
   "cell_type": "markdown",
   "metadata": {},
   "source": [
    "### 5.7.3 データ読み込みからデータ確認まで"
   ]
  },
  {
   "cell_type": "markdown",
   "metadata": {},
   "source": [
    "####  (1) データ読み込み"
   ]
  },
  {
   "cell_type": "code",
   "execution_count": 3,
   "metadata": {},
   "outputs": [],
   "source": [
    "# データ読み込み\n",
    "url = 'https://archive.ics.uci.edu/ml/machine-learning-databases\\\n",
    "/00292/Wholesale%20customers%20data.csv'\n",
    "\n",
    "df = pd.read_csv(url)\n",
    "\n",
    "# 日本語に変更\n",
    "columns = ['販売チャネル', '地域', '生鮮食品', '乳製品', '食料品', \n",
    "    '冷凍食品', '洗剤_紙製品', '総菜']\n",
    "df.columns = columns"
   ]
  },
  {
   "cell_type": "markdown",
   "metadata": {},
   "source": [
    "#### (2) データ確認"
   ]
  },
  {
   "cell_type": "code",
   "execution_count": 4,
   "metadata": {},
   "outputs": [
    {
     "data": {
      "text/html": [
       "<div>\n",
       "<style scoped>\n",
       "    .dataframe tbody tr th:only-of-type {\n",
       "        vertical-align: middle;\n",
       "    }\n",
       "\n",
       "    .dataframe tbody tr th {\n",
       "        vertical-align: top;\n",
       "    }\n",
       "\n",
       "    .dataframe thead th {\n",
       "        text-align: right;\n",
       "    }\n",
       "</style>\n",
       "<table border=\"1\" class=\"dataframe\">\n",
       "  <thead>\n",
       "    <tr style=\"text-align: right;\">\n",
       "      <th></th>\n",
       "      <th>販売チャネル</th>\n",
       "      <th>地域</th>\n",
       "      <th>生鮮食品</th>\n",
       "      <th>乳製品</th>\n",
       "      <th>食料品</th>\n",
       "      <th>冷凍食品</th>\n",
       "      <th>洗剤_紙製品</th>\n",
       "      <th>総菜</th>\n",
       "    </tr>\n",
       "  </thead>\n",
       "  <tbody>\n",
       "    <tr>\n",
       "      <th>0</th>\n",
       "      <td>2</td>\n",
       "      <td>3</td>\n",
       "      <td>12669</td>\n",
       "      <td>9656</td>\n",
       "      <td>7561</td>\n",
       "      <td>214</td>\n",
       "      <td>2674</td>\n",
       "      <td>1338</td>\n",
       "    </tr>\n",
       "    <tr>\n",
       "      <th>1</th>\n",
       "      <td>2</td>\n",
       "      <td>3</td>\n",
       "      <td>7057</td>\n",
       "      <td>9810</td>\n",
       "      <td>9568</td>\n",
       "      <td>1762</td>\n",
       "      <td>3293</td>\n",
       "      <td>1776</td>\n",
       "    </tr>\n",
       "    <tr>\n",
       "      <th>2</th>\n",
       "      <td>2</td>\n",
       "      <td>3</td>\n",
       "      <td>6353</td>\n",
       "      <td>8808</td>\n",
       "      <td>7684</td>\n",
       "      <td>2405</td>\n",
       "      <td>3516</td>\n",
       "      <td>7844</td>\n",
       "    </tr>\n",
       "    <tr>\n",
       "      <th>3</th>\n",
       "      <td>1</td>\n",
       "      <td>3</td>\n",
       "      <td>13265</td>\n",
       "      <td>1196</td>\n",
       "      <td>4221</td>\n",
       "      <td>6404</td>\n",
       "      <td>507</td>\n",
       "      <td>1788</td>\n",
       "    </tr>\n",
       "    <tr>\n",
       "      <th>4</th>\n",
       "      <td>2</td>\n",
       "      <td>3</td>\n",
       "      <td>22615</td>\n",
       "      <td>5410</td>\n",
       "      <td>7198</td>\n",
       "      <td>3915</td>\n",
       "      <td>1777</td>\n",
       "      <td>5185</td>\n",
       "    </tr>\n",
       "  </tbody>\n",
       "</table>\n",
       "</div>"
      ],
      "text/plain": [
       "   販売チャネル  地域   生鮮食品   乳製品   食料品  冷凍食品  洗剤_紙製品    総菜\n",
       "0       2   3  12669  9656  7561   214    2674  1338\n",
       "1       2   3   7057  9810  9568  1762    3293  1776\n",
       "2       2   3   6353  8808  7684  2405    3516  7844\n",
       "3       1   3  13265  1196  4221  6404     507  1788\n",
       "4       2   3  22615  5410  7198  3915    1777  5185"
      ]
     },
     "metadata": {},
     "output_type": "display_data"
    },
    {
     "name": "stdout",
     "output_type": "stream",
     "text": [
      "(440, 8)\n"
     ]
    }
   ],
   "source": [
    "# データ内容確認\n",
    "display(df.head())\n",
    "\n",
    "# サイズ確認\n",
    "print(df.shape)"
   ]
  },
  {
   "cell_type": "code",
   "execution_count": 5,
   "metadata": {},
   "outputs": [
    {
     "name": "stdout",
     "output_type": "stream",
     "text": [
      "販売チャネル    0\n",
      "地域        0\n",
      "生鮮食品      0\n",
      "乳製品       0\n",
      "食料品       0\n",
      "冷凍食品      0\n",
      "洗剤_紙製品    0\n",
      "総菜        0\n",
      "dtype: int64\n"
     ]
    }
   ],
   "source": [
    "# 欠損値確認\n",
    "print(df.isnull().sum())"
   ]
  },
  {
   "cell_type": "code",
   "execution_count": 70,
   "metadata": {},
   "outputs": [
    {
     "name": "stdout",
     "output_type": "stream",
     "text": [
      "1    298\n",
      "2    142\n",
      "Name: 販売チャネル, dtype: int64\n",
      "\n",
      "3    316\n",
      "1     77\n",
      "2     47\n",
      "Name: 地域, dtype: int64\n"
     ]
    }
   ],
   "source": [
    "# 販売チャネルのコード値確認\n",
    "print(df['販売チャネル'].value_counts())\n",
    "print()\n",
    "\n",
    "# 地域のコード値確認\n",
    "print(df['地域'].value_counts())"
   ]
  },
  {
   "cell_type": "markdown",
   "metadata": {},
   "source": [
    "#### 販売チャネルのコード値の意味\n",
    "1.  Horeca(ホテル・レストラン・カフェ) 298 \n",
    "2. Retail(小売り) 142 "
   ]
  },
  {
   "cell_type": "markdown",
   "metadata": {},
   "source": [
    "#### 地域のコード値の意味\n",
    "1.  Lisbon(リスボン) 77 \n",
    "2. Oporto(オプルトまたはポルト) 47 \n",
    "3. Other Region(その他) 316 \n",
    "\n"
   ]
  },
  {
   "cell_type": "markdown",
   "metadata": {},
   "source": [
    "#### ヒストグラム表示"
   ]
  },
  {
   "cell_type": "code",
   "execution_count": 69,
   "metadata": {
    "scrolled": false
   },
   "outputs": [
    {
     "data": {
      "image/png": "[encoded data removed]",
      "text/plain": [
       "<Figure size 576x576 with 6 Axes>"
      ]
     },
     "metadata": {
      "needs_background": "light"
     },
     "output_type": "display_data"
    }
   ],
   "source": [
    "# 販売チャネルと地域を落としたデータを作る\n",
    "df2 = df.drop(['販売チャネル', '地域'], axis=1)\n",
    "\n",
    "# 分析対象項目のヒストグラム表示\n",
    "from pylab import rcParams\n",
    "rcParams['figure.figsize'] = (8, 8)\n",
    "df2.hist(bins=20)\n",
    "plt.tight_layout() \n",
    "plt.show()"
   ]
  },
  {
   "cell_type": "markdown",
   "metadata": {},
   "source": [
    "### 5.7.4 クラスタリング実施"
   ]
  },
  {
   "cell_type": "code",
   "execution_count": 71,
   "metadata": {},
   "outputs": [],
   "source": [
    "# (3)前処理と(4)データ分割は不要\n",
    "\n",
    "# (5) アルゴリズムの選択\n",
    "from sklearn.cluster import KMeans\n",
    "\n",
    "# クラスタ数を定義\n",
    "clusters=4\n",
    "\n",
    "# アルゴリズムの定義\n",
    "algorism = KMeans(n_clusters=clusters, \n",
    "    random_state=random_seed)"
   ]
  },
  {
   "cell_type": "code",
   "execution_count": 72,
   "metadata": {},
   "outputs": [
    {
     "name": "stdout",
     "output_type": "stream",
     "text": [
      "[3 3 3 3 0 3 3 3 3 1 1 3 0 1 0 3 1 3 3 3]\n"
     ]
    }
   ],
   "source": [
    "# (6), (7) 学習、分類の実施\n",
    "y_pred = algorism.fit_predict(df2)\n",
    "\n",
    "# 結果の一部確認\n",
    "print(y_pred[:20])"
   ]
  },
  {
   "cell_type": "markdown",
   "metadata": {},
   "source": [
    "### 5.7.5 クラスタリング結果の分析"
   ]
  },
  {
   "cell_type": "markdown",
   "metadata": {},
   "source": [
    "#### クラスタ別平均値計算"
   ]
  },
  {
   "cell_type": "code",
   "execution_count": 79,
   "metadata": {},
   "outputs": [
    {
     "data": {
      "text/html": [
       "<div>\n",
       "<style scoped>\n",
       "    .dataframe tbody tr th:only-of-type {\n",
       "        vertical-align: middle;\n",
       "    }\n",
       "\n",
       "    .dataframe tbody tr th {\n",
       "        vertical-align: top;\n",
       "    }\n",
       "\n",
       "    .dataframe thead th {\n",
       "        text-align: right;\n",
       "    }\n",
       "</style>\n",
       "<table border=\"1\" class=\"dataframe\">\n",
       "  <thead>\n",
       "    <tr style=\"text-align: right;\">\n",
       "      <th></th>\n",
       "      <th>生鮮食品</th>\n",
       "      <th>乳製品</th>\n",
       "      <th>食料品</th>\n",
       "      <th>冷凍食品</th>\n",
       "      <th>洗剤_紙製品</th>\n",
       "      <th>総菜</th>\n",
       "    </tr>\n",
       "  </thead>\n",
       "  <tbody>\n",
       "    <tr>\n",
       "      <th>0</th>\n",
       "      <td>36156.3898</td>\n",
       "      <td>6123.6441</td>\n",
       "      <td>6366.7797</td>\n",
       "      <td>6811.1186</td>\n",
       "      <td>1050.0169</td>\n",
       "      <td>3090.0508</td>\n",
       "    </tr>\n",
       "    <tr>\n",
       "      <th>1</th>\n",
       "      <td>5134.2198</td>\n",
       "      <td>11398.0769</td>\n",
       "      <td>17848.7582</td>\n",
       "      <td>1562.7802</td>\n",
       "      <td>7768.9231</td>\n",
       "      <td>1900.2418</td>\n",
       "    </tr>\n",
       "    <tr>\n",
       "      <th>2</th>\n",
       "      <td>20031.2857</td>\n",
       "      <td>38084.0000</td>\n",
       "      <td>56126.1429</td>\n",
       "      <td>2564.5714</td>\n",
       "      <td>27644.5714</td>\n",
       "      <td>2548.1429</td>\n",
       "    </tr>\n",
       "    <tr>\n",
       "      <th>3</th>\n",
       "      <td>8973.3958</td>\n",
       "      <td>3128.0883</td>\n",
       "      <td>3907.4276</td>\n",
       "      <td>2790.2085</td>\n",
       "      <td>1079.2297</td>\n",
       "      <td>1052.5477</td>\n",
       "    </tr>\n",
       "  </tbody>\n",
       "</table>\n",
       "</div>"
      ],
      "text/plain": [
       "        生鮮食品        乳製品        食料品      冷凍食品     洗剤_紙製品        総菜\n",
       "0 36156.3898  6123.6441  6366.7797 6811.1186  1050.0169 3090.0508\n",
       "1  5134.2198 11398.0769 17848.7582 1562.7802  7768.9231 1900.2418\n",
       "2 20031.2857 38084.0000 56126.1429 2564.5714 27644.5714 2548.1429\n",
       "3  8973.3958  3128.0883  3907.4276 2790.2085  1079.2297 1052.5477"
      ]
     },
     "metadata": {},
     "output_type": "display_data"
    }
   ],
   "source": [
    "# ラスタ値ごとの平均計算\n",
    "df_cluster = df2.groupby(y_pred).mean()\n",
    "display(df_cluster)"
   ]
  },
  {
   "cell_type": "markdown",
   "metadata": {},
   "source": [
    "#### クラスタ別グラフ表示"
   ]
  },
  {
   "cell_type": "code",
   "execution_count": 80,
   "metadata": {},
   "outputs": [
    {
     "data": {
      "image/png": "[encoded data removed]",
      "text/plain": [
       "<Figure size 720x432 with 1 Axes>"
      ]
     },
     "metadata": {
      "needs_background": "light"
     },
     "output_type": "display_data"
    }
   ],
   "source": [
    "# クラスタ別の棒グラフ表示\n",
    "df_cluster.plot(kind='bar',stacked=True,\n",
    "    figsize=(10, 6),colormap='jet')\n",
    "plt.show()"
   ]
  },
  {
   "cell_type": "markdown",
   "metadata": {},
   "source": [
    "#### 分析結果\n",
    "\n",
    "* **0**: 生鮮食品中心\n",
    "* **1**: 食料品中心\n",
    "* **2**: 大量購入\n",
    "* **3**: 少量購入"
   ]
  },
  {
   "cell_type": "markdown",
   "metadata": {},
   "source": [
    "#### クラスタと販売チャネル・地域との関係"
   ]
  },
  {
   "cell_type": "code",
   "execution_count": 81,
   "metadata": {
    "scrolled": false
   },
   "outputs": [
    {
     "name": "stdout",
     "output_type": "stream",
     "text": [
      "==== クラスタ0 ====\n"
     ]
    },
    {
     "data": {
      "image/png": "[encoded data removed]",
      "text/plain": [
       "<Figure size 432x216 with 2 Axes>"
      ]
     },
     "metadata": {
      "needs_background": "light"
     },
     "output_type": "display_data"
    },
    {
     "name": "stdout",
     "output_type": "stream",
     "text": [
      "==== クラスタ1 ====\n"
     ]
    },
    {
     "data": {
      "image/png": "[encoded data removed]",
      "text/plain": [
       "<Figure size 432x216 with 2 Axes>"
      ]
     },
     "metadata": {
      "needs_background": "light"
     },
     "output_type": "display_data"
    },
    {
     "name": "stdout",
     "output_type": "stream",
     "text": [
      "==== クラスタ2 ====\n"
     ]
    },
    {
     "data": {
      "image/png": "[encoded data removed]",
      "text/plain": [
       "<Figure size 432x216 with 2 Axes>"
      ]
     },
     "metadata": {
      "needs_background": "light"
     },
     "output_type": "display_data"
    },
    {
     "name": "stdout",
     "output_type": "stream",
     "text": [
      "==== クラスタ3 ====\n"
     ]
    },
    {
     "data": {
      "image/png": "[encoded data removed]",
      "text/plain": [
       "<Figure size 432x216 with 2 Axes>"
      ]
     },
     "metadata": {
      "needs_background": "light"
     },
     "output_type": "display_data"
    }
   ],
   "source": [
    "# クラスタと、チャネル・地域の関係を調べる\n",
    "\n",
    "# 販売チャネルと地域のみをdf3に抽出\n",
    "df3 = df[['販売チャネル', '地域']]\n",
    "\n",
    "# グラフの大きさ設定\n",
    "rcParams['figure.figsize'] = (6,3)\n",
    "\n",
    "#  クラスタごとのグラフ表示\n",
    "for i in range(clusters):\n",
    "    fig, ax = plt.subplots()\n",
    "    w = df3[y_pred==i]\n",
    "    print(f'==== クラスタ{i} ====')\n",
    "    w.hist(ax=ax)\n",
    "    plt.tight_layout()\n",
    "    plt.show()"
   ]
  },
  {
   "cell_type": "markdown",
   "metadata": {},
   "source": [
    "#### 分析結果\n",
    "クラスタ0(生鮮)とクラスタ3(少量)は、チャネル1(Horeca)と関連が深い。   \n",
    "クラスタ1(食品)とクラスタ2(大量)は、チャネル2(Retail)と関連が深い。  \n",
    "地域とクラスタの関連は時に見いだせない。"
   ]
  },
  {
   "cell_type": "markdown",
   "metadata": {},
   "source": [
    "### 5.7.6 次元圧縮実施"
   ]
  },
  {
   "cell_type": "code",
   "execution_count": 82,
   "metadata": {},
   "outputs": [],
   "source": [
    "# アルゴリズムの選択\n",
    "from sklearn.decomposition import PCA\n",
    "\n",
    "# モデル生成\n",
    "# 散布図表示が目的のため2次元に圧縮\n",
    "pca = PCA(n_components=2)"
   ]
  },
  {
   "cell_type": "code",
   "execution_count": 83,
   "metadata": {},
   "outputs": [
    {
     "name": "stdout",
     "output_type": "stream",
     "text": [
      "[[  650.0221  1585.5191]\n",
      " [-4426.805   4042.4515]\n",
      " [-4841.9987  2578.7622]\n",
      " [  990.3464 -6279.806 ]\n",
      " [10657.9987 -2159.7258]]\n"
     ]
    }
   ],
   "source": [
    "# 学習・変換の実施\n",
    "d2 = pca.fit_transform(df2)\n",
    "\n",
    "# 結果の一部表示\n",
    "print(d2[:5,:])"
   ]
  },
  {
   "cell_type": "markdown",
   "metadata": {},
   "source": [
    "### 5.7.7 次元圧縮の活用方法"
   ]
  },
  {
   "cell_type": "markdown",
   "metadata": {},
   "source": [
    "#### 散布図表示"
   ]
  },
  {
   "cell_type": "code",
   "execution_count": 19,
   "metadata": {},
   "outputs": [
    {
     "data": {
      "image/png": "[encoded data removed]",
      "text/plain": [
       "<Figure size 576x576 with 1 Axes>"
      ]
     },
     "metadata": {
      "needs_background": "light"
     },
     "output_type": "display_data"
    }
   ],
   "source": [
    "# クラスタごとに色分けし散布図表示\n",
    "\n",
    "plt.figure(figsize=(8,8))\n",
    "marks = ['.', 'x', '*', '+']\n",
    "labels = ['生鮮', '食品', '大量', '少量']\n",
    "colors = ['grey', 'lightblue', 'blue', 'black']\n",
    "for i in range(clusters):\n",
    "  plt.scatter(d2[y_pred==i][:,0], d2[y_pred==i][:,1], \n",
    "    marker=marks[i], label=labels[i], s=100, c=colors[i])\n",
    "plt.legend(fontsize=14)\n",
    "plt.show()"
   ]
  },
  {
   "cell_type": "markdown",
   "metadata": {},
   "source": [
    "#### 特異値の調査"
   ]
  },
  {
   "cell_type": "code",
   "execution_count": 65,
   "metadata": {},
   "outputs": [
    {
     "data": {
      "text/html": [
       "<div>\n",
       "<style scoped>\n",
       "    .dataframe tbody tr th:only-of-type {\n",
       "        vertical-align: middle;\n",
       "    }\n",
       "\n",
       "    .dataframe tbody tr th {\n",
       "        vertical-align: top;\n",
       "    }\n",
       "\n",
       "    .dataframe thead th {\n",
       "        text-align: right;\n",
       "    }\n",
       "</style>\n",
       "<table border=\"1\" class=\"dataframe\">\n",
       "  <thead>\n",
       "    <tr style=\"text-align: right;\">\n",
       "      <th></th>\n",
       "      <th>販売チャネル</th>\n",
       "      <th>地域</th>\n",
       "      <th>生鮮食品</th>\n",
       "      <th>乳製品</th>\n",
       "      <th>食料品</th>\n",
       "      <th>冷凍食品</th>\n",
       "      <th>洗剤_紙製品</th>\n",
       "      <th>総菜</th>\n",
       "    </tr>\n",
       "  </thead>\n",
       "  <tbody>\n",
       "    <tr>\n",
       "      <th>181</th>\n",
       "      <td>1</td>\n",
       "      <td>3</td>\n",
       "      <td>112151</td>\n",
       "      <td>29627</td>\n",
       "      <td>18148</td>\n",
       "      <td>16745</td>\n",
       "      <td>4948</td>\n",
       "      <td>8550</td>\n",
       "    </tr>\n",
       "  </tbody>\n",
       "</table>\n",
       "</div>"
      ],
      "text/plain": [
       "     販売チャネル  地域    生鮮食品    乳製品    食料品   冷凍食品  洗剤_紙製品    総菜\n",
       "181       1   3  112151  29627  18148  16745    4948  8550"
      ]
     },
     "metadata": {},
     "output_type": "display_data"
    }
   ],
   "source": [
    "# 生鮮グループの特異値を調べる\n",
    "display(df[d2[:,0] > 100000])"
   ]
  },
  {
   "cell_type": "markdown",
   "metadata": {},
   "source": [
    "【考察】  \n",
    "インデックス181の顧客は、特に生鮮食品の購買量が多いと考えられる"
   ]
  },
  {
   "cell_type": "code",
   "execution_count": 66,
   "metadata": {},
   "outputs": [
    {
     "data": {
      "text/html": [
       "<div>\n",
       "<style scoped>\n",
       "    .dataframe tbody tr th:only-of-type {\n",
       "        vertical-align: middle;\n",
       "    }\n",
       "\n",
       "    .dataframe tbody tr th {\n",
       "        vertical-align: top;\n",
       "    }\n",
       "\n",
       "    .dataframe thead th {\n",
       "        text-align: right;\n",
       "    }\n",
       "</style>\n",
       "<table border=\"1\" class=\"dataframe\">\n",
       "  <thead>\n",
       "    <tr style=\"text-align: right;\">\n",
       "      <th></th>\n",
       "      <th>販売チャネル</th>\n",
       "      <th>地域</th>\n",
       "      <th>生鮮食品</th>\n",
       "      <th>乳製品</th>\n",
       "      <th>食料品</th>\n",
       "      <th>冷凍食品</th>\n",
       "      <th>洗剤_紙製品</th>\n",
       "      <th>総菜</th>\n",
       "    </tr>\n",
       "  </thead>\n",
       "  <tbody>\n",
       "    <tr>\n",
       "      <th>85</th>\n",
       "      <td>2</td>\n",
       "      <td>3</td>\n",
       "      <td>16117</td>\n",
       "      <td>46197</td>\n",
       "      <td>92780</td>\n",
       "      <td>1026</td>\n",
       "      <td>40827</td>\n",
       "      <td>2944</td>\n",
       "    </tr>\n",
       "  </tbody>\n",
       "</table>\n",
       "</div>"
      ],
      "text/plain": [
       "    販売チャネル  地域   生鮮食品    乳製品    食料品  冷凍食品  洗剤_紙製品    総菜\n",
       "85       2   3  16117  46197  92780  1026   40827  2944"
      ]
     },
     "metadata": {},
     "output_type": "display_data"
    }
   ],
   "source": [
    "# 大量グループの特異値を調べる\n",
    "display(df[d2[:,1] > 80000])"
   ]
  },
  {
   "cell_type": "markdown",
   "metadata": {},
   "source": [
    "【考察】  \n",
    "インデックス85の顧客は、特に食料品と洗剤・紙製品の購買量が多いと考えられる"
   ]
  },
  {
   "cell_type": "code",
   "execution_count": 87,
   "metadata": {},
   "outputs": [
    {
     "data": {
      "text/html": [
       "<div>\n",
       "<style scoped>\n",
       "    .dataframe tbody tr th:only-of-type {\n",
       "        vertical-align: middle;\n",
       "    }\n",
       "\n",
       "    .dataframe tbody tr th {\n",
       "        vertical-align: top;\n",
       "    }\n",
       "\n",
       "    .dataframe thead th {\n",
       "        text-align: right;\n",
       "    }\n",
       "</style>\n",
       "<table border=\"1\" class=\"dataframe\">\n",
       "  <thead>\n",
       "    <tr style=\"text-align: right;\">\n",
       "      <th></th>\n",
       "      <th>生鮮食品</th>\n",
       "      <th>乳製品</th>\n",
       "      <th>食料品</th>\n",
       "      <th>冷凍食品</th>\n",
       "      <th>洗剤_紙製品</th>\n",
       "      <th>総菜</th>\n",
       "    </tr>\n",
       "  </thead>\n",
       "  <tbody>\n",
       "    <tr>\n",
       "      <th>count</th>\n",
       "      <td>440.0000</td>\n",
       "      <td>440.0000</td>\n",
       "      <td>440.0000</td>\n",
       "      <td>440.0000</td>\n",
       "      <td>440.0000</td>\n",
       "      <td>440.0000</td>\n",
       "    </tr>\n",
       "    <tr>\n",
       "      <th>mean</th>\n",
       "      <td>12000.2977</td>\n",
       "      <td>5796.2659</td>\n",
       "      <td>7951.2773</td>\n",
       "      <td>3071.9318</td>\n",
       "      <td>2881.4932</td>\n",
       "      <td>1524.8705</td>\n",
       "    </tr>\n",
       "    <tr>\n",
       "      <th>std</th>\n",
       "      <td>12647.3289</td>\n",
       "      <td>7380.3772</td>\n",
       "      <td>9503.1628</td>\n",
       "      <td>4854.6733</td>\n",
       "      <td>4767.8544</td>\n",
       "      <td>2820.1059</td>\n",
       "    </tr>\n",
       "    <tr>\n",
       "      <th>min</th>\n",
       "      <td>3.0000</td>\n",
       "      <td>55.0000</td>\n",
       "      <td>3.0000</td>\n",
       "      <td>25.0000</td>\n",
       "      <td>3.0000</td>\n",
       "      <td>3.0000</td>\n",
       "    </tr>\n",
       "    <tr>\n",
       "      <th>25%</th>\n",
       "      <td>3127.7500</td>\n",
       "      <td>1533.0000</td>\n",
       "      <td>2153.0000</td>\n",
       "      <td>742.2500</td>\n",
       "      <td>256.7500</td>\n",
       "      <td>408.2500</td>\n",
       "    </tr>\n",
       "    <tr>\n",
       "      <th>50%</th>\n",
       "      <td>8504.0000</td>\n",
       "      <td>3627.0000</td>\n",
       "      <td>4755.5000</td>\n",
       "      <td>1526.0000</td>\n",
       "      <td>816.5000</td>\n",
       "      <td>965.5000</td>\n",
       "    </tr>\n",
       "    <tr>\n",
       "      <th>75%</th>\n",
       "      <td>16933.7500</td>\n",
       "      <td>7190.2500</td>\n",
       "      <td>10655.7500</td>\n",
       "      <td>3554.2500</td>\n",
       "      <td>3922.0000</td>\n",
       "      <td>1820.2500</td>\n",
       "    </tr>\n",
       "    <tr>\n",
       "      <th>max</th>\n",
       "      <td>112151.0000</td>\n",
       "      <td>73498.0000</td>\n",
       "      <td>92780.0000</td>\n",
       "      <td>60869.0000</td>\n",
       "      <td>40827.0000</td>\n",
       "      <td>47943.0000</td>\n",
       "    </tr>\n",
       "  </tbody>\n",
       "</table>\n",
       "</div>"
      ],
      "text/plain": [
       "             生鮮食品        乳製品        食料品       冷凍食品     洗剤_紙製品         総菜\n",
       "count    440.0000   440.0000   440.0000   440.0000   440.0000   440.0000\n",
       "mean   12000.2977  5796.2659  7951.2773  3071.9318  2881.4932  1524.8705\n",
       "std    12647.3289  7380.3772  9503.1628  4854.6733  4767.8544  2820.1059\n",
       "min        3.0000    55.0000     3.0000    25.0000     3.0000     3.0000\n",
       "25%     3127.7500  1533.0000  2153.0000   742.2500   256.7500   408.2500\n",
       "50%     8504.0000  3627.0000  4755.5000  1526.0000   816.5000   965.5000\n",
       "75%    16933.7500  7190.2500 10655.7500  3554.2500  3922.0000  1820.2500\n",
       "max   112151.0000 73498.0000 92780.0000 60869.0000 40827.0000 47943.0000"
      ]
     },
     "metadata": {},
     "output_type": "display_data"
    }
   ],
   "source": [
    "# 統計情報確認\n",
    "display(df2.describe())"
   ]
  },
  {
   "cell_type": "code",
   "execution_count": null,
   "metadata": {},
   "outputs": [],
   "source": []
  }
 ],
 "metadata": {
  "kernelspec": {
   "display_name": "Python 3",
   "language": "python",
   "name": "python3"
  },
  "language_info": {
   "codemirror_mode": {
    "name": "ipython",
    "version": 3
   },
   "file_extension": ".py",
   "mimetype": "text/x-python",
   "name": "python",
   "nbconvert_exporter": "python",
   "pygments_lexer": "ipython3",
   "version": "3.7.6"
  }
 },
 "nbformat": 4,
 "nbformat_minor": 2
}
