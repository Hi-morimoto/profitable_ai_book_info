{
 "cells": [
  {
   "cell_type": "markdown",
   "metadata": {
    "colab_type": "text",
    "id": "P-ZLwez7358S"
   },
   "source": [
    "# 5.3 イメージを対象とした多値分類"
   ]
  },
  {
   "cell_type": "code",
   "execution_count": 1,
   "metadata": {
    "colab": {
     "base_uri": "https://localhost:8080/",
     "height": 33
    },
    "colab_type": "code",
    "id": "CljF6is0jJz-",
    "outputId": "46659279-a3cd-4ca9-8b01-b16b9bd13565"
   },
   "outputs": [
    {
     "name": "stdout",
     "output_type": "stream",
     "text": [
      "Requirement already satisfied: setuptools in /opt/anaconda3/lib/python3.7/site-packages (from kiwisolver>=1.0.1->matplotlib->japanize-matplotlib) (46.0.0.post20200309)\r\n"
     ]
    }
   ],
   "source": [
    "# 日本語化ライブラリ導入\n",
    "!pip install japanize-matplotlib | tail -n 1"
   ]
  },
  {
   "cell_type": "code",
   "execution_count": 2,
   "metadata": {
    "colab": {},
    "colab_type": "code",
    "id": "XLyizEG83ykk"
   },
   "outputs": [],
   "source": [
    "# 共通事前処理\n",
    "\n",
    "# 余分なワーニングを非表示にする\n",
    "import warnings\n",
    "warnings.filterwarnings('ignore')\n",
    "\n",
    "# 必要ライブラリのimport\n",
    "import pandas as pd\n",
    "import numpy as np\n",
    "import matplotlib.pyplot as plt\n",
    "\n",
    "# matplotlib日本語化対応\n",
    "import japanize_matplotlib\n",
    "\n",
    "# データフレーム表示用関数\n",
    "from IPython.display import display\n",
    "\n",
    "# 表示オプション調整\n",
    "# データフレームですべての項目を表示\n",
    "pd.set_option(\"display.max_columns\",None)\n",
    "# numpyの浮動小数点の表示精度\n",
    "np.set_printoptions(suppress=True, precision=4)\n",
    "# データフレームでの表示精度\n",
    "pd.options.display.float_format = '{:.4f}'.format\n",
    "# グラフのデフォルトフォント指定\n",
    "plt.rcParams[\"font.size\"] = 14\n",
    "\n",
    "# 乱数の種\n",
    "random_seed = 123"
   ]
  },
  {
   "cell_type": "code",
   "execution_count": 3,
   "metadata": {
    "colab": {},
    "colab_type": "code",
    "id": "Bud8JoRBMWiI"
   },
   "outputs": [],
   "source": [
    "# 混同行列表示用関数\n",
    "\n",
    "def make_cm(matrix, columns):\n",
    "    # matrix numpy配列\n",
    "    \n",
    "    # columns 項目名リスト\n",
    "    n = len(columns)\n",
    "    \n",
    "    # '正解データ'をn回繰り返すリスト生成\n",
    "    act = ['正解データ'] * n\n",
    "    pred = ['予測結果'] * n\n",
    "    \n",
    "    #データフレーム生成\n",
    "    cm = pd.DataFrame(matrix, \n",
    "        columns=[pred, columns], index=[act, columns])\n",
    "    return cm"
   ]
  },
  {
   "cell_type": "markdown",
   "metadata": {
    "colab_type": "text",
    "id": "kJFUjT71Dr8r"
   },
   "source": [
    "## (1) データ読み込み"
   ]
  },
  {
   "cell_type": "code",
   "execution_count": 4,
   "metadata": {
    "colab": {},
    "colab_type": "code",
    "id": "mH4Gl5x84Abb"
   },
   "outputs": [],
   "source": [
    "# データロード\n",
    "\n",
    "# 手書き数字データ\n",
    "# 時間がかかるので注意して下さい\n",
    "from sklearn.datasets import fetch_openml\n",
    "mnist = fetch_openml('mnist_784', version=1,)"
   ]
  },
  {
   "cell_type": "code",
   "execution_count": 5,
   "metadata": {
    "colab": {},
    "colab_type": "code",
    "id": "f4W_1jbmBMaT"
   },
   "outputs": [],
   "source": [
    "# イメージの設定\n",
    "image = mnist.data\n",
    "\n",
    "# 正解データの設定\n",
    "label = mnist.target\n",
    "\n",
    "# 文字列を整数値に変換\n",
    "y = label.astype(np.int)"
   ]
  },
  {
   "cell_type": "code",
   "execution_count": 6,
   "metadata": {
    "colab": {
     "base_uri": "https://localhost:8080/",
     "height": 253
    },
    "colab_type": "code",
    "id": "qi5-KRrarDb0",
    "outputId": "4bd34ca4-ca48-4190-a08d-ac76fff204ef"
   },
   "outputs": [
    {
     "name": "stdout",
     "output_type": "stream",
     "text": [
      "**Author**: Yann LeCun, Corinna Cortes, Christopher J.C. Burges  \n",
      "**Source**: [MNIST Website](http://yann.lecun.com/exdb/mnist/) - Date unknown  \n",
      "**Please cite**:  \n",
      "\n",
      "The MNIST database of handwritten digits with 784 features, raw data available at: http://yann.lecun.com/exdb/mnist/. It can be split in a training set of the first 60,000 examples, and a test set of 10,000 examples  \n",
      "\n",
      "It is a subset of a larger set available from NIST. The digits have been size-normalized and centered in a fixed-size image. It is a good database for people who want to try learning techniques and pattern recognition methods on real-world data while spending minimal efforts on preprocessing and formatting. The original black and white (bilevel) images from NIST were size normalized to fit in a 20x20 pixel box while preserving their aspect ratio. The resulting images contain grey levels as a result of the anti-aliasing technique used by the normalization algorithm. the images were centered in a 28x28 image by computing the center of mass of the pixels, and translating the image so as to position this point at the center of the 28x28 field.  \n",
      "\n",
      "With some classification methods (particularly template-based methods, such as SVM and K-nearest neighbors), the error rate improves when the digits are centered by bounding box rather than center of mass. If you do this kind of pre-processing, you should report it in your publications. The MNIST database was constructed from NIST's NIST originally designated SD-3 as their training set and SD-1 as their test set. However, SD-3 is much cleaner and easier to recognize than SD-1. The reason for this can be found on the fact that SD-3 was collected among Census Bureau employees, while SD-1 was collected among high-school students. Drawing sensible conclusions from learning experiments requires that the result be independent of the choice of training set and test among the complete set of samples. Therefore it was necessary to build a new database by mixing NIST's datasets.  \n",
      "\n",
      "The MNIST training set is composed of 30,000 patterns from SD-3 and 30,000 patterns from SD-1. Our test set was composed of 5,000 patterns from SD-3 and 5,000 patterns from SD-1. The 60,000 pattern training set contained examples from approximately 250 writers. We made sure that the sets of writers of the training set and test set were disjoint. SD-1 contains 58,527 digit images written by 500 different writers. In contrast to SD-3, where blocks of data from each writer appeared in sequence, the data in SD-1 is scrambled. Writer identities for SD-1 is available and we used this information to unscramble the writers. We then split SD-1 in two: characters written by the first 250 writers went into our new training set. The remaining 250 writers were placed in our test set. Thus we had two sets with nearly 30,000 examples each. The new training set was completed with enough examples from SD-3, starting at pattern # 0, to make a full set of 60,000 training patterns. Similarly, the new test set was completed with SD-3 examples starting at pattern # 35,000 to make a full set with 60,000 test patterns. Only a subset of 10,000 test images (5,000 from SD-1 and 5,000 from SD-3) is available on this site. The full 60,000 sample training set is available.\n",
      "\n",
      "Downloaded from openml.org.\n"
     ]
    }
   ],
   "source": [
    "# データ詳細説明\n",
    "\n",
    "print(mnist.DESCR)"
   ]
  },
  {
   "cell_type": "markdown",
   "metadata": {
    "colab_type": "text",
    "id": "Y5U8-HznD6X7"
   },
   "source": [
    "## (2) データ確認"
   ]
  },
  {
   "cell_type": "code",
   "execution_count": 7,
   "metadata": {
    "colab": {
     "base_uri": "https://localhost:8080/",
     "height": 50
    },
    "colab_type": "code",
    "id": "PBf_SB-H6Ttf",
    "outputId": "e4cbbcb5-3a96-4ed4-f92e-a9d0148dc17c"
   },
   "outputs": [
    {
     "name": "stdout",
     "output_type": "stream",
     "text": [
      "画像データ数: (70000, 784)\n",
      "ラベルデータ数: (70000,)\n"
     ]
    }
   ],
   "source": [
    "# 配列サイズ確認\n",
    "print(\"画像データ数:\", image.shape)\n",
    "print(\"ラベルデータ数:\", y.shape)"
   ]
  },
  {
   "cell_type": "code",
   "execution_count": 8,
   "metadata": {
    "colab": {
     "base_uri": "https://localhost:8080/",
     "height": 50
    },
    "colab_type": "code",
    "id": "SaNn5rMcrDcA",
    "outputId": "5800d145-9a05-4d5f-ca48-0eb2667a4514"
   },
   "outputs": [
    {
     "name": "stdout",
     "output_type": "stream",
     "text": [
      "['5' '0' '4' '1' '9' '2' '1' '3' '1' '4']\n",
      "[5 0 4 1 9 2 1 3 1 4]\n"
     ]
    }
   ],
   "source": [
    "# labelとyの内容確認\n",
    "print(label[:10])\n",
    "print(y[:10])"
   ]
  },
  {
   "cell_type": "code",
   "execution_count": 9,
   "metadata": {
    "colab": {
     "base_uri": "https://localhost:8080/",
     "height": 201
    },
    "colab_type": "code",
    "id": "nPwYn1RP6_d_",
    "outputId": "72aef646-7411-4b25-986b-e0f630bc36b5"
   },
   "outputs": [
    {
     "data": {
      "image/png": "[encoded data removed]",
      "text/plain": [
       "<Figure size 720x216 with 20 Axes>"
      ]
     },
     "metadata": {},
     "output_type": "display_data"
    }
   ],
   "source": [
    "# 検証データ先頭20個のイメージ表示\n",
    "\n",
    "# サイズ指定\n",
    "plt.figure(figsize=(10, 3))\n",
    "\n",
    "# 20個のイメージを表示\n",
    "for i in range(20): \n",
    "    \n",
    "    # i 番目のaxオブジェクト取得\n",
    "    ax = plt.subplot(2, 10, i+1)\n",
    "    \n",
    "    # i番目のイメージデータ取得\n",
    "    img = image[60000+i].reshape(28,28)\n",
    "    \n",
    "    # imgをイメージ表示\n",
    "    ax.imshow(img, cmap='gray_r')\n",
    "    \n",
    "    # 正解データをタイトル表示\n",
    "    ax.set_title(label[60000+i])\n",
    "    \n",
    "    # x, y目盛非表示\n",
    "    ax.set_xticks([])\n",
    "    ax.set_yticks([])\n",
    "    \n",
    "# 隣接画像同士がぶつからないようにする\n",
    "plt.tight_layout()\n",
    "\n",
    "# 表示\n",
    "plt.show() "
   ]
  },
  {
   "cell_type": "markdown",
   "metadata": {
    "colab_type": "text",
    "id": "RqbRUIe7E84L"
   },
   "source": [
    "## (3) データ前処理"
   ]
  },
  {
   "cell_type": "code",
   "execution_count": 10,
   "metadata": {
    "colab": {
     "base_uri": "https://localhost:8080/",
     "height": 33
    },
    "colab_type": "code",
    "id": "5QUR_-xcrDcI",
    "outputId": "0880ad0c-f3db-4d5e-b58c-6c430a2a67a4"
   },
   "outputs": [
    {
     "name": "stdout",
     "output_type": "stream",
     "text": [
      "[  0.  30.  36.  94. 154. 170. 253. 253. 253. 253.]\n"
     ]
    }
   ],
   "source": [
    "# 処理前\n",
    "\n",
    "# (最初の方の値は全部0なので、0以外の値の部分を抽出)\n",
    "print(image[0,175:185])"
   ]
  },
  {
   "cell_type": "code",
   "execution_count": 11,
   "metadata": {
    "colab": {},
    "colab_type": "code",
    "id": "5hji2JZaFiGW"
   },
   "outputs": [],
   "source": [
    "# 正規化(normalization)\n",
    "\n",
    "# 入力項目の値を0から1までの範囲とする\n",
    "# NumPyのブロードキャスト機能を利用\n",
    "x = image / 255.0"
   ]
  },
  {
   "cell_type": "code",
   "execution_count": 12,
   "metadata": {
    "colab": {
     "base_uri": "https://localhost:8080/",
     "height": 33
    },
    "colab_type": "code",
    "id": "E0F28CiMFXuJ",
    "outputId": "c028cd34-99c0-4473-9a59-ffac640e4d5c"
   },
   "outputs": [
    {
     "name": "stdout",
     "output_type": "stream",
     "text": [
      "[0.     0.1176 0.1412 0.3686 0.6039 0.6667 0.9922 0.9922 0.9922 0.9922]\n"
     ]
    }
   ],
   "source": [
    "# 結果確認\n",
    "\n",
    "print(x[0,175:185])"
   ]
  },
  {
   "cell_type": "markdown",
   "metadata": {
    "colab_type": "text",
    "id": "0_HQAH0aCGEd"
   },
   "source": [
    "## (4) データ分割"
   ]
  },
  {
   "cell_type": "code",
   "execution_count": 13,
   "metadata": {
    "colab": {},
    "colab_type": "code",
    "id": "R1TnzuPUCCx5"
   },
   "outputs": [],
   "source": [
    "# 訓練データと検証データに分割\n",
    "# 事前にシャッフル済みなので、先頭60000行を訓練データとする。\n",
    "x_train = x[:60000,:]\n",
    "x_test = x[60000:,:]\n",
    "y_train = y[:60000]\n",
    "y_test = y[60000:]"
   ]
  },
  {
   "cell_type": "code",
   "execution_count": 14,
   "metadata": {
    "colab": {
     "base_uri": "https://localhost:8080/",
     "height": 83
    },
    "colab_type": "code",
    "id": "gpOfwNuDDM3i",
    "outputId": "68c4e541-6e83-4b04-d559-f4d4daa0aa4f"
   },
   "outputs": [
    {
     "name": "stdout",
     "output_type": "stream",
     "text": [
      "学習画像データ数: (60000, 784)\n",
      "学習正解データ数: (60000,)\n",
      "検証画像データ数: (10000, 784)\n",
      "検証正解データ数: (10000,)\n"
     ]
    }
   ],
   "source": [
    "# 結果確認\n",
    "print(\"学習画像データ数:\", x_train.shape)\n",
    "print(\"学習正解データ数:\", y_train.shape)\n",
    "print(\"検証画像データ数:\", x_test.shape)\n",
    "print(\"検証正解データ数:\", y_test.shape)"
   ]
  },
  {
   "cell_type": "markdown",
   "metadata": {
    "colab_type": "text",
    "id": "YU3FAQhUG363"
   },
   "source": [
    "## (5) アルゴリズム選定"
   ]
  },
  {
   "cell_type": "code",
   "execution_count": 15,
   "metadata": {
    "colab": {},
    "colab_type": "code",
    "id": "tlVO7Ygk78wi"
   },
   "outputs": [],
   "source": [
    "# アルゴリズム選定\n",
    "\n",
    "# サポートベクターマシンを利用する\n",
    "from sklearn.svm import SVC\n",
    "algorism = SVC(random_state=random_seed)"
   ]
  },
  {
   "cell_type": "markdown",
   "metadata": {
    "colab_type": "text",
    "id": "fAptbc-FI3zI"
   },
   "source": [
    "## (6) 学習\n",
    "処理に相当の時間がかかります(7分程度)"
   ]
  },
  {
   "cell_type": "code",
   "execution_count": 16,
   "metadata": {
    "colab": {
     "base_uri": "https://localhost:8080/",
     "height": 33
    },
    "colab_type": "code",
    "id": "yZpvaCubHCfW",
    "outputId": "556139d5-a60d-402c-cafa-de52b6fe2a12"
   },
   "outputs": [
    {
     "name": "stdout",
     "output_type": "stream",
     "text": [
      "学習時間 481.1513秒\n"
     ]
    }
   ],
   "source": [
    "# 学習\n",
    "import time\n",
    "start = time.time() \n",
    "algorism.fit(x_train, y_train)\n",
    "end = time.time()\n",
    "elapsed = end - start\n",
    "print(f'学習時間 {elapsed:.4f}秒')"
   ]
  },
  {
   "cell_type": "markdown",
   "metadata": {
    "colab_type": "text",
    "id": "f1N1eCQUJEhS"
   },
   "source": [
    " ## (7) 予測"
   ]
  },
  {
   "cell_type": "markdown",
   "metadata": {
    "colab_type": "text",
    "id": "hnGH1qZmy-GM"
   },
   "source": [
    "処理に相当の時間がかかります(2分程度)"
   ]
  },
  {
   "cell_type": "code",
   "execution_count": 17,
   "metadata": {
    "colab": {
     "base_uri": "https://localhost:8080/",
     "height": 33
    },
    "colab_type": "code",
    "id": "PdFINRNVI0Q_",
    "outputId": "0b307386-ffab-4d17-aefc-befb55748ee9"
   },
   "outputs": [
    {
     "name": "stdout",
     "output_type": "stream",
     "text": [
      "予測時間 132.4490秒\n"
     ]
    }
   ],
   "source": [
    "# 予測\n",
    "import time\n",
    "start = time.time() \n",
    "y_pred = algorism.predict(x_test)\n",
    "end = time.time()\n",
    "elapsed = end - start\n",
    "print(f'予測時間 {elapsed:.4f}秒')"
   ]
  },
  {
   "cell_type": "markdown",
   "metadata": {
    "colab_type": "text",
    "id": "XNPhJhZJJKu1"
   },
   "source": [
    "## (8) 評価"
   ]
  },
  {
   "cell_type": "code",
   "execution_count": 18,
   "metadata": {
    "colab": {
     "base_uri": "https://localhost:8080/",
     "height": 347
    },
    "colab_type": "code",
    "id": "4_hAdDmvJMzW",
    "outputId": "a18b0873-8a4b-4dd1-a182-4fe3c1ec639b"
   },
   "outputs": [
    {
     "data": {
      "text/html": [
       "<div>\n",
       "<style scoped>\n",
       "    .dataframe tbody tr th:only-of-type {\n",
       "        vertical-align: middle;\n",
       "    }\n",
       "\n",
       "    .dataframe tbody tr th {\n",
       "        vertical-align: top;\n",
       "    }\n",
       "\n",
       "    .dataframe thead tr th {\n",
       "        text-align: left;\n",
       "    }\n",
       "</style>\n",
       "<table border=\"1\" class=\"dataframe\">\n",
       "  <thead>\n",
       "    <tr>\n",
       "      <th></th>\n",
       "      <th></th>\n",
       "      <th colspan=\"10\" halign=\"left\">予測結果</th>\n",
       "    </tr>\n",
       "    <tr>\n",
       "      <th></th>\n",
       "      <th></th>\n",
       "      <th>0</th>\n",
       "      <th>1</th>\n",
       "      <th>2</th>\n",
       "      <th>3</th>\n",
       "      <th>4</th>\n",
       "      <th>5</th>\n",
       "      <th>6</th>\n",
       "      <th>7</th>\n",
       "      <th>8</th>\n",
       "      <th>9</th>\n",
       "    </tr>\n",
       "  </thead>\n",
       "  <tbody>\n",
       "    <tr>\n",
       "      <th rowspan=\"10\" valign=\"top\">正解データ</th>\n",
       "      <th>0</th>\n",
       "      <td>973</td>\n",
       "      <td>0</td>\n",
       "      <td>1</td>\n",
       "      <td>0</td>\n",
       "      <td>0</td>\n",
       "      <td>2</td>\n",
       "      <td>1</td>\n",
       "      <td>1</td>\n",
       "      <td>2</td>\n",
       "      <td>0</td>\n",
       "    </tr>\n",
       "    <tr>\n",
       "      <th>1</th>\n",
       "      <td>0</td>\n",
       "      <td>1126</td>\n",
       "      <td>3</td>\n",
       "      <td>1</td>\n",
       "      <td>0</td>\n",
       "      <td>1</td>\n",
       "      <td>1</td>\n",
       "      <td>1</td>\n",
       "      <td>2</td>\n",
       "      <td>0</td>\n",
       "    </tr>\n",
       "    <tr>\n",
       "      <th>2</th>\n",
       "      <td>6</td>\n",
       "      <td>1</td>\n",
       "      <td>1006</td>\n",
       "      <td>2</td>\n",
       "      <td>1</td>\n",
       "      <td>0</td>\n",
       "      <td>2</td>\n",
       "      <td>7</td>\n",
       "      <td>6</td>\n",
       "      <td>1</td>\n",
       "    </tr>\n",
       "    <tr>\n",
       "      <th>3</th>\n",
       "      <td>0</td>\n",
       "      <td>0</td>\n",
       "      <td>2</td>\n",
       "      <td>995</td>\n",
       "      <td>0</td>\n",
       "      <td>2</td>\n",
       "      <td>0</td>\n",
       "      <td>5</td>\n",
       "      <td>5</td>\n",
       "      <td>1</td>\n",
       "    </tr>\n",
       "    <tr>\n",
       "      <th>4</th>\n",
       "      <td>0</td>\n",
       "      <td>0</td>\n",
       "      <td>5</td>\n",
       "      <td>0</td>\n",
       "      <td>961</td>\n",
       "      <td>0</td>\n",
       "      <td>3</td>\n",
       "      <td>0</td>\n",
       "      <td>2</td>\n",
       "      <td>11</td>\n",
       "    </tr>\n",
       "    <tr>\n",
       "      <th>5</th>\n",
       "      <td>2</td>\n",
       "      <td>0</td>\n",
       "      <td>0</td>\n",
       "      <td>9</td>\n",
       "      <td>0</td>\n",
       "      <td>871</td>\n",
       "      <td>4</td>\n",
       "      <td>1</td>\n",
       "      <td>4</td>\n",
       "      <td>1</td>\n",
       "    </tr>\n",
       "    <tr>\n",
       "      <th>6</th>\n",
       "      <td>6</td>\n",
       "      <td>2</td>\n",
       "      <td>0</td>\n",
       "      <td>0</td>\n",
       "      <td>2</td>\n",
       "      <td>3</td>\n",
       "      <td>944</td>\n",
       "      <td>0</td>\n",
       "      <td>1</td>\n",
       "      <td>0</td>\n",
       "    </tr>\n",
       "    <tr>\n",
       "      <th>7</th>\n",
       "      <td>0</td>\n",
       "      <td>6</td>\n",
       "      <td>11</td>\n",
       "      <td>1</td>\n",
       "      <td>1</td>\n",
       "      <td>0</td>\n",
       "      <td>0</td>\n",
       "      <td>996</td>\n",
       "      <td>2</td>\n",
       "      <td>11</td>\n",
       "    </tr>\n",
       "    <tr>\n",
       "      <th>8</th>\n",
       "      <td>3</td>\n",
       "      <td>0</td>\n",
       "      <td>2</td>\n",
       "      <td>6</td>\n",
       "      <td>3</td>\n",
       "      <td>2</td>\n",
       "      <td>2</td>\n",
       "      <td>3</td>\n",
       "      <td>950</td>\n",
       "      <td>3</td>\n",
       "    </tr>\n",
       "    <tr>\n",
       "      <th>9</th>\n",
       "      <td>3</td>\n",
       "      <td>4</td>\n",
       "      <td>1</td>\n",
       "      <td>7</td>\n",
       "      <td>10</td>\n",
       "      <td>2</td>\n",
       "      <td>1</td>\n",
       "      <td>7</td>\n",
       "      <td>4</td>\n",
       "      <td>970</td>\n",
       "    </tr>\n",
       "  </tbody>\n",
       "</table>\n",
       "</div>"
      ],
      "text/plain": [
       "        予測結果                                               \n",
       "           0     1     2    3    4    5    6    7    8    9\n",
       "正解データ 0  973     0     1    0    0    2    1    1    2    0\n",
       "      1    0  1126     3    1    0    1    1    1    2    0\n",
       "      2    6     1  1006    2    1    0    2    7    6    1\n",
       "      3    0     0     2  995    0    2    0    5    5    1\n",
       "      4    0     0     5    0  961    0    3    0    2   11\n",
       "      5    2     0     0    9    0  871    4    1    4    1\n",
       "      6    6     2     0    0    2    3  944    0    1    0\n",
       "      7    0     6    11    1    1    0    0  996    2   11\n",
       "      8    3     0     2    6    3    2    2    3  950    3\n",
       "      9    3     4     1    7   10    2    1    7    4  970"
      ]
     },
     "metadata": {},
     "output_type": "display_data"
    }
   ],
   "source": [
    "# 混同行列表示\n",
    "from sklearn.metrics import confusion_matrix\n",
    "labels = range(10)\n",
    "cm = confusion_matrix(y_test, y_pred, labels)\n",
    "labels_str =  np.array(labels).astype(str)\n",
    "cm_labeled = make_cm(cm, labels_str)\n",
    "display(cm_labeled)"
   ]
  },
  {
   "cell_type": "code",
   "execution_count": 19,
   "metadata": {
    "colab": {
     "base_uri": "https://localhost:8080/",
     "height": 300
    },
    "colab_type": "code",
    "id": "0CsDZOXcJuAy",
    "outputId": "b0eb3824-93b6-4edb-f479-5d91dfdd27d4"
   },
   "outputs": [
    {
     "name": "stdout",
     "output_type": "stream",
     "text": [
      "              precision    recall  f1-score   support\n",
      "\n",
      "           0     0.9799    0.9929    0.9863       980\n",
      "           1     0.9886    0.9921    0.9903      1135\n",
      "           2     0.9758    0.9748    0.9753      1032\n",
      "           3     0.9745    0.9851    0.9798      1010\n",
      "           4     0.9826    0.9786    0.9806       982\n",
      "           5     0.9864    0.9765    0.9814       892\n",
      "           6     0.9854    0.9854    0.9854       958\n",
      "           7     0.9755    0.9689    0.9722      1028\n",
      "           8     0.9714    0.9754    0.9734       974\n",
      "           9     0.9719    0.9613    0.9666      1009\n",
      "\n",
      "    accuracy                         0.9792     10000\n",
      "   macro avg     0.9792    0.9791    0.9791     10000\n",
      "weighted avg     0.9792    0.9792    0.9792     10000\n",
      "\n"
     ]
    }
   ],
   "source": [
    "# 適合率・再現率・F値表示\n",
    "from sklearn.metrics import classification_report\n",
    "print(classification_report(y_test, y_pred, digits=4))"
   ]
  },
  {
   "cell_type": "code",
   "execution_count": 20,
   "metadata": {
    "colab": {},
    "colab_type": "code",
    "id": "bKZ0JVdAJuWz",
    "outputId": "24e18efc-95d1-48aa-e72d-d2b258a25030"
   },
   "outputs": [
    {
     "data": {
      "image/png": "[encoded data removed]",
      "text/plain": [
       "<Figure size 720x216 with 20 Axes>"
      ]
     },
     "metadata": {},
     "output_type": "display_data"
    }
   ],
   "source": [
    "image_test = x_test * 255.0\n",
    "\n",
    "# イメージ表示\n",
    "plt.figure(figsize=(10, 3))\n",
    "\n",
    "for i in range(20): \n",
    "    # i 番目のaxオブジェクト取得\n",
    "    ax = plt.subplot(2, 10, i+1)\n",
    "    \n",
    "    # i番目のイメージデータ取得\n",
    "    img = image_test[i].reshape(28,28)\n",
    "    \n",
    "    # imgをイメージ表示\n",
    "    ax.imshow(img, cmap='gray_r')\n",
    "    \n",
    "    # (正解データ):(予測結果)をタイトル表示\n",
    "    title = f'{y_test[i]}:{y_pred[i]}'\n",
    "    ax.set_title(title)\n",
    "    \n",
    "    # x, y目盛非表示\n",
    "    ax.set_xticks([])\n",
    "    ax.set_yticks([])\n",
    "\n",
    "# 隣接オブジェクトとぶつからないようにする\n",
    "plt.tight_layout()\n",
    "\n",
    "# 表示\n",
    "plt.show()     "
   ]
  },
  {
   "cell_type": "markdown",
   "metadata": {
    "colab_type": "text",
    "id": "5RL9EB0aJNin"
   },
   "source": [
    "## (9) チューニング\n",
    "Kerasをフレームワークとして使ったディープラーニングモデルを作り、精度を比較します。"
   ]
  },
  {
   "cell_type": "code",
   "execution_count": 21,
   "metadata": {
    "colab": {
     "base_uri": "https://localhost:8080/",
     "height": 33
    },
    "colab_type": "code",
    "id": "urZV6CM4JQsC",
    "outputId": "b5f794b3-8b30-4096-da42-b6f631f341cc"
   },
   "outputs": [
    {
     "name": "stderr",
     "output_type": "stream",
     "text": [
      "Using TensorFlow backend.\n"
     ]
    }
   ],
   "source": [
    "import tensorflow as tf\n",
    "import keras\n",
    "from tensorflow.keras.models import Sequential\n",
    "from tensorflow.keras.layers import Dense, Dropout, Flatten\n",
    "from tensorflow.keras.layers import Conv2D, MaxPooling2D\n",
    "from keras import backend as K\n",
    "\n",
    "batch_size = 128\n",
    "num_classes = 10\n",
    "epochs = 12\n",
    "pixel_size = 28"
   ]
  },
  {
   "cell_type": "code",
   "execution_count": 22,
   "metadata": {
    "colab": {
     "base_uri": "https://localhost:8080/",
     "height": 33
    },
    "colab_type": "code",
    "id": "zc1shh8cilXP",
    "outputId": "54fd7e43-0955-4bfb-ae8a-d200a85a7961"
   },
   "outputs": [
    {
     "name": "stdout",
     "output_type": "stream",
     "text": [
      "(28, 28, 1)\n"
     ]
    }
   ],
   "source": [
    "# ディープラーニング用に入力データの整形\n",
    "\n",
    "# 訓練用データ\n",
    "x_train_tf = x_train.reshape(x_train.shape[0], \n",
    "    pixel_size, pixel_size, 1)\n",
    "\n",
    "# 検証用データ\n",
    "x_test_tf = x_test.reshape(x_test.shape[0], \n",
    "    pixel_size, pixel_size, 1)\n",
    "\n",
    "# 入力データ形式\n",
    "input_shape = x_train_tf.shape[1:]\n",
    "\n",
    "# 結果確認\n",
    "print(input_shape)"
   ]
  },
  {
   "cell_type": "code",
   "execution_count": 23,
   "metadata": {
    "colab": {},
    "colab_type": "code",
    "id": "WqoB138lhz-J"
   },
   "outputs": [
    {
     "name": "stdout",
     "output_type": "stream",
     "text": [
      "WARNING:tensorflow:From /opt/anaconda3/lib/python3.7/site-packages/tensorflow/python/ops/init_ops.py:1251: calling VarianceScaling.__init__ (from tensorflow.python.ops.init_ops) with dtype is deprecated and will be removed in a future version.\n",
      "Instructions for updating:\n",
      "Call initializer instance with the dtype argument instead of passing it to the constructor\n"
     ]
    }
   ],
   "source": [
    "# ディープラーニングモデルの作成\n",
    "model = Sequential()\n",
    "model.add(Conv2D(32, kernel_size=(3, 3),\n",
    "                 activation='relu',\n",
    "                 input_shape=input_shape))\n",
    "model.add(Conv2D(64, (3, 3), activation='relu'))\n",
    "model.add(MaxPooling2D(pool_size=(2, 2)))\n",
    "model.add(Dropout(0.25))\n",
    "model.add(Flatten())\n",
    "model.add(Dense(128, activation='relu'))\n",
    "model.add(Dropout(0.5))\n",
    "model.add(Dense(num_classes, activation='softmax'))"
   ]
  },
  {
   "cell_type": "code",
   "execution_count": 24,
   "metadata": {
    "colab": {},
    "colab_type": "code",
    "id": "_8cxrtzMo8Zk"
   },
   "outputs": [],
   "source": [
    "# 損失関数・精度・学習法の指定\n",
    "\n",
    "# 損失関数\n",
    "loss = tf.keras.losses.SparseCategoricalCrossentropy()\n",
    "\n",
    "# 精度\n",
    "acc = tf.keras.metrics.SparseCategoricalAccuracy()\n",
    "\n",
    "# 学習法\n",
    "optim = tf.keras.optimizers.Adam()\n",
    "\n",
    "# モデルと結合\n",
    "model.compile(optimizer=optim, loss=loss, metrics=[acc])"
   ]
  },
  {
   "cell_type": "markdown",
   "metadata": {
    "colab_type": "text",
    "id": "4hyLjAPHtSfP"
   },
   "source": [
    "## 学習\n",
    "処理時間  \n",
    "約30分(GPUなし)  \n",
    "約1分(GPUあり)\n"
   ]
  },
  {
   "cell_type": "code",
   "execution_count": 25,
   "metadata": {
    "colab": {
     "base_uri": "https://localhost:8080/",
     "height": 433
    },
    "colab_type": "code",
    "id": "a4GM9TOcjXvs",
    "outputId": "9b343076-b3db-42da-d54d-163a9d67d788"
   },
   "outputs": [
    {
     "name": "stdout",
     "output_type": "stream",
     "text": [
      "Train on 60000 samples, validate on 10000 samples\n",
      "Epoch 1/12\n",
      "60000/60000 [==============================] - 162s 3ms/sample - loss: 0.2425 - sparse_categorical_accuracy: 0.9261 - val_loss: 0.0548 - val_sparse_categorical_accuracy: 0.9815\n",
      "Epoch 2/12\n",
      "60000/60000 [==============================] - 161s 3ms/sample - loss: 0.0853 - sparse_categorical_accuracy: 0.9746 - val_loss: 0.0358 - val_sparse_categorical_accuracy: 0.9874\n",
      "Epoch 3/12\n",
      "60000/60000 [==============================] - 169s 3ms/sample - loss: 0.0641 - sparse_categorical_accuracy: 0.9808 - val_loss: 0.0349 - val_sparse_categorical_accuracy: 0.9884\n",
      "Epoch 4/12\n",
      "60000/60000 [==============================] - 162s 3ms/sample - loss: 0.0533 - sparse_categorical_accuracy: 0.9837 - val_loss: 0.0310 - val_sparse_categorical_accuracy: 0.9894\n",
      "Epoch 5/12\n",
      "60000/60000 [==============================] - 165s 3ms/sample - loss: 0.0440 - sparse_categorical_accuracy: 0.9858 - val_loss: 0.0273 - val_sparse_categorical_accuracy: 0.9914\n",
      "Epoch 6/12\n",
      "60000/60000 [==============================] - 162s 3ms/sample - loss: 0.0376 - sparse_categorical_accuracy: 0.9881 - val_loss: 0.0260 - val_sparse_categorical_accuracy: 0.9915\n",
      "Epoch 7/12\n",
      "60000/60000 [==============================] - 158s 3ms/sample - loss: 0.0354 - sparse_categorical_accuracy: 0.9887 - val_loss: 0.0241 - val_sparse_categorical_accuracy: 0.9921\n",
      "Epoch 8/12\n",
      "60000/60000 [==============================] - 163s 3ms/sample - loss: 0.0308 - sparse_categorical_accuracy: 0.9900 - val_loss: 0.0233 - val_sparse_categorical_accuracy: 0.9930\n",
      "Epoch 9/12\n",
      "60000/60000 [==============================] - 155s 3ms/sample - loss: 0.0278 - sparse_categorical_accuracy: 0.9908 - val_loss: 0.0259 - val_sparse_categorical_accuracy: 0.9919\n",
      "Epoch 10/12\n",
      "60000/60000 [==============================] - 161s 3ms/sample - loss: 0.0278 - sparse_categorical_accuracy: 0.9912 - val_loss: 0.0265 - val_sparse_categorical_accuracy: 0.9917\n",
      "Epoch 11/12\n",
      "60000/60000 [==============================] - 177s 3ms/sample - loss: 0.0245 - sparse_categorical_accuracy: 0.9924 - val_loss: 0.0280 - val_sparse_categorical_accuracy: 0.9918\n",
      "Epoch 12/12\n",
      "60000/60000 [==============================] - 156s 3ms/sample - loss: 0.0222 - sparse_categorical_accuracy: 0.9926 - val_loss: 0.0278 - val_sparse_categorical_accuracy: 0.9920\n"
     ]
    },
    {
     "data": {
      "text/plain": [
       "<tensorflow.python.keras.callbacks.History at 0x1a31330a90>"
      ]
     },
     "execution_count": 25,
     "metadata": {},
     "output_type": "execute_result"
    }
   ],
   "source": [
    "# 学習\n",
    "model.fit(x_train_tf, y_train,\n",
    "          batch_size=batch_size,\n",
    "          epochs=epochs,\n",
    "          verbose=1,\n",
    "          validation_data=(x_test_tf, y_test))"
   ]
  },
  {
   "cell_type": "markdown",
   "metadata": {
    "colab_type": "text",
    "id": "JeJ5Qm4Y2rZC"
   },
   "source": [
    "## 予測・評価"
   ]
  },
  {
   "cell_type": "code",
   "execution_count": 26,
   "metadata": {
    "colab": {
     "base_uri": "https://localhost:8080/",
     "height": 86
    },
    "colab_type": "code",
    "id": "5O-jwv-PmRSC",
    "outputId": "3ef87a35-70b2-48e8-dca7-876586feae69"
   },
   "outputs": [],
   "source": [
    "# 予測結果取得\n",
    "y_pred_tf = np.argmax(model.predict(x_test_tf), axis=-1)"
   ]
  },
  {
   "cell_type": "code",
   "execution_count": 27,
   "metadata": {
    "colab": {
     "base_uri": "https://localhost:8080/",
     "height": 377
    },
    "colab_type": "code",
    "id": "fe3JcWFqrhCT",
    "outputId": "17a00777-9feb-4023-c4ad-f5b92fecf974"
   },
   "outputs": [
    {
     "data": {
      "text/html": [
       "<div>\n",
       "<style scoped>\n",
       "    .dataframe tbody tr th:only-of-type {\n",
       "        vertical-align: middle;\n",
       "    }\n",
       "\n",
       "    .dataframe tbody tr th {\n",
       "        vertical-align: top;\n",
       "    }\n",
       "\n",
       "    .dataframe thead tr th {\n",
       "        text-align: left;\n",
       "    }\n",
       "</style>\n",
       "<table border=\"1\" class=\"dataframe\">\n",
       "  <thead>\n",
       "    <tr>\n",
       "      <th></th>\n",
       "      <th></th>\n",
       "      <th colspan=\"10\" halign=\"left\">予測結果</th>\n",
       "    </tr>\n",
       "    <tr>\n",
       "      <th></th>\n",
       "      <th></th>\n",
       "      <th>0</th>\n",
       "      <th>1</th>\n",
       "      <th>2</th>\n",
       "      <th>3</th>\n",
       "      <th>4</th>\n",
       "      <th>5</th>\n",
       "      <th>6</th>\n",
       "      <th>7</th>\n",
       "      <th>8</th>\n",
       "      <th>9</th>\n",
       "    </tr>\n",
       "  </thead>\n",
       "  <tbody>\n",
       "    <tr>\n",
       "      <th rowspan=\"10\" valign=\"top\">正解データ</th>\n",
       "      <th>0</th>\n",
       "      <td>979</td>\n",
       "      <td>0</td>\n",
       "      <td>0</td>\n",
       "      <td>1</td>\n",
       "      <td>0</td>\n",
       "      <td>0</td>\n",
       "      <td>0</td>\n",
       "      <td>0</td>\n",
       "      <td>0</td>\n",
       "      <td>0</td>\n",
       "    </tr>\n",
       "    <tr>\n",
       "      <th>1</th>\n",
       "      <td>0</td>\n",
       "      <td>1135</td>\n",
       "      <td>0</td>\n",
       "      <td>0</td>\n",
       "      <td>0</td>\n",
       "      <td>0</td>\n",
       "      <td>0</td>\n",
       "      <td>0</td>\n",
       "      <td>0</td>\n",
       "      <td>0</td>\n",
       "    </tr>\n",
       "    <tr>\n",
       "      <th>2</th>\n",
       "      <td>1</td>\n",
       "      <td>2</td>\n",
       "      <td>1021</td>\n",
       "      <td>1</td>\n",
       "      <td>0</td>\n",
       "      <td>0</td>\n",
       "      <td>0</td>\n",
       "      <td>6</td>\n",
       "      <td>1</td>\n",
       "      <td>0</td>\n",
       "    </tr>\n",
       "    <tr>\n",
       "      <th>3</th>\n",
       "      <td>0</td>\n",
       "      <td>0</td>\n",
       "      <td>0</td>\n",
       "      <td>1005</td>\n",
       "      <td>0</td>\n",
       "      <td>3</td>\n",
       "      <td>0</td>\n",
       "      <td>1</td>\n",
       "      <td>1</td>\n",
       "      <td>0</td>\n",
       "    </tr>\n",
       "    <tr>\n",
       "      <th>4</th>\n",
       "      <td>0</td>\n",
       "      <td>0</td>\n",
       "      <td>0</td>\n",
       "      <td>0</td>\n",
       "      <td>976</td>\n",
       "      <td>0</td>\n",
       "      <td>2</td>\n",
       "      <td>0</td>\n",
       "      <td>1</td>\n",
       "      <td>3</td>\n",
       "    </tr>\n",
       "    <tr>\n",
       "      <th>5</th>\n",
       "      <td>2</td>\n",
       "      <td>0</td>\n",
       "      <td>0</td>\n",
       "      <td>5</td>\n",
       "      <td>0</td>\n",
       "      <td>881</td>\n",
       "      <td>2</td>\n",
       "      <td>0</td>\n",
       "      <td>1</td>\n",
       "      <td>1</td>\n",
       "    </tr>\n",
       "    <tr>\n",
       "      <th>6</th>\n",
       "      <td>4</td>\n",
       "      <td>2</td>\n",
       "      <td>0</td>\n",
       "      <td>0</td>\n",
       "      <td>1</td>\n",
       "      <td>1</td>\n",
       "      <td>949</td>\n",
       "      <td>0</td>\n",
       "      <td>1</td>\n",
       "      <td>0</td>\n",
       "    </tr>\n",
       "    <tr>\n",
       "      <th>7</th>\n",
       "      <td>0</td>\n",
       "      <td>3</td>\n",
       "      <td>3</td>\n",
       "      <td>0</td>\n",
       "      <td>0</td>\n",
       "      <td>0</td>\n",
       "      <td>0</td>\n",
       "      <td>1020</td>\n",
       "      <td>1</td>\n",
       "      <td>1</td>\n",
       "    </tr>\n",
       "    <tr>\n",
       "      <th>8</th>\n",
       "      <td>2</td>\n",
       "      <td>1</td>\n",
       "      <td>2</td>\n",
       "      <td>2</td>\n",
       "      <td>0</td>\n",
       "      <td>0</td>\n",
       "      <td>0</td>\n",
       "      <td>1</td>\n",
       "      <td>965</td>\n",
       "      <td>1</td>\n",
       "    </tr>\n",
       "    <tr>\n",
       "      <th>9</th>\n",
       "      <td>0</td>\n",
       "      <td>0</td>\n",
       "      <td>0</td>\n",
       "      <td>0</td>\n",
       "      <td>5</td>\n",
       "      <td>5</td>\n",
       "      <td>0</td>\n",
       "      <td>5</td>\n",
       "      <td>5</td>\n",
       "      <td>989</td>\n",
       "    </tr>\n",
       "  </tbody>\n",
       "</table>\n",
       "</div>"
      ],
      "text/plain": [
       "        予測結果                                                 \n",
       "           0     1     2     3    4    5    6     7    8    9\n",
       "正解データ 0  979     0     0     1    0    0    0     0    0    0\n",
       "      1    0  1135     0     0    0    0    0     0    0    0\n",
       "      2    1     2  1021     1    0    0    0     6    1    0\n",
       "      3    0     0     0  1005    0    3    0     1    1    0\n",
       "      4    0     0     0     0  976    0    2     0    1    3\n",
       "      5    2     0     0     5    0  881    2     0    1    1\n",
       "      6    4     2     0     0    1    1  949     0    1    0\n",
       "      7    0     3     3     0    0    0    0  1020    1    1\n",
       "      8    2     1     2     2    0    0    0     1  965    1\n",
       "      9    0     0     0     0    5    5    0     5    5  989"
      ]
     },
     "metadata": {},
     "output_type": "display_data"
    }
   ],
   "source": [
    "# 混同行列表示\n",
    "cm2 = confusion_matrix(y_test, y_pred_tf, labels)\n",
    "cm2_labeled = make_cm(cm2, labels_str)\n",
    "display(cm2_labeled)"
   ]
  },
  {
   "cell_type": "code",
   "execution_count": 28,
   "metadata": {
    "colab": {
     "base_uri": "https://localhost:8080/",
     "height": 300
    },
    "colab_type": "code",
    "id": "zktd7iUpr24w",
    "outputId": "d635ba31-f88a-4f3e-9a75-c757c1eb4f95"
   },
   "outputs": [
    {
     "name": "stdout",
     "output_type": "stream",
     "text": [
      "              precision    recall  f1-score   support\n",
      "\n",
      "           0     0.9909    0.9990    0.9949       980\n",
      "           1     0.9930    1.0000    0.9965      1135\n",
      "           2     0.9951    0.9893    0.9922      1032\n",
      "           3     0.9911    0.9950    0.9931      1010\n",
      "           4     0.9939    0.9939    0.9939       982\n",
      "           5     0.9899    0.9877    0.9888       892\n",
      "           6     0.9958    0.9906    0.9932       958\n",
      "           7     0.9874    0.9922    0.9898      1028\n",
      "           8     0.9887    0.9908    0.9897       974\n",
      "           9     0.9940    0.9802    0.9870      1009\n",
      "\n",
      "    accuracy                         0.9920     10000\n",
      "   macro avg     0.9920    0.9919    0.9919     10000\n",
      "weighted avg     0.9920    0.9920    0.9920     10000\n",
      "\n"
     ]
    }
   ],
   "source": [
    "# Presicion, Recall, F1値表示\n",
    "from sklearn.metrics import classification_report\n",
    "print(classification_report(y_test, y_pred_tf, digits=4))"
   ]
  },
  {
   "cell_type": "code",
   "execution_count": 29,
   "metadata": {
    "colab": {
     "base_uri": "https://localhost:8080/",
     "height": 201
    },
    "colab_type": "code",
    "id": "YaTBmQl11Su4",
    "outputId": "1d2c6e24-85dc-4b19-cae5-82680d2f2536"
   },
   "outputs": [
    {
     "data": {
      "image/png": "[encoded data removed]",
      "text/plain": [
       "<Figure size 720x216 with 20 Axes>"
      ]
     },
     "metadata": {},
     "output_type": "display_data"
    }
   ],
   "source": [
    "# イメージ表示\n",
    "plt.figure(figsize=(10, 3))\n",
    "\n",
    "for i in range(20): \n",
    "    # i 番目のaxオブジェクト取得\n",
    "    ax = plt.subplot(2, 10, i+1)\n",
    "    \n",
    "    # i番目のイメージデータ取得\n",
    "    img = image_test[i].reshape(28,28)\n",
    "    \n",
    "    # imgをイメージ表示\n",
    "    ax.imshow(img, cmap='gray_r')\n",
    "    \n",
    "    # (正解データ):(予測結果)をタイトル表示\n",
    "    title = f'{y_test[i]}:{y_pred_tf[i]}'\n",
    "    ax.set_title(title)\n",
    "    \n",
    "    # x, y目盛非表示\n",
    "    ax.set_xticks([])\n",
    "    ax.set_yticks([])\n",
    "\n",
    "# 隣接オブジェクトとぶつからないようにする\n",
    "plt.tight_layout()\n",
    "\n",
    "# 表示\n",
    "plt.show()         "
   ]
  },
  {
   "cell_type": "markdown",
   "metadata": {},
   "source": [
    "### コラム　テキスト分析"
   ]
  },
  {
   "cell_type": "code",
   "execution_count": null,
   "metadata": {},
   "outputs": [],
   "source": [
    "!pip install janome"
   ]
  },
  {
   "cell_type": "code",
   "execution_count": 37,
   "metadata": {},
   "outputs": [
    {
     "name": "stdout",
     "output_type": "stream",
     "text": [
      "['日本語', 'を', 'AI', 'で', '扱う', 'に', 'は', '、', '形態素', '解析', '処理', 'が', '必須', 'です', '。']\n"
     ]
    }
   ],
   "source": [
    "from janome.tokenizer import Tokenizer\n",
    "t = Tokenizer()\n",
    "text = '日本語をAIで扱うには、形態素解析処理が必須です。'\n",
    "tokens = t.tokenize(text, wakati=True)\n",
    "print(tokens)"
   ]
  },
  {
   "cell_type": "code",
   "execution_count": 38,
   "metadata": {},
   "outputs": [
    {
     "name": "stdout",
     "output_type": "stream",
     "text": [
      "['AI', '、', '。', 'が', 'で', 'です', 'に', 'は', 'を', '処理', '形態素', '必須', '扱う', '日本語', '解析']\n"
     ]
    }
   ],
   "source": [
    "s = set(tokens) # リストを集合に変換\n",
    "l = list(s)  # 再度リストに戻す\n",
    "l.sort()  # ソート\n",
    "print(l)  # 結果確認"
   ]
  },
  {
   "cell_type": "code",
   "execution_count": 39,
   "metadata": {},
   "outputs": [
    {
     "name": "stdout",
     "output_type": "stream",
     "text": [
      "{'AI': 0, '、': 1, '。': 2, 'が': 3, 'で': 4, 'です': 5, 'に': 6, 'は': 7, 'を': 8, '処理': 9, '形態素': 10, '必須': 11, '扱う': 12, '日本語': 13, '解析': 14}\n"
     ]
    }
   ],
   "source": [
    "# リストから単語辞書を作成する\n",
    "w2n = {}\n",
    "for ind, word in enumerate(l):\n",
    "    w2n[word] = ind\n",
    "print(w2n)"
   ]
  },
  {
   "cell_type": "code",
   "execution_count": 41,
   "metadata": {},
   "outputs": [
    {
     "name": "stdout",
     "output_type": "stream",
     "text": [
      "[13, 8, 0, 4, 12, 6, 7, 1, 10, 14, 9, 3, 11, 5, 2]\n"
     ]
    }
   ],
   "source": [
    "# 辞書を使って単語を数値に変換\n",
    "nums = [w2n[item] for item in tokens]\n",
    "    \n",
    "# 結果確認\n",
    "print(nums)"
   ]
  },
  {
   "cell_type": "code",
   "execution_count": null,
   "metadata": {},
   "outputs": [],
   "source": []
  }
 ],
 "metadata": {
  "accelerator": "GPU",
  "colab": {
   "collapsed_sections": [],
   "name": "ch05_03_nmist.ipynb",
   "provenance": []
  },
  "kernelspec": {
   "display_name": "Python 3",
   "language": "python",
   "name": "python3"
  },
  "language_info": {
   "codemirror_mode": {
    "name": "ipython",
    "version": 3
   },
   "file_extension": ".py",
   "mimetype": "text/x-python",
   "name": "python",
   "nbconvert_exporter": "python",
   "pygments_lexer": "ipython3",
   "version": "3.7.6"
  }
 },
 "nbformat": 4,
 "nbformat_minor": 1
}
