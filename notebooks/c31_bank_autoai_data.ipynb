{
  "nbformat": 4,
  "nbformat_minor": 0,
  "metadata": {
    "colab": {
      "name": "c31_bank_autoai_data.ipynb",
      "provenance": []
    },
    "kernelspec": {
      "display_name": "Python 3",
      "language": "python",
      "name": "python3"
    },
    "language_info": {
      "codemirror_mode": {
        "name": "ipython",
        "version": 3
      },
      "file_extension": ".py",
      "mimetype": "text/x-python",
      "name": "python",
      "nbconvert_exporter": "python",
      "pygments_lexer": "ipython3",
      "version": "3.7.6"
    }
  },
  "cells": [
    {
      "cell_type": "markdown",
      "metadata": {
        "id": "90tmSuTp4_xI",
        "colab_type": "text"
      },
      "source": [
        "## AutoAIデータ作成用"
      ]
    },
    {
      "cell_type": "markdown",
      "metadata": {
        "colab_type": "text",
        "id": "7buSd9V8DD5l"
      },
      "source": [
        "### 共通事前処理"
      ]
    },
    {
      "cell_type": "code",
      "metadata": {
        "colab_type": "code",
        "id": "j_iOBA19DD5m",
        "colab": {}
      },
      "source": [
        "# 日本語化ライブラリ導入\n",
        "!pip install japanize-matplotlib | tail -n 1"
      ],
      "execution_count": null,
      "outputs": []
    },
    {
      "cell_type": "code",
      "metadata": {
        "colab_type": "code",
        "id": "1Mxrs7MVDD5p",
        "colab": {}
      },
      "source": [
        "# 共通事前処理\n",
        "\n",
        "# 余分なワーニングを非表示にする\n",
        "import warnings\n",
        "warnings.filterwarnings('ignore')\n",
        "\n",
        "# 必要ライブラリのimport\n",
        "import pandas as pd\n",
        "import numpy as np\n",
        "import matplotlib.pyplot as plt\n",
        "\n",
        "# matplotlib日本語化対応\n",
        "import japanize_matplotlib\n",
        "\n",
        "# データフレーム表示用関数\n",
        "from IPython.display import display\n",
        "\n",
        "# 表示オプション調整\n",
        "# numpyの浮動小数点の表示精度\n",
        "np.set_printoptions(suppress=True, precision=4)\n",
        "# pandasでの浮動小数点の表示精度\n",
        "pd.options.display.float_format = '{:.4f}'.format\n",
        "# データフレームですべての項目を表示\n",
        "pd.set_option(\"display.max_columns\",None)\n",
        "# グラフのデフォルトフォント指定\n",
        "plt.rcParams[\"font.size\"] = 14\n",
        "# 乱数の種\n",
        "random_seed = 123"
      ],
      "execution_count": null,
      "outputs": []
    },
    {
      "cell_type": "markdown",
      "metadata": {
        "colab_type": "text",
        "id": "vqPhIS63DD5u"
      },
      "source": [
        "#### データ読み込み"
      ]
    },
    {
      "cell_type": "code",
      "metadata": {
        "colab_type": "code",
        "id": "qvloe3H9DD5v",
        "colab": {}
      },
      "source": [
        "# 公開データのダウンロードと解凍\n",
        "!wget https://archive.ics.uci.edu/ml/\\\n",
        "machine-learning-databases/00222/bank.zip -O bank.zip\n",
        "!unzip -o bank.zip\n",
        "\n",
        "# bank-full.csvをデータフレームに取り込み\n",
        "df_all = pd.read_csv('bank-full.csv', sep=';')\n",
        "\n",
        "# 項目名を日本語に置き換える\n",
        "columns = [\n",
        "    '年齢', '職業', '婚姻', '学歴', '債務不履行', '平均残高',\n",
        "    '住宅ローン', '個人ローン', '連絡手段', '最終通話日',\n",
        "    '最終通話月', '最終通話秒数', '通話回数_販促中',\n",
        "    '前回販促後_経過日数', '通話回数_販促前', '前回販促結果',\n",
        "    '今回販促結果'\n",
        "]\n",
        "df_all.columns = columns\n",
        "y = df_all['今回販促結果'].values\n"
      ],
      "execution_count": null,
      "outputs": []
    },
    {
      "cell_type": "markdown",
      "metadata": {
        "colab_type": "text",
        "id": "ag6NF3YGDD6B"
      },
      "source": [
        "#### データ分割"
      ]
    },
    {
      "cell_type": "code",
      "metadata": {
        "colab_type": "code",
        "id": "RNM-n5xNDD6B",
        "colab": {}
      },
      "source": [
        "# 訓練データと検証データの分割\n",
        "# 訓練データ60% 検証データ40%の比率で分割する\n",
        "test_size = 0.4\n",
        "\n",
        "from sklearn.model_selection import train_test_split\n",
        "df_train, df_test = train_test_split(\n",
        "  df_all, test_size=test_size, random_state=random_seed,\n",
        "  stratify=y)"
      ],
      "execution_count": null,
      "outputs": []
    },
    {
      "cell_type": "markdown",
      "metadata": {
        "id": "2vy26R1C4_xc",
        "colab_type": "text"
      },
      "source": [
        "#### 結果確認"
      ]
    },
    {
      "cell_type": "code",
      "metadata": {
        "id": "-ZtNY8Xk4_xd",
        "colab_type": "code",
        "colab": {}
      },
      "source": [
        "display(df_train.head())"
      ],
      "execution_count": null,
      "outputs": []
    },
    {
      "cell_type": "code",
      "metadata": {
        "id": "lN-2e3Rn4_xg",
        "colab_type": "code",
        "colab": {}
      },
      "source": [
        "display(df_test.head())"
      ],
      "execution_count": null,
      "outputs": []
    },
    {
      "cell_type": "markdown",
      "metadata": {
        "id": "cJHjTNSk4_xj",
        "colab_type": "text"
      },
      "source": [
        "#### 保存"
      ]
    },
    {
      "cell_type": "code",
      "metadata": {
        "id": "Q7xIaSw34_xk",
        "colab_type": "code",
        "colab": {}
      },
      "source": [
        "fn_train = 'bank-train-autoai.csv'\n",
        "df_train.to_csv(fn_train, index=False)"
      ],
      "execution_count": null,
      "outputs": []
    },
    {
      "cell_type": "code",
      "metadata": {
        "id": "kkbqasuT4_xo",
        "colab_type": "code",
        "colab": {}
      },
      "source": [
        "fn_test = 'bank-test-autoai.csv'\n",
        "df_test.to_csv(fn_test, index=False)"
      ],
      "execution_count": null,
      "outputs": []
    },
    {
      "cell_type": "markdown",
      "metadata": {
        "id": "JuiO_tul4_xr",
        "colab_type": "text"
      },
      "source": [
        "#### Google Colabからダウンロード"
      ]
    },
    {
      "cell_type": "code",
      "metadata": {
        "id": "u89nW8Y24_xr",
        "colab_type": "code",
        "colab": {}
      },
      "source": [
        "try:\n",
        "    from google.colab import files\n",
        "    files.download(fn_train) \n",
        "    files.download(fn_test)      \n",
        "except:\n",
        "    print('not google colab')"
      ],
      "execution_count": null,
      "outputs": []
    },
    {
      "cell_type": "markdown",
      "metadata": {
        "id": "30EjA4qV0gpi",
        "colab_type": "text"
      },
      "source": [
        "### 検証データをJSON形式に変更"
      ]
    },
    {
      "cell_type": "code",
      "metadata": {
        "id": "uBi4-vOw4_xu",
        "colab_type": "code",
        "colab": {}
      },
      "source": [
        "df_test_yes = df_test[df_test['今回販促結果']=='yes'].head(20)\n",
        "df_test_no = df_test[df_test['今回販促結果']=='no'].head(20)\n",
        "display(df_test_yes.head())\n",
        "display(df_test_no.head())"
      ],
      "execution_count": null,
      "outputs": []
    },
    {
      "cell_type": "code",
      "metadata": {
        "id": "RQchj0xm0rTw",
        "colab_type": "code",
        "colab": {}
      },
      "source": [
        "x_test_yes = df_test_yes.drop(['今回販促結果'], axis=1)\n",
        "x_test_no = df_test_no.drop(['今回販促結果'], axis=1)\n",
        "display(x_test_yes.head())\n",
        "display(x_test_no.head())"
      ],
      "execution_count": null,
      "outputs": []
    },
    {
      "cell_type": "code",
      "metadata": {
        "id": "ykrF6mov0rgF",
        "colab_type": "code",
        "colab": {}
      },
      "source": [
        "columns = list(x_test_yes.columns)\n",
        "yes_values = x_test_yes.values\n",
        "no_values = x_test_no.values\n",
        "print(columns)\n",
        "print(yes_values[:5,:])"
      ],
      "execution_count": null,
      "outputs": []
    },
    {
      "cell_type": "code",
      "metadata": {
        "id": "OT4oA5lo0rtH",
        "colab_type": "code",
        "colab": {}
      },
      "source": [
        "# yes用jsonデータ\n",
        "import json\n",
        "w1 = {}\n",
        "w1['fields'] = columns\n",
        "w1['values'] = yes_values.tolist()\n",
        "u1 = {\"input_data\": [w1]}\n",
        "d1 = json.dumps(u1,ensure_ascii=False)\n",
        "print(d1)"
      ],
      "execution_count": null,
      "outputs": []
    },
    {
      "cell_type": "code",
      "metadata": {
        "colab_type": "code",
        "id": "mq2hl4maDD6h",
        "colab": {}
      },
      "source": [
        "# no用jsonデータ\n",
        "w2 = {}\n",
        "w2['fields'] = columns\n",
        "w2['values'] = no_values.tolist()\n",
        "u2 = {\"input_data\": [w2]}\n",
        "d2 = json.dumps(u2, ensure_ascii=False)\n",
        "print(d2)"
      ],
      "execution_count": null,
      "outputs": []
    },
    {
      "cell_type": "code",
      "metadata": {
        "id": "fHTGeLAK68NC",
        "colab_type": "code",
        "colab": {}
      },
      "source": [
        ""
      ],
      "execution_count": null,
      "outputs": []
    }
  ]
}